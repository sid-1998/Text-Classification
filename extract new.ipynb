{
 "cells": [
  {
   "cell_type": "code",
   "execution_count": 1,
   "metadata": {},
   "outputs": [],
   "source": [
    "import sklearn.datasets as skd\n",
    "categories = ['0']\n",
    "ds = skd.load_files(\"./dataset/\", categories=categories, encoding=\"UTF-8\")"
   ]
  },
  {
   "cell_type": "code",
   "execution_count": 3,
   "metadata": {},
   "outputs": [
    {
     "data": {
      "text/plain": [
       "'\\n\\n\\n\\n\\n\\n\\nexv10w1\\n\\n\\n\\n\\n\\n\\n\\nExhibit\\xa010.1\\n\\n\\n\\n\\n\\nSeptember\\xa09, 2003\\n\\nMs.\\xa0Kathryn Winkelhaus\\n\\n5040 Oak Tree Court\\n\\nAnn Arbor MI 48108\\n\\n\\n\\nDear Kathryn:\\n\\n\\nI am pleased to offer you the position of Vice President and Chief Operating\\nOfficer for Childtime Learning Centers Inc. and to confirm the following\\ndetails regarding your compensation, benefits and other information:\\n\\n\\n\\n1.\\t\\xa0\\tYou will report directly to William Davis, President and Chief\\nExecutive Officer, and will begin employment on a mutually agreed upon\\nstart date.\\n\\n2.\\t\\xa0\\tYour starting base salary will be $190,000 per annum payable in\\nbiweekly installments.\\n\\n3.\\t\\xa0\\tYou will have the opportunity to earn an annual cash bonus (the\\n“Annual Bonus”) payable within 90\\xa0days after the end of each fiscal\\nyear in an amount up to a maximum of 75% of your annual earned base\\nsalary. You may start earning this bonus when the Company reaches 95.1%\\nof budgeted EBITDA and may earn a bonus of up to (a)\\xa050% on a pro-rata\\nbasis for achieving up to 100% of budgeted EBITDA or (b)\\xa075% on a pro\\nrata basis for achieving more than 100%, up to 120% of budgeted EBITDA.\\n\\n4.\\t\\xa0\\tFor the fiscal year 2004 (fiscal year ending March 2004), you will\\nbe paid a minimum of a $50,000 Annual Bonus contingent upon achieving\\ncertain business objectives. These objectives will be determined\\nwithin 60\\xa0days of your hire date.\\n\\n5.\\t\\xa0\\tWithin six months after your acceptance of this offer, and upon\\nyour request, the Company’s senior management will recommend that the\\nCompensation Committee approve the grant to you of (a)\\xa0the right to\\npurchase (the “Purchase Award”) of up to $100,000 of the common stock\\nof the Company, based on the closing price of the common stock on the\\ndate of grant, for the 10\\xa0day period after the date of grant, and (b)\\nOptions to purchase four times the number of\\nshares subject to the Purchase Award, at the option exercise price equal\\nto the closing price of the Corporation’s common stock on the grant date.\\nThe Options would be non-qualified options granted in accordance with\\nthe Company’s 2003 Equity Compensation Plan. These Options would become\\nexercisable and vest at the rate of 20% per year, commencing on the\\none-year anniversary of the date of grant for five years. These Options\\nwould expire if not exercised by the anniversary of the grant date in the\\nyear 2009. The vesting of these Options would be further subject to your\\npurchase of shares under the Purchase Award, with the number of shares\\nthat may be purchased under the Options to equal four times the number of\\nshares purchased under the Purchase Award. These Options would also be\\nsubject to such other terms and provisions applicable to the Company’s\\nstandard option grants and to the Plan.\\n\\n\\n\\n\\n\\n\\n\\n\\n\\n\\n\\n\\n\\n\\n\\n6.\\t\\xa0\\tYou will be eligible for participation in the Company’s\\ncontributory medical, vision, dental and life insurance plans effective\\nNovember\\xa01, 2003.\\n\\n7.\\t\\xa0\\tYou will be eligible for four weeks of vacation per anniversary\\nyear. You will also be eligible for participation in the Company’s\\n401(k) program.\\n\\n8.\\t\\xa0\\tYour employment will be “At Will” and you will serve at the\\npleasure of the President and CEO of the company.\\n\\n\\n\\n\\nPlease sign your acknowledgement of your receipt and understanding of this\\nletter below, and return to me as soon as possible. Please do not hesitate\\nto contact me should you have any questions.\\n\\nWe at both Childtime and Tutor Time are looking very forward to having you\\nas a part of our team during this exciting time, and trust that your\\nemployment with us will be both challenging and rewarding.\\n\\n\\n\\nVery truly yours,\\n\\n\\n\\n/s/ Scott W. Smith\\n\\n\\n\\n\\n\\n\\nScott W. Smith\\n\\nVice President Human Resources\\n\\nChildtime Learning Centers, Inc.\\n\\n\\n\\n\\nACKNOWLEDGED:\\n/s/ Kathryn Winkelhaus\\nDate:9/15/03\\n\\n\\n\\n\\nKathryn Winkelhaus\\n\\n\\n\\n\\n\\n'"
      ]
     },
     "execution_count": 3,
     "metadata": {},
     "output_type": "execute_result"
    }
   ],
   "source": [
    "ds.data[0]"
   ]
  },
  {
   "cell_type": "code",
   "execution_count": null,
   "metadata": {},
   "outputs": [],
   "source": []
  }
 ],
 "metadata": {
  "kernelspec": {
   "display_name": "Python 3",
   "language": "python",
   "name": "python3"
  },
  "language_info": {
   "codemirror_mode": {
    "name": "ipython",
    "version": 3
   },
   "file_extension": ".py",
   "mimetype": "text/x-python",
   "name": "python",
   "nbconvert_exporter": "python",
   "pygments_lexer": "ipython3",
   "version": "3.6.5"
  }
 },
 "nbformat": 4,
 "nbformat_minor": 2
}
