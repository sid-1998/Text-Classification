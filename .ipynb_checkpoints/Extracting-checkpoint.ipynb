{
 "cells": [
  {
   "cell_type": "code",
   "execution_count": 84,
   "metadata": {},
   "outputs": [],
   "source": [
    "import sklearn.datasets as skd\n",
    "from nltk.tokenize import sent_tokenize,word_tokenize\n",
    "from nltk.corpus import stopwords\n",
    "import string\n",
    "from nltk.stem import WordNetLemmatizer\n",
    "import numpy as np\n",
    "import re"
   ]
  },
  {
   "cell_type": "code",
   "execution_count": 11,
   "metadata": {},
   "outputs": [],
   "source": [
    "categories = ['0']\n",
    "ds = skd.load_files(\"./dataset/\", categories=categories, encoding=\"UTF-8\")"
   ]
  },
  {
   "cell_type": "code",
   "execution_count": 290,
   "metadata": {},
   "outputs": [
    {
     "data": {
      "text/plain": [
       "'\\n\\n\\n\\n\\n\\n\\nexv10w1\\n\\n\\n\\n\\n\\n\\n\\nExhibit\\xa010.1\\n\\n\\n\\n\\n\\nSeptember\\xa09, 2003\\n\\nMs.\\xa0Kathryn Winkelhaus\\n\\n5040 Oak Tree Court\\n\\nAnn Arbor MI 48108\\n\\n\\n\\nDear Kathryn:\\n\\n\\nI am pleased to offer you the position of Vice President and Chief Operating\\nOfficer for Childtime Learning Centers Inc. and to confirm the following\\ndetails regarding your compensation, benefits and other information:\\n\\n\\n\\n1.\\t\\xa0\\tYou will report directly to William Davis, President and Chief\\nExecutive Officer, and will begin employment on a mutually agreed upon\\nstart date.\\n\\n2.\\t\\xa0\\tYour starting base salary will be $190,000 per annum payable in\\nbiweekly installments.\\n\\n3.\\t\\xa0\\tYou will have the opportunity to earn an annual cash bonus (the\\n“Annual Bonus”) payable within 90\\xa0days after the end of each fiscal\\nyear in an amount up to a maximum of 75% of your annual earned base\\nsalary. You may start earning this bonus when the Company reaches 95.1%\\nof budgeted EBITDA and may earn a bonus of up to (a)\\xa050% on a pro-rata\\nbasis for achieving up to 100% of budgeted EBITDA or (b)\\xa075% on a pro\\nrata basis for achieving more than 100%, up to 120% of budgeted EBITDA.\\n\\n4.\\t\\xa0\\tFor the fiscal year 2004 (fiscal year ending March 2004), you will\\nbe paid a minimum of a $50,000 Annual Bonus contingent upon achieving\\ncertain business objectives. These objectives will be determined\\nwithin 60\\xa0days of your hire date.\\n\\n5.\\t\\xa0\\tWithin six months after your acceptance of this offer, and upon\\nyour request, the Company’s senior management will recommend that the\\nCompensation Committee approve the grant to you of (a)\\xa0the right to\\npurchase (the “Purchase Award”) of up to $100,000 of the common stock\\nof the Company, based on the closing price of the common stock on the\\ndate of grant, for the 10\\xa0day period after the date of grant, and (b)\\nOptions to purchase four times the number of\\nshares subject to the Purchase Award, at the option exercise price equal\\nto the closing price of the Corporation’s common stock on the grant date.\\nThe Options would be non-qualified options granted in accordance with\\nthe Company’s 2003 Equity Compensation Plan. These Options would become\\nexercisable and vest at the rate of 20% per year, commencing on the\\none-year anniversary of the date of grant for five years. These Options\\nwould expire if not exercised by the anniversary of the grant date in the\\nyear 2009. The vesting of these Options would be further subject to your\\npurchase of shares under the Purchase Award, with the number of shares\\nthat may be purchased under the Options to equal four times the number of\\nshares purchased under the Purchase Award. These Options would also be\\nsubject to such other terms and provisions applicable to the Company’s\\nstandard option grants and to the Plan.\\n\\n\\n\\n\\n\\n\\n\\n\\n\\n\\n\\n\\n\\n\\n\\n6.\\t\\xa0\\tYou will be eligible for participation in the Company’s\\ncontributory medical, vision, dental and life insurance plans effective\\nNovember\\xa01, 2003.\\n\\n7.\\t\\xa0\\tYou will be eligible for four weeks of vacation per anniversary\\nyear. You will also be eligible for participation in the Company’s\\n401(k) program.\\n\\n8.\\t\\xa0\\tYour employment will be “At Will” and you will serve at the\\npleasure of the President and CEO of the company.\\n\\n\\n\\n\\nPlease sign your acknowledgement of your receipt and understanding of this\\nletter below, and return to me as soon as possible. Please do not hesitate\\nto contact me should you have any questions.\\n\\nWe at both Childtime and Tutor Time are looking very forward to having you\\nas a part of our team during this exciting time, and trust that your\\nemployment with us will be both challenging and rewarding.\\n\\n\\n\\nVery truly yours,\\n\\n\\n\\n/s/ Scott W. Smith\\n\\n\\n\\n\\n\\n\\nScott W. Smith\\n\\nVice President Human Resources\\n\\nChildtime Learning Centers, Inc.\\n\\n\\n\\n\\nACKNOWLEDGED:\\n/s/ Kathryn Winkelhaus\\nDate:9/15/03\\n\\n\\n\\n\\nKathryn Winkelhaus\\n\\n\\n\\n\\n\\n'"
      ]
     },
     "execution_count": 290,
     "metadata": {},
     "output_type": "execute_result"
    }
   ],
   "source": [
    "ds.data[0]"
   ]
  },
  {
   "cell_type": "code",
   "execution_count": 228,
   "metadata": {},
   "outputs": [],
   "source": [
    "def clean(text):\n",
    "    \n",
    "    ## Remove puncuation\n",
    "#     text = text.translate(string.punctuation)\n",
    "    \n",
    "    ## Convert words to lower case and split them\n",
    "    text = text.lower().split()\n",
    "    \n",
    "    ## Remove stop words\n",
    "    stops = set(stopwords.words(\"english\"))\n",
    "    text = [w for w in text if not w in stops and len(w) >= 3]\n",
    "    \n",
    "    text = \" \".join(text)\n",
    "    ## Clean the text\n",
    "    text = re.sub(r\"[^A-Za-z0-9^!,.\\/'+-=]\", \" \", text)\n",
    "    text = re.sub(r\"what's\", \"what is \", text)\n",
    "    text = re.sub(r\"\\'s\", \" \", text)\n",
    "    text = re.sub(r\"\\'ve\", \" have \", text)\n",
    "    text = re.sub(r\"n't\", \" not \", text)\n",
    "    text = re.sub(r\"i'm\", \"i am \", text)\n",
    "    text = re.sub(r\"\\'re\", \" are \", text)\n",
    "    text = re.sub(r\"\\'d\", \" would \", text)\n",
    "    text = re.sub(r\"\\'ll\", \" will \", text)\n",
    "#     text = re.sub(r\",\", \" \", text)\n",
    "    text = re.sub(r\"\\.\", \" \", text)\n",
    "    text = re.sub(r\"!\", \" ! \", text)\n",
    "    text = re.sub(r\"\\/\", \" \", text)\n",
    "    text = re.sub(r\"\\^\", \" ^ \", text)\n",
    "    text = re.sub(r\"\\+\", \"  \", text)\n",
    "    text = re.sub(r\"\\-\", \"  \", text)\n",
    "    text = re.sub(r\"\\=\", \" = \", text)\n",
    "    text = re.sub(r\"'\", \" \", text)\n",
    "    text = re.sub(r\"(\\d+)(k)\", r\"\\g<1>000\", text)\n",
    "    text = re.sub(r\":\", \" : \", text)\n",
    "    text = re.sub(r\"e - mail\", \"email\", text)\n",
    "    text = re.sub(r\"j k\", \"jk\", text)\n",
    "    text = re.sub(r\"\\s{2,}\", \" \", text)\n",
    "#     ## Stemming\n",
    "#     text = text.split()\n",
    "#     lem = WordNetLemmatizer()\n",
    "#     lem_words = [lem.lemmatize (word) for word in text]\n",
    "#     text = \" \".join(lem_words)\n",
    "    return text "
   ]
  },
  {
   "cell_type": "markdown",
   "metadata": {},
   "source": [
    "## Approach one"
   ]
  },
  {
   "cell_type": "code",
   "execution_count": 229,
   "metadata": {},
   "outputs": [],
   "source": [
    "text = clean(ds.data[0])"
   ]
  },
  {
   "cell_type": "code",
   "execution_count": 230,
   "metadata": {},
   "outputs": [
    {
     "data": {
      "text/plain": [
       "'exv10w1 exhibit 10 1 september 2003 ms kathryn winkelhaus 5040 oak tree court ann arbor 48108 dear kathryn : pleased offer position vice president chief operating officer childtime learning centers inc confirm following details regarding compensation, benefits information : report directly william davis, president chief executive officer, begin employment mutually agreed upon start date starting base salary 190,000 per annum payable biweekly installments opportunity earn annual cash bonus the annual bonus payable within days end fiscal year amount maximum 75 annual earned base salary may start earning bonus company reaches 95 1 budgeted ebitda may earn bonus a 50 pro rata basis achieving 100 budgeted ebitda b 75 pro rata basis achieving 100 , 120 budgeted ebitda fiscal year 2004 fiscal year ending march 2004 , paid minimum 50,000 annual bonus contingent upon achieving certain business objectives objectives determined within days hire date within six months acceptance offer, upon request, company s senior management recommend compensation committee approve grant a right purchase the purchase award 100,000 common stock company, based closing price common stock date grant, day period date grant, b options purchase four times number shares subject purchase award, option exercise price equal closing price corporation s common stock grant date options would non qualified options granted accordance company s 2003 equity compensation plan options would become exercisable vest rate 20 per year, commencing one year anniversary date grant five years options would expire exercised anniversary grant date year 2009 vesting options would subject purchase shares purchase award, number shares may purchased options equal four times number shares purchased purchase award options would also subject terms provisions applicable company s standard option grants plan eligible participation company s contributory medical, vision, dental life insurance plans effective november 2003 eligible four weeks vacation per anniversary year also eligible participation company s 401 k program employment at will serve pleasure president ceo company please sign acknowledgement receipt understanding letter below, return soon possible please hesitate contact questions childtime tutor time looking forward part team exciting time, trust employment challenging rewarding truly yours, s scott smith scott smith vice president human resources childtime learning centers, inc acknowledged : s kathryn winkelhaus date : 9 15 03 kathryn winkelhaus'"
      ]
     },
     "execution_count": 230,
     "metadata": {},
     "output_type": "execute_result"
    }
   ],
   "source": [
    "text"
   ]
  },
  {
   "cell_type": "code",
   "execution_count": 231,
   "metadata": {},
   "outputs": [],
   "source": [
    "import nltk"
   ]
  },
  {
   "cell_type": "code",
   "execution_count": 325,
   "metadata": {
    "scrolled": true
   },
   "outputs": [],
   "source": [
    "tagged = []\n",
    "text_list = []\n",
    "text_list.append(text)\n",
    "for i in text_list:\n",
    "    w = nltk.word_tokenize(i)\n",
    "    t = nltk.pos_tag(w)\n",
    "#     tagged.append(t)\n",
    "#     chunkGram = r\"\"\"Chunk: {<NN.?>*<CD.?>*}\"\"\"\n",
    "#     chunkParser = nltk.RegexpParser(chunkGram)\n",
    "#     chunked = chunkParser.parse(t)\n",
    "#     namedEnt = nltk.ne_chunk(t, binary=True)\n",
    "    Nouns_List = []\n",
    "    salary = []\n",
    "    for Word in t:\n",
    "        if re.match('[NNP.*]', Word[1]):\n",
    "             Nouns_List.append(Word[0])\n",
    "        if re.match('[CD.*]', Word[1]):\n",
    "             salary.append(Word[0])\n",
    "        \n",
    "\n",
    "    \n",
    "    "
   ]
  },
  {
   "cell_type": "code",
   "execution_count": 326,
   "metadata": {},
   "outputs": [
    {
     "data": {
      "text/plain": [
       "['exhibit',\n",
       " 'september',\n",
       " 'ms',\n",
       " 'kathryn',\n",
       " 'winkelhaus',\n",
       " 'oak',\n",
       " 'court',\n",
       " 'kathryn',\n",
       " 'offer',\n",
       " 'position',\n",
       " 'vice',\n",
       " 'president',\n",
       " 'chief',\n",
       " 'officer',\n",
       " 'childtime',\n",
       " 'centers',\n",
       " 'details',\n",
       " 'compensation',\n",
       " 'benefits',\n",
       " 'information',\n",
       " 'report',\n",
       " 'davis',\n",
       " 'president',\n",
       " 'executive',\n",
       " 'officer',\n",
       " 'employment',\n",
       " 'start',\n",
       " 'date',\n",
       " 'base',\n",
       " 'annum',\n",
       " 'installments',\n",
       " 'opportunity',\n",
       " 'cash',\n",
       " 'bonus',\n",
       " 'days',\n",
       " 'year',\n",
       " 'amount',\n",
       " 'salary',\n",
       " 'company',\n",
       " 'ebitda',\n",
       " 'basis',\n",
       " 'ebitda',\n",
       " 'b',\n",
       " 'basis',\n",
       " 'year',\n",
       " 'year',\n",
       " 'march',\n",
       " 'bonus',\n",
       " 'contingent',\n",
       " 'business',\n",
       " 'objectives',\n",
       " 'objectives',\n",
       " 'days',\n",
       " 'date',\n",
       " 'months',\n",
       " 'acceptance',\n",
       " 'offer',\n",
       " 'request',\n",
       " 'company',\n",
       " 'management',\n",
       " 'recommend',\n",
       " 'compensation',\n",
       " 'committee',\n",
       " 'grant',\n",
       " 'purchase',\n",
       " 'purchase',\n",
       " 'award',\n",
       " 'stock',\n",
       " 'company',\n",
       " 'closing',\n",
       " 'price',\n",
       " 'stock',\n",
       " 'date',\n",
       " 'grant',\n",
       " 'day',\n",
       " 'period',\n",
       " 'date',\n",
       " 'grant',\n",
       " 'b',\n",
       " 'options',\n",
       " 'times',\n",
       " 'number',\n",
       " 'shares',\n",
       " 'purchase',\n",
       " 'award',\n",
       " 'option',\n",
       " 'exercise',\n",
       " 'price',\n",
       " 'closing',\n",
       " 'price',\n",
       " 'corporation',\n",
       " 's',\n",
       " 'stock',\n",
       " 'grant',\n",
       " 'date',\n",
       " 'options',\n",
       " 'options',\n",
       " 'company',\n",
       " 'equity',\n",
       " 'compensation',\n",
       " 'plan',\n",
       " 'options',\n",
       " 'rate',\n",
       " 'year',\n",
       " 'year',\n",
       " 'date',\n",
       " 'grant',\n",
       " 'years',\n",
       " 'options',\n",
       " 'grant',\n",
       " 'date',\n",
       " 'year',\n",
       " 'vesting',\n",
       " 'options',\n",
       " 'purchase',\n",
       " 'shares',\n",
       " 'number',\n",
       " 'shares',\n",
       " 'options',\n",
       " 'times',\n",
       " 'number',\n",
       " 'shares',\n",
       " 'purchase',\n",
       " 'award',\n",
       " 'options',\n",
       " 'terms',\n",
       " 'provisions',\n",
       " 'company',\n",
       " 'option',\n",
       " 'grants',\n",
       " 'participation',\n",
       " 'company',\n",
       " 'vision',\n",
       " 'life',\n",
       " 'insurance',\n",
       " 'plans',\n",
       " 'weeks',\n",
       " 'vacation',\n",
       " 'year',\n",
       " 'participation',\n",
       " 'company',\n",
       " 'k',\n",
       " 'program',\n",
       " 'employment',\n",
       " 'pleasure',\n",
       " 'president',\n",
       " 'ceo',\n",
       " 'company',\n",
       " 'receipt',\n",
       " 'letter',\n",
       " 'please',\n",
       " 'questions',\n",
       " 'tutor',\n",
       " 'time',\n",
       " 'part',\n",
       " 'team',\n",
       " 'exciting',\n",
       " 'time',\n",
       " 'employment',\n",
       " 'yours',\n",
       " 'scott',\n",
       " 'smith',\n",
       " 'scott',\n",
       " 'vice',\n",
       " 'president',\n",
       " 'resources',\n",
       " 'centers',\n",
       " 'inc',\n",
       " 's',\n",
       " 'kathryn',\n",
       " 'winkelhaus',\n",
       " 'date',\n",
       " 'kathryn',\n",
       " 'winkelhaus']"
      ]
     },
     "execution_count": 326,
     "metadata": {},
     "output_type": "execute_result"
    }
   ],
   "source": [
    "Nouns_List"
   ]
  },
  {
   "cell_type": "code",
   "execution_count": 327,
   "metadata": {},
   "outputs": [
    {
     "data": {
      "text/plain": [
       "['10',\n",
       " '1',\n",
       " '2003',\n",
       " '5040',\n",
       " '48108',\n",
       " '190,000',\n",
       " 'the',\n",
       " '75',\n",
       " '95',\n",
       " '1',\n",
       " 'a',\n",
       " '50',\n",
       " '100',\n",
       " '75',\n",
       " '100',\n",
       " '120',\n",
       " '2004',\n",
       " '2004',\n",
       " '50,000',\n",
       " 'six',\n",
       " 'a',\n",
       " 'the',\n",
       " '100,000',\n",
       " 'four',\n",
       " '2003',\n",
       " '20',\n",
       " 'one',\n",
       " 'five',\n",
       " '2009',\n",
       " 'four',\n",
       " '2003',\n",
       " 'four',\n",
       " '401',\n",
       " '9',\n",
       " '15',\n",
       " '03']"
      ]
     },
     "execution_count": 327,
     "metadata": {},
     "output_type": "execute_result"
    }
   ],
   "source": [
    "salary"
   ]
  },
  {
   "cell_type": "markdown",
   "metadata": {},
   "source": [
    "## Approach 2"
   ]
  },
  {
   "cell_type": "code",
   "execution_count": 328,
   "metadata": {},
   "outputs": [],
   "source": [
    "import re\n",
    "import nltk\n",
    "from nltk.corpus import stopwords\n",
    "stop = stopwords.words('english')"
   ]
  },
  {
   "cell_type": "code",
   "execution_count": 303,
   "metadata": {},
   "outputs": [],
   "source": [
    "def ie_preprocess(document):\n",
    "    document = ' '.join([i for i in document.split() if i not in stop])\n",
    "    sentences = nltk.sent_tokenize(document)\n",
    "    sentences = [nltk.word_tokenize(sent) for sent in sentences]\n",
    "    sentences = [nltk.pos_tag(sent) for sent in sentences]\n",
    "    return sentences"
   ]
  },
  {
   "cell_type": "code",
   "execution_count": 304,
   "metadata": {},
   "outputs": [],
   "source": [
    "def extract_names(document):\n",
    "    names = []\n",
    "\n",
    "    sentences = ie_preprocess(document)\n",
    "    for tagged_sentence in sentences:\n",
    "        for chunk in nltk.ne_chunk(tagged_sentence):\n",
    "            if type(chunk) == nltk.tree.Tree:\n",
    "                if chunk.label() == 'PERSON':\n",
    "                    names.append(' '.join([c[0] for c in chunk]))\n",
    "\n",
    "    return names"
   ]
  },
  {
   "cell_type": "code",
   "execution_count": 305,
   "metadata": {},
   "outputs": [],
   "source": [
    "def extract_org(document):\n",
    "    organization = []\n",
    "    sentences = ie_preprocess(document)\n",
    "    for tagged_sentence in sentences:\n",
    "        for chunk in nltk.ne_chunk(tagged_sentence):\n",
    "            if type(chunk) == nltk.tree.Tree:\n",
    "                if chunk.label() == 'ORGANIZATION':\n",
    "                    organization.append(' '.join([c[0] for c in chunk]))\n",
    "    return organization"
   ]
  },
  {
   "cell_type": "code",
   "execution_count": 306,
   "metadata": {},
   "outputs": [],
   "source": [
    "def extract_money(document):\n",
    "    money = []\n",
    "    sentences = ie_preprocess(document)\n",
    "    for tagged_sentence in sentences:\n",
    "        for chunk in nltk.ne_chunk(tagged_sentence):\n",
    "            if type(chunk) == nltk.tree.Tree:\n",
    "                if chunk.label() == 'MONEY':\n",
    "                    money.append(' '.join([c[0] for c in chunk]))\n",
    "    return money"
   ]
  },
  {
   "cell_type": "code",
   "execution_count": 307,
   "metadata": {},
   "outputs": [],
   "source": [
    "def extract_date(document):\n",
    "    date = []\n",
    "    sentences = ie_preprocess(document)\n",
    "    for tagged_sentence in sentences:\n",
    "        for chunk in nltk.ne_chunk(tagged_sentence):\n",
    "            if type(chunk) == nltk.tree.Tree:\n",
    "                if chunk.label() == 'DATE':\n",
    "                    date.append(' '.join([c[0] for c in chunk]))\n",
    "    return date"
   ]
  },
  {
   "cell_type": "code",
   "execution_count": 308,
   "metadata": {},
   "outputs": [],
   "source": [
    "names = extract_names(ds.data[0])"
   ]
  },
  {
   "cell_type": "code",
   "execution_count": 309,
   "metadata": {},
   "outputs": [
    {
     "data": {
      "text/plain": [
       "['Kathryn Winkelhaus',\n",
       " 'Ann Arbor',\n",
       " 'William Davis',\n",
       " 'Annual Bonus',\n",
       " 'Annual Bonus',\n",
       " 'Award',\n",
       " 'Award',\n",
       " 'Options',\n",
       " 'Purchase Award',\n",
       " 'Options',\n",
       " 'Purchase Award',\n",
       " 'Scott W. Smith Scott',\n",
       " 'Smith',\n",
       " 'Human Resources Childtime Learning Centers',\n",
       " 'Inc.',\n",
       " 'Kathryn Winkelhaus',\n",
       " 'Kathryn Winkelhaus']"
      ]
     },
     "execution_count": 309,
     "metadata": {},
     "output_type": "execute_result"
    }
   ],
   "source": [
    "names"
   ]
  },
  {
   "cell_type": "code",
   "execution_count": 310,
   "metadata": {},
   "outputs": [],
   "source": [
    "organization = extract_org(ds.data[0])"
   ]
  },
  {
   "cell_type": "code",
   "execution_count": 311,
   "metadata": {},
   "outputs": [
    {
     "data": {
      "text/plain": [
       "['Centers Inc.',\n",
       " 'Company',\n",
       " 'EBITDA',\n",
       " 'EBITDA',\n",
       " 'EBITDA',\n",
       " 'Company',\n",
       " 'Compensation Committee',\n",
       " 'Company',\n",
       " 'Corporation',\n",
       " 'Options',\n",
       " 'Company',\n",
       " 'Equity Compensation Plan',\n",
       " 'Company',\n",
       " 'Company',\n",
       " 'Company']"
      ]
     },
     "execution_count": 311,
     "metadata": {},
     "output_type": "execute_result"
    }
   ],
   "source": [
    "organization"
   ]
  },
  {
   "cell_type": "code",
   "execution_count": 300,
   "metadata": {},
   "outputs": [],
   "source": [
    "money = extract_money(ds.data[0])"
   ]
  },
  {
   "cell_type": "code",
   "execution_count": 301,
   "metadata": {},
   "outputs": [
    {
     "data": {
      "text/plain": [
       "[]"
      ]
     },
     "execution_count": 301,
     "metadata": {},
     "output_type": "execute_result"
    }
   ],
   "source": [
    "money"
   ]
  },
  {
   "cell_type": "code",
   "execution_count": 302,
   "metadata": {},
   "outputs": [],
   "source": [
    "date = extract_date(ds.data[0])"
   ]
  },
  {
   "cell_type": "code",
   "execution_count": 289,
   "metadata": {},
   "outputs": [
    {
     "data": {
      "text/plain": [
       "[]"
      ]
     },
     "execution_count": 289,
     "metadata": {},
     "output_type": "execute_result"
    }
   ],
   "source": [
    "date"
   ]
  },
  {
   "cell_type": "code",
   "execution_count": null,
   "metadata": {},
   "outputs": [],
   "source": []
  }
 ],
 "metadata": {
  "kernelspec": {
   "display_name": "Python 3",
   "language": "python",
   "name": "python3"
  },
  "language_info": {
   "codemirror_mode": {
    "name": "ipython",
    "version": 3
   },
   "file_extension": ".py",
   "mimetype": "text/x-python",
   "name": "python",
   "nbconvert_exporter": "python",
   "pygments_lexer": "ipython3",
   "version": "3.6.5"
  }
 },
 "nbformat": 4,
 "nbformat_minor": 2
}
