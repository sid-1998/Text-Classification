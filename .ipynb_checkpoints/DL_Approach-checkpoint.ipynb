{
 "cells": [
  {
   "cell_type": "code",
   "execution_count": 15,
   "metadata": {},
   "outputs": [],
   "source": [
    "from keras.preprocessing.text import Tokenizer\n",
    "from keras.preprocessing.sequence import pad_sequences\n",
    "from keras.models import Sequential\n",
    "from keras.layers import Dense, Flatten, LSTM, Conv1D, MaxPooling1D, Dropout, Activation\n",
    "from keras.layers.embeddings import Embedding\n",
    "\n",
    "import nltk\n",
    "import string\n",
    "import numpy as np\n",
    "import pandas as pd\n",
    "from nltk.corpus import stopwords\n",
    "\n",
    "from sklearn.manifold import TSNE\n",
    "import re\n",
    "from nltk.stem import SnowballStemmer"
   ]
  },
  {
   "cell_type": "code",
   "execution_count": 20,
   "metadata": {},
   "outputs": [],
   "source": [
    "def clean_text(text):\n",
    "    \n",
    "    ## Remove puncuation\n",
    "    text = text.translate(string.punctuation)\n",
    "    \n",
    "    ## Convert words to lower case and split them\n",
    "    text = text.lower().split()\n",
    "    \n",
    "    ## Remove stop words\n",
    "    stops = set(stopwords.words(\"english\"))\n",
    "    text = [w for w in text if not w in stops and len(w) >= 3]\n",
    "    \n",
    "    text = \" \".join(text)\n",
    "    ## Clean the text\n",
    "    text = re.sub(r\"[^A-Za-z0-9^,!.\\/'+-=]\", \" \", text)\n",
    "    text = re.sub(r\"what's\", \"what is \", text)\n",
    "    text = re.sub(r\"\\'s\", \" \", text)\n",
    "    text = re.sub(r\"\\'ve\", \" have \", text)\n",
    "    text = re.sub(r\"n't\", \" not \", text)\n",
    "    text = re.sub(r\"i'm\", \"i am \", text)\n",
    "    text = re.sub(r\"\\'re\", \" are \", text)\n",
    "    text = re.sub(r\"\\'d\", \" would \", text)\n",
    "    text = re.sub(r\"\\'ll\", \" will \", text)\n",
    "    text = re.sub(r\",\", \" \", text)\n",
    "    text = re.sub(r\"\\.\", \" \", text)\n",
    "    text = re.sub(r\"!\", \" ! \", text)\n",
    "    text = re.sub(r\"\\/\", \" \", text)\n",
    "    text = re.sub(r\"\\^\", \" ^ \", text)\n",
    "    text = re.sub(r\"\\+\", \"  \", text)\n",
    "    text = re.sub(r\"\\-\", \"  \", text)\n",
    "    text = re.sub(r\"\\=\", \" = \", text)\n",
    "    text = re.sub(r\"'\", \" \", text)\n",
    "    text = re.sub(r\"(\\d+)(k)\", r\"\\g<1>000\", text)\n",
    "    text = re.sub(r\":\", \" : \", text)\n",
    "    text = re.sub(r\" e g \", \" eg \", text)\n",
    "    text = re.sub(r\" b g \", \" bg \", text)\n",
    "    text = re.sub(r\" u s \", \" american \", text)\n",
    "    text = re.sub(r\"\\0s\", \"0\", text)\n",
    "    text = re.sub(r\" 9 11 \", \"911\", text)\n",
    "    text = re.sub(r\"e - mail\", \"email\", text)\n",
    "    text = re.sub(r\"j k\", \"jk\", text)\n",
    "    text = re.sub(r\"\\s{2,}\", \" \", text)\n",
    "    ## Stemming\n",
    "    text = text.split()\n",
    "    stemmer = SnowballStemmer('english')\n",
    "    stemmed_words = [stemmer.stem(word) for word in text]\n",
    "    text = \" \".join(stemmed_words)\n",
    "    return text "
   ]
  },
  {
   "cell_type": "code",
   "execution_count": 21,
   "metadata": {},
   "outputs": [],
   "source": [
    "import sklearn.datasets as skd"
   ]
  },
  {
   "cell_type": "code",
   "execution_count": 22,
   "metadata": {},
   "outputs": [],
   "source": [
    "categories = ['0', '1']\n",
    "ds = skd.load_files(\"./dataset/\", categories=categories, encoding=\"UTF-8\")\n",
    "length = len(ds.data)"
   ]
  },
  {
   "cell_type": "code",
   "execution_count": 23,
   "metadata": {},
   "outputs": [],
   "source": [
    "final_data = []\n",
    "for ix in range(length):\n",
    "    text_str = clean_text(ds.data[ix])\n",
    "    final_data.append(text_str)"
   ]
  },
  {
   "cell_type": "code",
   "execution_count": 24,
   "metadata": {},
   "outputs": [
    {
     "data": {
      "text/plain": [
       "'ex 10 iii h a exhibit 10 iii h a amend amend restat employ agreement this amend the amend made sterl bancorp the compani and loui cappelli execut effect decemb 29 2008 wherea compani execut parti amend restat employ agreement date march 22 2002 last amend march 13 2008 the agreement ; wherea compani execut desir amend certain provis agreement in order exempt compli section 409a intern revenu code 1986 as amend section 409a ; and now therefor agreement herebi amend follow : 1 section agreement herebi amend ad new section 2 c follow : c permit continu engag activ direct relat the busi compani execut permit engag prior chang in control as defin schedul hereto 2 section 4 b agreement herebi delet entireti 3 section 5 c agreement herebi replac entireti follow : c disabl event termin execut s employ due to execut s disabl compani pay execut three month execut s base salari lump sum 4 section 5 d agreement herebi replac entireti follow : d death event termin execut s employ due to execut s death compani pay six month execut s base salari execut s estat lump sum 5 in first sentenc section 5 e agreement follow text herebi delet : in connect chang control pursuant section 4 b hereof or 6 section 5 e i agreement herebi replac entireti follow : i compani shall pay execut lump sum equal execut s base salari that would payabl respect post termin period as defin section 5 i 7 section 5 e ii agreement herebi replac entireti follow : ii compani shall pay execut a termin execut s employ is prior chang control lump sum time compani ordinarili pay annual bonus year termin occur equal product 1 execut s annual bonus would receiv calendar year date of termin occur base compani s actual perform year 2 a fraction numer number day elaps calendar year which the date termin occur denomin 365; b the termin execut s employ chang control lump sum upon execut s termin employ equal execut s pro rata bonus as defin in section 5 i post termin period 8 section agreement herebi amend ad new section 5 k follow : k time payment lump sum payment section 5 c d e except section 5 e ii a f made compani within day follow date execut s termin employ 9 the follow paragraph shall ad new section agreement follow : 13 section 409a parti intent agreement compli be exempt requir section 409a agreement administ and interpret accord payment made agreement shall deem be separ payment amount payabl agreement shall deem a deferr compens subject section 409a extent provid except in treasuri regul section 1 409a 1 b 4 short term deferr b 9 separ pay plan includ except subparagraph iii other applic provis treasuri regul section 1 409a 1 a 6 notwithstand the previous sentenc extent payment benefit agreement is determin compani constitut non qualifi defer compens subject to section 409a payabl execut reason execut s termin employ then a payment benefit shall made provid execut upon a separ servic defin purpos section 409a applic regul b execut specifi employe within mean section 409a determin compani payment benefit shall made provid on the date six month one day date execut s separ from servic or earlier death amount paid respect six month period specifi preced sentenc paid execut plus interest the applic feder rate defin section 1274 d code lump sum date that six month one day execut s separ servic or earlier death except otherwis expressli provid herein extent expens reimburs in kind benefit determin be subject section 409a amount expens elig reimburs or in kind benefit one calendar year shall affect expens elig for reimburs in kind benefit taxabl year except lifetim limit applic expens medic care event shall expens reimburs or in kind benefit provid last day calendar year follow calendar year execut incur expens receiv benefit event shall right reimburs in kind benefit subject liquid exchang for anoth benefit 10 the definit good reason schedul agreement herebi replac it entireti follow : good reason mean without execut s express written consent : a execut s remov re elect director as chairman board ceo compani director chairman the board bank except connect termin execut s employ by the compani caus disabl execut without good reason due to death; b ani chang duti respons includ report respons execut inconsist materi advers respect with execut s posit s duti respons status compani includ materi advers diminut duti respons or ii materi advers chang execut s titl offic includ if applic membership board compani affiliates; c materi reduct compani either 1 aggreg execut s base salari bonus opportun includ materi advers chang the formula bonus opportun 2 aggreg execut s base salari and bonus either case 1 2 effect immedi prior chang in control may increas time time thereafter; d assign execut duti withdraw execut ani author chang execut s condit employ materi inconsist with section hereof; e the compani s requir execut maintain execut s princip offic or conduct execut s princip activ anywher compani s princip execut offic new york citi other immateri chang geograph locat ; or f ani action inact compani constitut materi breach of agreement; provid that termin execut good reason shall effect if 1 within day follow execut becom awar circumst give rise to good reason execut deliv notic termin good reason compani 2 compani within day follow receipt notif fail cure the circumst give rise good reason 3 execut termin execut s employ compani within day laps day cure period this amend constitut entir agreement among parti hereto respect the subject matter hereof shall alter amend except write sign the parti whose right oblig affect amend alter except as expressli state herein agreement shall remain full forc effect in wit whereof parti execut amend effect first date written abov sterl bancorp by : name : dale fredston titl : senior vice presid corpor secretari loui cappelli'"
      ]
     },
     "execution_count": 24,
     "metadata": {},
     "output_type": "execute_result"
    }
   ],
   "source": [
    "final_data[0]"
   ]
  },
  {
   "cell_type": "code",
   "execution_count": 40,
   "metadata": {},
   "outputs": [],
   "source": [
    "### Create sequence\n",
    "vocabulary_size = 20000\n",
    "tokenizer = Tokenizer(num_words= vocabulary_size)\n",
    "tokenizer.fit_on_texts(final_data)\n",
    "sequences = tokenizer.texts_to_sequences(final_data)\n",
    "data = pad_sequences(sequences, maxlen=500)"
   ]
  },
  {
   "cell_type": "code",
   "execution_count": 45,
   "metadata": {},
   "outputs": [],
   "source": [
    "model = Sequential()\n",
    "model.add(Embedding(20000, 100, input_length=500))\n",
    "model.add(LSTM(100, dropout=0.2, recurrent_dropout=0.2))\n",
    "model.add(Dense(1, activation='sigmoid'))\n",
    "model.compile(loss='binary_crossentropy', optimizer='adam', metrics=['accuracy'])"
   ]
  },
  {
   "cell_type": "code",
   "execution_count": 46,
   "metadata": {},
   "outputs": [],
   "source": [
    "from sklearn.model_selection import train_test_split"
   ]
  },
  {
   "cell_type": "code",
   "execution_count": 47,
   "metadata": {},
   "outputs": [],
   "source": [
    "X_train, X_test, Y_train, Y_test = train_test_split(data, ds.target, test_size=0.2)"
   ]
  },
  {
   "cell_type": "code",
   "execution_count": 48,
   "metadata": {},
   "outputs": [
    {
     "name": "stdout",
     "output_type": "stream",
     "text": [
      "Train on 560 samples, validate on 240 samples\n",
      "Epoch 1/10\n",
      "560/560 [==============================] - 28s 50ms/step - loss: 0.6920 - acc: 0.4875 - val_loss: 0.6891 - val_acc: 0.5083\n",
      "Epoch 2/10\n",
      "560/560 [==============================] - 27s 47ms/step - loss: 0.5841 - acc: 0.7607 - val_loss: 0.4247 - val_acc: 0.8542\n",
      "Epoch 3/10\n",
      "560/560 [==============================] - 27s 48ms/step - loss: 0.5163 - acc: 0.8464 - val_loss: 0.6148 - val_acc: 0.6792\n",
      "Epoch 4/10\n",
      "560/560 [==============================] - 28s 49ms/step - loss: 0.3977 - acc: 0.8875 - val_loss: 0.4804 - val_acc: 0.7667\n",
      "Epoch 5/10\n",
      "560/560 [==============================] - 27s 48ms/step - loss: 0.1765 - acc: 0.9500 - val_loss: 0.4973 - val_acc: 0.7792\n",
      "Epoch 6/10\n",
      "560/560 [==============================] - 27s 47ms/step - loss: 0.0934 - acc: 0.9768 - val_loss: 0.4647 - val_acc: 0.7917\n",
      "Epoch 7/10\n",
      "560/560 [==============================] - 27s 49ms/step - loss: 0.0374 - acc: 0.9893 - val_loss: 0.5540 - val_acc: 0.7792\n",
      "Epoch 8/10\n",
      "560/560 [==============================] - 27s 47ms/step - loss: 0.0321 - acc: 0.9911 - val_loss: 0.5397 - val_acc: 0.8000\n",
      "Epoch 9/10\n",
      "560/560 [==============================] - 27s 47ms/step - loss: 0.0234 - acc: 0.9946 - val_loss: 0.5738 - val_acc: 0.7583\n",
      "Epoch 10/10\n",
      "560/560 [==============================] - 28s 49ms/step - loss: 0.0161 - acc: 0.9982 - val_loss: 0.5879 - val_acc: 0.8167\n"
     ]
    },
    {
     "data": {
      "text/plain": [
       "<keras.callbacks.History at 0x1c95e6aa390>"
      ]
     },
     "execution_count": 48,
     "metadata": {},
     "output_type": "execute_result"
    }
   ],
   "source": [
    "model.fit(X_train, Y_train, validation_split=0.3, epochs=10)"
   ]
  },
  {
   "cell_type": "code",
   "execution_count": 49,
   "metadata": {},
   "outputs": [],
   "source": [
    "pred = model.predict(X_test)"
   ]
  },
  {
   "cell_type": "code",
   "execution_count": 50,
   "metadata": {},
   "outputs": [
    {
     "name": "stdout",
     "output_type": "stream",
     "text": [
      "0.81\n"
     ]
    }
   ],
   "source": [
    "from sklearn.metrics import accuracy_score, classification_report\n",
    "print(accuracy_score(Y_test, pred.round()))"
   ]
  },
  {
   "cell_type": "code",
   "execution_count": null,
   "metadata": {},
   "outputs": [],
   "source": []
  }
 ],
 "metadata": {
  "kernelspec": {
   "display_name": "Python 3",
   "language": "python",
   "name": "python3"
  },
  "language_info": {
   "codemirror_mode": {
    "name": "ipython",
    "version": 3
   },
   "file_extension": ".py",
   "mimetype": "text/x-python",
   "name": "python",
   "nbconvert_exporter": "python",
   "pygments_lexer": "ipython3",
   "version": "3.6.5"
  }
 },
 "nbformat": 4,
 "nbformat_minor": 2
}
