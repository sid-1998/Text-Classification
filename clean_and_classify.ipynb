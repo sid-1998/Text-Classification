{
 "cells": [
  {
   "cell_type": "code",
   "execution_count": 228,
   "metadata": {},
   "outputs": [],
   "source": [
    "import sklearn.datasets as skd\n",
    "from nltk.tokenize import sent_tokenize,word_tokenize\n",
    "from nltk.corpus import stopwords\n",
    "import string\n",
    "from nltk.stem import WordNetLemmatizer\n",
    "import numpy as np"
   ]
  },
  {
   "cell_type": "code",
   "execution_count": 229,
   "metadata": {},
   "outputs": [],
   "source": [
    "categories = ['0', '1']\n",
    "ds = skd.load_files(\"./dataset/\", categories=categories, encoding=\"UTF-8\")"
   ]
  },
  {
   "cell_type": "code",
   "execution_count": 230,
   "metadata": {},
   "outputs": [
    {
     "data": {
      "text/plain": [
       "dict_keys(['data', 'filenames', 'target_names', 'target', 'DESCR'])"
      ]
     },
     "execution_count": 230,
     "metadata": {},
     "output_type": "execute_result"
    }
   ],
   "source": [
    "ds.keys()"
   ]
  },
  {
   "cell_type": "code",
   "execution_count": 231,
   "metadata": {},
   "outputs": [
    {
     "data": {
      "text/plain": [
       "['0', '1']"
      ]
     },
     "execution_count": 231,
     "metadata": {},
     "output_type": "execute_result"
    }
   ],
   "source": [
    "ds.target_names"
   ]
  },
  {
   "cell_type": "code",
   "execution_count": 232,
   "metadata": {},
   "outputs": [
    {
     "data": {
      "text/plain": [
       "list"
      ]
     },
     "execution_count": 232,
     "metadata": {},
     "output_type": "execute_result"
    }
   ],
   "source": [
    "type(ds.data)"
   ]
  },
  {
   "cell_type": "code",
   "execution_count": 233,
   "metadata": {},
   "outputs": [
    {
     "data": {
      "text/plain": [
       "'\\n\\n\\n\\n\\n\\n\\nEX-10.III.H.A\\n\\n\\n\\n\\n\\n\\nExhibit\\xa010. (iii) (H) (a)\\n\\n\\n\\n\\nAMENDMENT TO AMENDED AND RESTATED EMPLOYMENT AGREEMENT\\n\\n\\n\\n\\nTHIS AMENDMENT (the “Amendment”) is made by Sterling Bancorp (the “Company”)\\nand Louis J. Cappelli (“Executive”) to be effective as of December\\xa029, 2008.\\n\\n\\n\\nWHEREAS, the Company and Executive are parties to an Amended and Restated Employment Agreement\\ndated March\\xa022, 2002, which was last amended on March\\xa013, 2008 (the “Agreement”);\\n\\n\\n\\nWHEREAS, the Company and Executive desire to amend certain provisions of the Agreement in\\norder to be exempt from or comply with Section\\xa0409A of the Internal Revenue Code of 1986, as\\namended (“Section\\xa0409A”); and\\n\\n\\n\\nNOW, THEREFORE, the Agreement is hereby amended as follows:\\n\\n\\n\\n\\n1.\\t\\xa0\\tSection\\xa02 of the Agreement is hereby amended by adding a new Section 2(c) as follows:\\n\\n“(c) will be permitted to continue to engage in activities not directly related to the\\nbusiness of the Company which Executive was permitted to engage in prior to a Change in\\nControl (as defined in Schedule\\xa0A hereto).”\\n\\n2.\\t\\xa0\\tSection\\xa04(b) of the Agreement is hereby deleted in its entirety.\\n\\n3.\\t\\xa0\\tSection\\xa05(c) of the Agreement is hereby replaced in its entirety by the following:\\n\\n“(c) Disability. In the event of the termination of Executive’s employment due to\\nExecutive’s Disability, the Company will pay Executive three months of Executive’s Base\\nSalary in a lump sum.”\\n\\n4.\\t\\xa0\\tSection\\xa05(d) of the Agreement is hereby replaced in its entirety by the following:\\n\\n“(d) Death. In the event of the termination of Executive’s employment due to\\nExecutive’s death, the Company will pay six months of Executive’s Base Salary to Executive’s\\nestate in a lump sum.”\\n\\n5.\\t\\xa0\\tIn the first sentence of Section 5(e) of the Agreement, the following text is hereby deleted:\\n“in connection with a Change in Control pursuant to Section 4(b) hereof or”.\\n\\n6.\\t\\xa0\\tSection\\xa05(e)(i) of the Agreement is hereby replaced in its entirety by the following:\\n\\n“(i) the Company shall pay the Executive a lump sum equal to the Executive’s Base Salary\\nthat would be payable in respect of the Post-Termination Period (as defined in Section\\n5(i)).”\\n\\n7.\\t\\xa0\\tSection\\xa05(e)(ii) of the Agreement is hereby replaced in its entirety by the following:\\n\\n“(ii) the Company shall pay Executive (A)\\xa0if the termination of Executive’s employment is\\nprior to a Change in Control, a lump sum at the time the Company ordinarily pays annual\\nbonuses for the year in which the termination occurs equal to the product of (1)\\xa0Executive’s\\nannual bonus that he would have received in the calendar year in which the Date of\\nTermination occurs based on the Company’s actual performance for such year, and (2)\\xa0a\\nfraction, the numerator of which is the number of days elapsed in the calendar year in which\\nthe Date of Termination occurs and the denominator of which is 365; and (B)\\xa0if the\\ntermination of Executive’s employment is on or after a Change in Control, a lump sum upon\\nExecutive’s termination of employment equal to Executive’s “Pro Rata Bonus” (as defined in\\nSection\\xa05(i)) for the Post-Termination Period.”\\n\\n\\n\\n\\n\\n\\n\\n\\n\\n\\n\\n\\n\\n\\n\\n\\n\\n\\n\\n\\n\\n8.\\t\\xa0\\tSection\\xa05 of the Agreement is hereby amended by adding a new Section 5(k) as follows:\\n\\n“(k) Timing of Payments. The lump sum payments in Section\\xa05(c), (d), (e)\\n(except for Section\\xa05(e)(ii)(A)) and (f)\\xa0will be made by the Company within 15\\xa0days\\nfollowing the date of Executive’s termination of employment.”\\n\\n9.\\t\\xa0\\tThe following paragraph shall be added as the new Section\\xa013 of the Agreement as follows:\\n\\n“13. Section\\xa0409A. It is the parties’ intent that the Agreement comply with or be\\nexempt from the requirements of Section\\xa0409A and that the Agreement be administered and\\ninterpreted accordingly. Each payment made under this Agreement shall be deemed to be\\nseparate payments. Amounts payable under this Agreement shall be deemed not to be a\\n“deferral of compensation” subject to Section\\xa0409A to the extent provided in the exceptions\\nin Treasury Regulation\\xa0Sections\\xa01.409A-1(b)(4) (“short-term deferrals”) and (b)(9)\\n(“separation pay plans,” including the exception under subparagraph (iii)) and other\\napplicable provisions of Treasury Regulation\\xa0Section\\xa01.409A-1 through A-6. Notwithstanding\\nthe previous sentence, if and to the extent that any payment or benefit under this Agreement\\nis determined by the Company to constitute “non-qualified deferred compensation” subject to\\nSection\\xa0409A and is payable to Executive by reason of Executive’s termination of employment,\\nthen (a)\\xa0such payment or benefit shall be made or provided to Executive only upon a\\n“separation from service” as defined for purposes of Section\\xa0409A under applicable\\nregulations and (b)\\xa0if Executive is a “specified employee” (within the meaning of Section\\n409A and as determined by the Company), such payment or benefit shall be made or provided on\\nthe date that is six months and one day after the date of Executive’s separation from\\nservice (or earlier death). Any amount not paid in respect of the six month period\\nspecified in the preceding sentence will be paid to Executive (plus interest at the\\napplicable federal rate as defined in Section 1274(d) of the Code) in a lump sum on the date\\nthat is six months and one day after the Executive’s separation from service (or earlier\\ndeath). Except as otherwise expressly provided\\nherein, to the extent any expense reimbursement or other in-kind benefit is determined to be\\nsubject to Section\\xa0409A, the amount of any such expenses eligible for reimbursement or\\nin-kind benefits in one calendar year shall not affect the expenses eligible for\\nreimbursement or in-kind benefits in any other taxable year (except under any lifetime limit\\napplicable to expenses for medical care), in no event shall any expenses be reimbursed or\\nin-kind benefits be provided after the last day of the calendar year following the calendar\\nyear in which Executive incurred such expenses or received such benefits, and in no event\\nshall any right to reimbursement or in-kind benefits be subject to liquidation or exchange\\nfor another benefit.”\\n\\n10.\\t\\xa0\\tThe definition of Good Reason in Schedule\\xa0B to the Agreement is hereby replaced in its\\nentirety by the following:\\n\\n\\n\\n\\n\\n\\n“Good Reason” will mean, without Executive’s express written consent:\\n\\n(A)\\t\\xa0\\tExecutive’s being removed, or not being re-elected, as a director, or as\\nChairman of the Board and CEO of the Company, or as a director or as Chairman of the\\nBoard of the Bank, except in connection with termination of Executive’s employment by\\nthe Company for Cause or Disability or by Executive without Good Reason or due to\\ndeath;\\n\\n\\n\\n\\n\\n\\n\\n\\n\\n\\n\\n\\n\\n\\n\\n\\n\\n\\n\\n\\n\\n(B)\\t\\xa0\\tAny change in the duties or responsibilities (including reporting\\nresponsibilities) of Executive that is inconsistent in any material and adverse respect\\nwith Executive’s positions(s), duties, responsibilities or status with the Company\\n(including any material and adverse diminution of such duties or responsibilities) or\\n(ii)\\xa0a material and adverse change in Executive’s titles or offices (including, if\\napplicable, membership on the Board) with the Company or its affiliates;\\n\\n(C)\\t\\xa0\\tA material reduction by the Company in either (1)\\xa0the aggregate of Executive’s\\nBase Salary and Bonus opportunity (including any material and adverse change in the\\nformula for such Bonus opportunity) or (2)\\xa0the aggregate of Executive’s Base Salary and\\nBonus, in either case of (1)\\xa0or (2), as in effect immediately prior to a Change in\\nControl or as the same may be increased from time to time thereafter;\\n\\n(D)\\t\\xa0\\tAssignment to Executive of any duties or withdrawal from Executive of any\\nauthority or change in Executive’s conditions of employment materially inconsistent\\nwith Sections\\xa02 or 3 hereof;\\n\\n(E)\\t\\xa0\\tThe Company’s requiring Executive to maintain Executive’s principal office or\\nconduct Executive’s principal activities anywhere other than at the Company’s principal\\nexecutive offices in New York City (other than an immaterial change in the geographic\\nlocation); or\\n\\n(F)\\t\\xa0\\tAny other action or inaction by the Company that constitutes a material breach\\nof this Agreement;\\n\\n\\n\\n\\n\\n\\nprovided that, a termination by Executive with Good Reason shall be effective only if,\\n(1)\\xa0within 90\\xa0days following Executive becoming aware of the circumstances giving rise to\\nGood Reason, Executive delivers a Notice of Termination for Good Reason to the Company,\\n(2)\\xa0the Company within 30\\xa0days following its receipt of such notification has failed to cure\\nthe circumstances giving rise to Good Reason, and (3)\\xa0Executive terminates Executive’s\\nemployment with the Company within 90\\xa0days after the lapse of such 30\\xa0day cure period.”\\n\\n\\n\\n\\nThis Amendment constitutes the entire agreement among the parties hereto with respect to the\\nsubject matter hereof and shall not be altered or amended except in a writing signed by the\\nparties whose rights or obligations are affected by such amendment or alteration. Except as\\nexpressly stated herein, the Agreement shall remain in full force and effect.\\n\\n\\nIN WITNESS WHEREOF, the parties have executed this Amendment effective as of as of the first date\\nwritten above.\\n\\n\\n\\n\\n\\nSTERLING BANCORP\\n\\n\\nBy:\\n\\nName:\\n\\n\\n\\nDale C. Fredston\\n\\nTitle:\\n\\nSenior Vice President, Corporate Secretary\\n\\n\\n\\n\\nLouis J. Cappelli\\n\\n\\n\\n\\n\\n\\n\\n\\n\\n\\n\\n'"
      ]
     },
     "execution_count": 233,
     "metadata": {},
     "output_type": "execute_result"
    }
   ],
   "source": [
    "ds.data[0]"
   ]
  },
  {
   "cell_type": "code",
   "execution_count": null,
   "metadata": {},
   "outputs": [],
   "source": []
  },
  {
   "cell_type": "code",
   "execution_count": 234,
   "metadata": {},
   "outputs": [],
   "source": [
    "def process(content):\n",
    "    content = content.lower()\n",
    "    content = content.strip('\\n')\n",
    "    content = content.replace('\\n','')\n",
    "    content = content.replace('\\xa0',' ')\n",
    "    content = content.strip('(')\n",
    "    content = content.replace('(',\"\")\n",
    "    content = content.strip(')')\n",
    "    content = content.replace(')',\"\")\n",
    "    \n",
    "    word_list = word_tokenize(content)\n",
    "    \n",
    "    sw  = set(stopwords.words('english'))\n",
    "    useful_words = [w for w in word_list if w not in sw]\n",
    "    \n",
    "    table = str.maketrans('', '', string.punctuation)\n",
    "    stripped = [w.translate(table) for w in useful_words]\n",
    "    stripped = list(filter(None, stripped))\n",
    "    #stripped = list(filter(\"\\\"\",stripped))\n",
    "    \n",
    "    l = WordNetLemmatizer()\n",
    "    lem_words = []\n",
    "    for w in stripped:\n",
    "        lem_words.append(l.lemmatize(w))\n",
    "    \n",
    "    return lem_words\n",
    "    \n",
    "    "
   ]
  },
  {
   "cell_type": "code",
   "execution_count": 235,
   "metadata": {},
   "outputs": [],
   "source": [
    "length = len(ds.data)"
   ]
  },
  {
   "cell_type": "code",
   "execution_count": 236,
   "metadata": {},
   "outputs": [],
   "source": [
    "text_list = []\n",
    "for ix in range(length):\n",
    "    lem_words = process(ds.data[ix])\n",
    "    text_list.append(lem_words)\n",
    "    "
   ]
  },
  {
   "cell_type": "code",
   "execution_count": 237,
   "metadata": {},
   "outputs": [],
   "source": [
    "text_str = \"\"\n",
    "final_data = []\n",
    "for ix in range(length):\n",
    "    text_str = \"\".join(text_list[ix])\n",
    "    final_data.append(text_str)"
   ]
  },
  {
   "cell_type": "code",
   "execution_count": 238,
   "metadata": {},
   "outputs": [
    {
     "data": {
      "text/plain": [
       "1000"
      ]
     },
     "execution_count": 238,
     "metadata": {},
     "output_type": "execute_result"
    }
   ],
   "source": [
    "len(final_data)"
   ]
  },
  {
   "cell_type": "code",
   "execution_count": 239,
   "metadata": {},
   "outputs": [],
   "source": [
    "from sklearn.model_selection import train_test_split"
   ]
  },
  {
   "cell_type": "code",
   "execution_count": 272,
   "metadata": {},
   "outputs": [],
   "source": [
    "X_train, X_test, Y_train, Y_test = train_test_split(final_data, ds.target, test_size=0.33)"
   ]
  },
  {
   "cell_type": "code",
   "execution_count": 273,
   "metadata": {},
   "outputs": [],
   "source": [
    "X_train = np.array(X_train)\n",
    "Y_train = np.array(Y_train)\n",
    "X_test = np.array(X_test)\n",
    "Y_test = np.array(Y_test)"
   ]
  },
  {
   "cell_type": "code",
   "execution_count": 274,
   "metadata": {},
   "outputs": [
    {
     "name": "stdout",
     "output_type": "stream",
     "text": [
      "(670,) (670,)\n",
      "(330,) (330,)\n"
     ]
    }
   ],
   "source": [
    "print(X_train.shape, Y_train.shape)\n",
    "print(X_test.shape, Y_test.shape)"
   ]
  },
  {
   "cell_type": "code",
   "execution_count": 275,
   "metadata": {},
   "outputs": [],
   "source": [
    "from sklearn.feature_extraction.text import CountVectorizer\n",
    "count_vect = CountVectorizer()\n"
   ]
  },
  {
   "cell_type": "code",
   "execution_count": 276,
   "metadata": {},
   "outputs": [],
   "source": [
    "X_train_tf = count_vect.fit_transform(X_train)"
   ]
  },
  {
   "cell_type": "code",
   "execution_count": 277,
   "metadata": {},
   "outputs": [
    {
     "data": {
      "text/plain": [
       "(670, 9734)"
      ]
     },
     "execution_count": 277,
     "metadata": {},
     "output_type": "execute_result"
    }
   ],
   "source": [
    "X_train_tf.shape"
   ]
  },
  {
   "cell_type": "code",
   "execution_count": 278,
   "metadata": {},
   "outputs": [],
   "source": [
    "from sklearn.feature_extraction.text import TfidfTransformer\n",
    "tfidf_transformer = TfidfTransformer()"
   ]
  },
  {
   "cell_type": "code",
   "execution_count": 279,
   "metadata": {},
   "outputs": [],
   "source": [
    "X_train_tfidf = tfidf_transformer.fit_transform(X_train_tf)"
   ]
  },
  {
   "cell_type": "code",
   "execution_count": 280,
   "metadata": {},
   "outputs": [
    {
     "data": {
      "text/plain": [
       "(670, 9734)"
      ]
     },
     "execution_count": 280,
     "metadata": {},
     "output_type": "execute_result"
    }
   ],
   "source": [
    "X_train_tfidf.shape"
   ]
  },
  {
   "cell_type": "code",
   "execution_count": 281,
   "metadata": {},
   "outputs": [],
   "source": [
    "from sklearn.naive_bayes import MultinomialNB"
   ]
  },
  {
   "cell_type": "code",
   "execution_count": 282,
   "metadata": {},
   "outputs": [],
   "source": [
    "clf = MultinomialNB().fit(X_train_tfidf, Y_train)"
   ]
  },
  {
   "cell_type": "code",
   "execution_count": 283,
   "metadata": {},
   "outputs": [],
   "source": [
    "X_test_tf = count_vect.transform(X_test)\n",
    "X_test_tfidf = tfidf_transformer.transform(X_test_tf)"
   ]
  },
  {
   "cell_type": "code",
   "execution_count": 284,
   "metadata": {},
   "outputs": [],
   "source": [
    "prediction = clf.predict(X_test_tfidf)"
   ]
  },
  {
   "cell_type": "code",
   "execution_count": 285,
   "metadata": {},
   "outputs": [
    {
     "name": "stdout",
     "output_type": "stream",
     "text": [
      "0.6151515151515151\n"
     ]
    }
   ],
   "source": [
    "from sklearn.metrics import accuracy_score, classification_report\n",
    "print(accuracy_score(Y_test, prediction))"
   ]
  },
  {
   "cell_type": "code",
   "execution_count": 286,
   "metadata": {},
   "outputs": [
    {
     "name": "stdout",
     "output_type": "stream",
     "text": [
      "             precision    recall  f1-score   support\n",
      "\n",
      "          0       0.94      0.26      0.41       168\n",
      "          1       0.56      0.98      0.71       162\n",
      "\n",
      "avg / total       0.75      0.62      0.56       330\n",
      "\n"
     ]
    }
   ],
   "source": [
    "print(classification_report(Y_test, prediction, target_names=ds.target_names))"
   ]
  },
  {
   "cell_type": "code",
   "execution_count": 287,
   "metadata": {},
   "outputs": [],
   "source": [
    "from sklearn.ensemble import RandomForestClassifier"
   ]
  },
  {
   "cell_type": "code",
   "execution_count": 288,
   "metadata": {},
   "outputs": [],
   "source": [
    "rf = RandomForestClassifier().fit(X_train_tfidf, Y_train)"
   ]
  },
  {
   "cell_type": "code",
   "execution_count": 289,
   "metadata": {},
   "outputs": [],
   "source": [
    "pred_rf = rf.predict(X_test_tfidf)"
   ]
  },
  {
   "cell_type": "code",
   "execution_count": 290,
   "metadata": {},
   "outputs": [
    {
     "name": "stdout",
     "output_type": "stream",
     "text": [
      "0.7666666666666667\n"
     ]
    }
   ],
   "source": [
    "print( accuracy_score(Y_test, pred_rf))"
   ]
  },
  {
   "cell_type": "code",
   "execution_count": 291,
   "metadata": {},
   "outputs": [
    {
     "name": "stdout",
     "output_type": "stream",
     "text": [
      "             precision    recall  f1-score   support\n",
      "\n",
      "          0       0.74      0.83      0.78       168\n",
      "          1       0.80      0.70      0.75       162\n",
      "\n",
      "avg / total       0.77      0.77      0.77       330\n",
      "\n"
     ]
    }
   ],
   "source": [
    "print(classification_report(Y_test, pred_rf, target_names=ds.target_names))"
   ]
  },
  {
   "cell_type": "code",
   "execution_count": 292,
   "metadata": {},
   "outputs": [],
   "source": [
    "from sklearn.svm import LinearSVC"
   ]
  },
  {
   "cell_type": "code",
   "execution_count": 293,
   "metadata": {},
   "outputs": [],
   "source": [
    "svc = LinearSVC().fit(X_train_tfidf, Y_train)"
   ]
  },
  {
   "cell_type": "code",
   "execution_count": 294,
   "metadata": {},
   "outputs": [],
   "source": [
    "pred_svc = svc.predict(X_test_tfidf)"
   ]
  },
  {
   "cell_type": "code",
   "execution_count": 295,
   "metadata": {},
   "outputs": [
    {
     "name": "stdout",
     "output_type": "stream",
     "text": [
      "0.7757575757575758\n"
     ]
    }
   ],
   "source": [
    "print(accuracy_score(Y_test, pred_svc))"
   ]
  },
  {
   "cell_type": "code",
   "execution_count": 296,
   "metadata": {},
   "outputs": [
    {
     "name": "stdout",
     "output_type": "stream",
     "text": [
      "             precision    recall  f1-score   support\n",
      "\n",
      "          0       0.78      0.78      0.78       168\n",
      "          1       0.77      0.77      0.77       162\n",
      "\n",
      "avg / total       0.78      0.78      0.78       330\n",
      "\n"
     ]
    }
   ],
   "source": [
    "print(classification_report(Y_test, pred_svc, target_names=ds.target_names))"
   ]
  },
  {
   "cell_type": "code",
   "execution_count": null,
   "metadata": {},
   "outputs": [],
   "source": []
  },
  {
   "cell_type": "code",
   "execution_count": null,
   "metadata": {},
   "outputs": [],
   "source": []
  }
 ],
 "metadata": {
  "kernelspec": {
   "display_name": "Python 3",
   "language": "python",
   "name": "python3"
  },
  "language_info": {
   "codemirror_mode": {
    "name": "ipython",
    "version": 3
   },
   "file_extension": ".py",
   "mimetype": "text/x-python",
   "name": "python",
   "nbconvert_exporter": "python",
   "pygments_lexer": "ipython3",
   "version": "3.6.5"
  }
 },
 "nbformat": 4,
 "nbformat_minor": 2
}
