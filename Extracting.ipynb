{
 "cells": [
  {
   "cell_type": "code",
   "execution_count": 84,
   "metadata": {},
   "outputs": [],
   "source": [
    "import sklearn.datasets as skd\n",
    "from nltk.tokenize import sent_tokenize,word_tokenize\n",
    "from nltk.corpus import stopwords\n",
    "import string\n",
    "from nltk.stem import WordNetLemmatizer\n",
    "import numpy as np\n",
    "import re"
   ]
  },
  {
   "cell_type": "code",
   "execution_count": 11,
   "metadata": {},
   "outputs": [],
   "source": [
    "categories = ['0']\n",
    "ds = skd.load_files(\"./dataset/\", categories=categories, encoding=\"UTF-8\")"
   ]
  },
  {
   "cell_type": "code",
   "execution_count": 290,
   "metadata": {},
   "outputs": [
    {
     "data": {
      "text/plain": [
       "'\\n\\n\\n\\n\\n\\n\\nexv10w1\\n\\n\\n\\n\\n\\n\\n\\nExhibit\\xa010.1\\n\\n\\n\\n\\n\\nSeptember\\xa09, 2003\\n\\nMs.\\xa0Kathryn Winkelhaus\\n\\n5040 Oak Tree Court\\n\\nAnn Arbor MI 48108\\n\\n\\n\\nDear Kathryn:\\n\\n\\nI am pleased to offer you the position of Vice President and Chief Operating\\nOfficer for Childtime Learning Centers Inc. and to confirm the following\\ndetails regarding your compensation, benefits and other information:\\n\\n\\n\\n1.\\t\\xa0\\tYou will report directly to William Davis, President and Chief\\nExecutive Officer, and will begin employment on a mutually agreed upon\\nstart date.\\n\\n2.\\t\\xa0\\tYour starting base salary will be $190,000 per annum payable in\\nbiweekly installments.\\n\\n3.\\t\\xa0\\tYou will have the opportunity to earn an annual cash bonus (the\\n“Annual Bonus”) payable within 90\\xa0days after the end of each fiscal\\nyear in an amount up to a maximum of 75% of your annual earned base\\nsalary. You may start earning this bonus when the Company reaches 95.1%\\nof budgeted EBITDA and may earn a bonus of up to (a)\\xa050% on a pro-rata\\nbasis for achieving up to 100% of budgeted EBITDA or (b)\\xa075% on a pro\\nrata basis for achieving more than 100%, up to 120% of budgeted EBITDA.\\n\\n4.\\t\\xa0\\tFor the fiscal year 2004 (fiscal year ending March 2004), you will\\nbe paid a minimum of a $50,000 Annual Bonus contingent upon achieving\\ncertain business objectives. These objectives will be determined\\nwithin 60\\xa0days of your hire date.\\n\\n5.\\t\\xa0\\tWithin six months after your acceptance of this offer, and upon\\nyour request, the Company’s senior management will recommend that the\\nCompensation Committee approve the grant to you of (a)\\xa0the right to\\npurchase (the “Purchase Award”) of up to $100,000 of the common stock\\nof the Company, based on the closing price of the common stock on the\\ndate of grant, for the 10\\xa0day period after the date of grant, and (b)\\nOptions to purchase four times the number of\\nshares subject to the Purchase Award, at the option exercise price equal\\nto the closing price of the Corporation’s common stock on the grant date.\\nThe Options would be non-qualified options granted in accordance with\\nthe Company’s 2003 Equity Compensation Plan. These Options would become\\nexercisable and vest at the rate of 20% per year, commencing on the\\none-year anniversary of the date of grant for five years. These Options\\nwould expire if not exercised by the anniversary of the grant date in the\\nyear 2009. The vesting of these Options would be further subject to your\\npurchase of shares under the Purchase Award, with the number of shares\\nthat may be purchased under the Options to equal four times the number of\\nshares purchased under the Purchase Award. These Options would also be\\nsubject to such other terms and provisions applicable to the Company’s\\nstandard option grants and to the Plan.\\n\\n\\n\\n\\n\\n\\n\\n\\n\\n\\n\\n\\n\\n\\n\\n6.\\t\\xa0\\tYou will be eligible for participation in the Company’s\\ncontributory medical, vision, dental and life insurance plans effective\\nNovember\\xa01, 2003.\\n\\n7.\\t\\xa0\\tYou will be eligible for four weeks of vacation per anniversary\\nyear. You will also be eligible for participation in the Company’s\\n401(k) program.\\n\\n8.\\t\\xa0\\tYour employment will be “At Will” and you will serve at the\\npleasure of the President and CEO of the company.\\n\\n\\n\\n\\nPlease sign your acknowledgement of your receipt and understanding of this\\nletter below, and return to me as soon as possible. Please do not hesitate\\nto contact me should you have any questions.\\n\\nWe at both Childtime and Tutor Time are looking very forward to having you\\nas a part of our team during this exciting time, and trust that your\\nemployment with us will be both challenging and rewarding.\\n\\n\\n\\nVery truly yours,\\n\\n\\n\\n/s/ Scott W. Smith\\n\\n\\n\\n\\n\\n\\nScott W. Smith\\n\\nVice President Human Resources\\n\\nChildtime Learning Centers, Inc.\\n\\n\\n\\n\\nACKNOWLEDGED:\\n/s/ Kathryn Winkelhaus\\nDate:9/15/03\\n\\n\\n\\n\\nKathryn Winkelhaus\\n\\n\\n\\n\\n\\n'"
      ]
     },
     "execution_count": 290,
     "metadata": {},
     "output_type": "execute_result"
    }
   ],
   "source": [
    "ds.data[0]"
   ]
  },
  {
   "cell_type": "code",
   "execution_count": 15,
   "metadata": {},
   "outputs": [
    {
     "data": {
      "text/plain": [
       "486"
      ]
     },
     "execution_count": 15,
     "metadata": {},
     "output_type": "execute_result"
    }
   ],
   "source": [
    "len(ds.data)"
   ]
  },
  {
   "cell_type": "code",
   "execution_count": 16,
   "metadata": {},
   "outputs": [],
   "source": [
    "from clean_and_classify import clean_text"
   ]
  },
  {
   "cell_type": "code",
   "execution_count": 17,
   "metadata": {},
   "outputs": [],
   "source": [
    "# final_data = []\n",
    "# for ix in range(len(ds.data)):\n",
    "#     text_str = clean_text(ds.data[ix])\n",
    "#     final_data.append(text_str)\n"
   ]
  },
  {
   "cell_type": "code",
   "execution_count": 18,
   "metadata": {},
   "outputs": [
    {
     "data": {
      "text/plain": [
       "486"
      ]
     },
     "execution_count": 18,
     "metadata": {},
     "output_type": "execute_result"
    }
   ],
   "source": [
    "len(final_data)"
   ]
  },
  {
   "cell_type": "code",
   "execution_count": 19,
   "metadata": {},
   "outputs": [
    {
     "data": {
      "text/plain": [
       "'exv10w1 exhibit 10 1 septemb 2003 ms kathryn winkelhaus 5040 oak tree court ann arbor 48108 dear kathryn : i pleas offer posit vice presid chief oper offic childtim learn center inc confirm follow detail regard compens benefit inform : 1 you report direct william davi presid chief execut offic begin employ mutual agre upon start date 2 your start base salari 190 000 per annum payabl in biweek instal 3 you opportun earn annual cash bonus the annual bonus payabl within day end fiscal year amount maximum 75 annual earn base salari may start earn bonus compani reach 95 1 of budget ebitda may earn bonus a 50 pro rata basi achiev 100 budget ebitda b 75 pro rata basi achiev 100 120 budget ebitda 4 for fiscal year 2004 fiscal year end march 2004 will be paid minimum 50 000 annual bonus conting upon achiev certain busi object object determin within day hire date 5 within six month accept offer upon your request compani s senior manag recommend the compens committe approv grant a right to purchas the purchas award 100 000 common stock of compani base close price common stock the date grant day period date grant b option purchas four time number of share subject purchas award option exercis price equal to close price corpor s common stock grant date the option would non qualifi option grant accord with the compani s 2003 equiti compens plan option would becom exercis vest rate 20 per year commenc the one year anniversari date grant five year option would expir exercis anniversari grant date the year 2009 vest option would subject your purchas share purchas award number share that may purchas option equal four time number of share purchas purchas award option would also be subject term provis applic compani s standard option grant plan 6 you elig particip compani s contributori medic vision dental life insur plan effect novemb 2003 7 you elig four week vacat per anniversari year also elig particip compani s 401 k program 8 your employ at will serv the pleasur presid ceo compani pleas sign acknowledg receipt understand this letter below return soon possibl pleas hesit to contact question we childtim tutor time look forward you as part team excit time trust your employ challeng reward veri truli your s scott smith scott smith vice presid human resourc childtim learn center inc acknowledg : s kathryn winkelhaus date : 9 15 03 kathryn winkelhaus'"
      ]
     },
     "execution_count": 19,
     "metadata": {},
     "output_type": "execute_result"
    }
   ],
   "source": [
    "final_data[0]"
   ]
  },
  {
   "cell_type": "code",
   "execution_count": 58,
   "metadata": {},
   "outputs": [],
   "source": [
    "from sklearn.feature_extraction.text import TfidfVectorizer"
   ]
  },
  {
   "cell_type": "code",
   "execution_count": 59,
   "metadata": {},
   "outputs": [],
   "source": [
    "tf_idf = TfidfVectorizer()"
   ]
  },
  {
   "cell_type": "code",
   "execution_count": 65,
   "metadata": {},
   "outputs": [],
   "source": [
    "text  = tf_idf.fit_transform(final_data)"
   ]
  },
  {
   "cell_type": "code",
   "execution_count": 66,
   "metadata": {},
   "outputs": [
    {
     "data": {
      "text/plain": [
       "scipy.sparse.csr.csr_matrix"
      ]
     },
     "execution_count": 66,
     "metadata": {},
     "output_type": "execute_result"
    }
   ],
   "source": [
    "type(text)"
   ]
  },
  {
   "cell_type": "code",
   "execution_count": 67,
   "metadata": {},
   "outputs": [
    {
     "name": "stdout",
     "output_type": "stream",
     "text": [
      "[[0.         0.04875926 0.         ... 0.         0.         0.        ]\n",
      " [0.         0.         0.         ... 0.         0.         0.        ]\n",
      " [0.         0.02935755 0.         ... 0.         0.         0.        ]\n",
      " ...\n",
      " [0.         0.         0.         ... 0.         0.         0.        ]\n",
      " [0.02826145 0.01493357 0.         ... 0.         0.         0.        ]\n",
      " [0.03043594 0.01608258 0.         ... 0.         0.         0.        ]]\n"
     ]
    }
   ],
   "source": [
    "print(text.toarray())"
   ]
  },
  {
   "cell_type": "code",
   "execution_count": 69,
   "metadata": {},
   "outputs": [
    {
     "name": "stdout",
     "output_type": "stream",
     "text": [
      "['00', '000', '0000', '000014', '00003959', '0000719955', '0001', '0006', '00072', '001', '00108', '0093', '00pm', '01', '010', '011', '012', '012011', '01245', '01880', '0190072', '01985', '01t00', '02', '02052', '02053', '0211', '02110', '02116', '02129', '02138', '02140', '02155', '02180', '02186', '02210', '022409', '0236465', '02421', '0244', '02453', '02481', '026', '029092509', '03', '0305', '03063', '03110', '0365432', '04', '040', '040707', '0410', '04101', '04257pam', '0457', '0476280', '0483700', '05', '050', '0500', '050310', '0508', '0509', '0547762', '05519', '056', '0565309', '05gemletter5', '06', '06032', '0608', '06092', '06103', '06156', '0627910', '0640', '06403', '0654145', '067', '0672148', '06795', '06820', '06830', '06840', '06877', '06880', '06897', '06905', '07', '070', '0700', '07043', '07059', '07094', '07102', '0731', '0746', '07530', '07605', '07663', '0771', '07726', '07821', '07901', '07920', '07930', '07935', '07960', '08', '08003', '08012', '0802678', '08034', '08055', '08109', '083', '08333', '0846191', '085', '086', '08628', '087', '08830', '09', '09057', '0932', '0965380', '0968', '0998', '0execut', '0px', '10', '100', '1000', '10000', '10001', '10005', '10006', '1001', '10010', '10011', '10016', '10017', '10018', '10019', '10020', '10021', '10022', '10036', '101', '10119', '10128', '10167', '10170', '102', '10214', '10280', '103', '103091817', '10375', '104', '1050', '10518', '10576', '10583', '106', '1060', '10604', '107', '10706', '10750', '10792', '108', '10801', '10901', '10a', '10t', '10th', '11', '110', '1100', '11030', '1103425', '1103704', '111', '1110', '112', '11350', '11373', '1138147', '114', '1140', '11460', '115', '1150', '11530', '11553', '1157', '11570', '11590', '116', '1161', '1167', '11733', '11747', '118', '1188', '119', '11a', '11b', '11th', '12', '120', '1200', '12101', '12108', '12110', '1212', '12124', '1215', '122', '12211', '12212', '123', '12303', '1234', '12350', '1236578', '12386', '12421', '125', '12500', '1251', '12536', '126', '1274', '128', '1280', '1283', '1285071', '1290', '1297', '12b', '12consecut', '12px', '12th', '12ths', '13', '130', '1300', '13000', '1305', '13136', '133', '1330', '1331', '13315', '13368', '134', '135', '1352', '1360', '13689', '138', '1387', '139', '13900', '1391525', '13b', '13d', '13d3', '13e', '13th', '14', '140', '1400', '1401', '14012', '14052', '141', '1410', '14100', '1414', '142', '1420563', '143', '1435', '14367', '144', '1444992', '1449146', '145', '1455126', '146', '14604', '1463', '14648', '14798', '14850', '14905', '1491921', '14a', '14d', '14th', '15', '150', '15044', '1505029', '151', '1515', '151b', '152', '1526', '153', '1530', '154', '15402', '1542', '1544', '155', '1562417', '157', '15731', '158', '15991', '15am', '15th', '16', '160', '1600', '1605464', '161', '1612', '16162', '1617', '162', '163', '16335', '1641', '165', '1650', '16587', '16589', '1659359', '166', '1666', '167', '1688', '16929', '169979', '16b', '16d', '16th', '17', '170', '1700', '1717', '1736614', '1739', '1740', '175', '1750', '17601', '179', '17cfr', '17cfr240', '17th', '18', '180', '1805', '18051', '1815', '1818', '18223', '183', '1845', '185', '1857', '18610', '187', '18822', '18872', '18th', '19', '190', '1900', '19044', '19103', '19112', '192', '1921', '192nd', '19306', '19312', '1933', '1934', '19355', '19382', '19452', '195', '1952', '1956', '1964', '1967', '1969', '1973', '1974', '1976', '19806', '1981', '1982', '1984', '1985', '1986', '1987', '1988', '1989', '1990', '1991', '1992', '1993', '1994', '1995', '1996', '1997', '1998', '1999', '19th', '1a', '1b', '1employmentagreementjasongarrett', '1execut', '1ms', '1st', '20', '200', '2000', '20004', '2000e', '2001', '2001and', '2002', '2003', '2004', '2005', '2006', '2007', '2008', '2009', '201', '2010', '2010a', '2011', '2012', '201259', '2013', '2014', '2015', '2016', '2017', '2018', '2019', '20199', '202', '2021', '2025', '203', '204', '2046', '2050', '2051', '20540', '20546', '20549', '2059', '206', '208', '20817', '20824', '209', '20901', '20910', '20th', '20thwork', '21', '210', '2100', '2101', '21090', '211', '212', '213', '21360', '214', '215', '216', '217', '21700', '2175', '2189', '2189551', '219', '21e', '21st', '22', '220', '2200', '22003', '2201', '2202', '221', '22102', '22182', '2221', '224', '225', '22601', '2265', '2269', '22734', '228', '229', '22nd', '23', '230', '230107611228122', '231', '2312', '2315', '23155', '2320', '233', '2333914', '234', '2345', '235', '2351', '236', '237', '23819', '23863', '239', '2391852', '2394430', '23rd', '24', '240', '2408', '2410', '242', '2422', '2423750', '2432', '245', '246', '247', '248', '249', '24th', '25', '250', '2500', '2505', '251', '2514', '2525', '253', '2533', '255', '2550', '2553159', '2562', '2566064', '2582106', '25825', '25839', '25th', '26', '260', '2601', '26012224', '261', '262', '2627', '2629', '264', '265', '26651', '267', '26731', '26836', '26926', '26th', '27', '270', '2700', '2701', '2707', '2709', '271', '27216', '27317', '274', '275', '27550', '27560', '27614', '2762', '2768', '277', '278', '2780242', '27887', '27th', '28', '280', '2804', '280g', '281', '2817', '28217', '28270', '28277', '2837126', '284', '28551', '287', '288', '28th', '29', '2900', '2901', '2902', '2909', '29319', '294', '295', '29615', '2964', '298', '2985', '299', '2990', '29th', '2b', '2nd', '2option', '30', '300', '30022', '30024', '301', '3012204', '30141', '30152', '30174', '302', '3020', '3028', '303', '30305', '30307', '30339', '3037840', '304', '305', '306', '307', '3083125', '3088', '309', '30am', '30pm', '30sep08mvi', '30th', '31', '310', '3102', '312', '3120', '3121', '3124', '313', '3131', '31354', '314', '315', '3158', '315803', '3167', '317', '318', '3189', '319', '3197', '31st', '31t00', '32', '320', '3200', '32052', '321', '32113', '32117', '322', '324', '325', '3252333', '32643', '3269828', '328', '3280', '32804', '32827', '33', '330', '33004', '330106197406024013', '33024', '3303', '33071', '33076', '33146', '33160', '333', '3333', '334', '33428', '33445', '33487', '335', '336', '33609', '33618', '33634', '337', '34', '3401', '3408', '341', '34105', '34177', '342', '34287', '343', '344', '345', '346', '34747', '3487402', '349', '3491', '35', '350', '3500', '351', '3535', '3540', '3545304', '355', '356', '357', '359', '35th', '36', '360', '3601', '3609', '361', '362', '363', '365', '3654', '367', '36th', '37', '370', '3717318', '3723', '373', '375', '377', '378', '37814', '379', '38', '380', '3800', '3801', '381', '3831', '3837', '384', '385', '386', '3895', '39', '390', '3900', '391', '3914', '394', '39532', '397', '399', '39th', '3a', '3d', '3option', '3rd', '40', '400', '4000id', '4008', '400w', '401', '401000', '4015', '4019', '4023433', '404', '405', '407', '408', '409', '409a', '40l', '40th', '41', '4100', '414', '4149', '415', '416', '417', '4176', '419', '42', '420', '4200', '421', '4211', '422', '4223', '423', '4236', '425', '426', '427', '42nd', '43', '430', '43012419660828144x', '4325', '4334', '434', '435', '43502', '4360', '437', '438', '439', '44', '440', '4400', '4408', '440902670616043', '441', '44122', '44130', '442', '4425', '443', '44333', '445', '45', '450', '4505', '4510', '452', '45209', '45211', '4538', '454', '455', '4570', '458', '46', '460', '46013', '46077', '46123', '4618184', '46268', '46360', '464', '46446', '46530', '4681', '4683', '469', '47', '470', '4700', '471', '47620', '477', '47725', '478', '479', '48', '4800', '48008', '4801', '4808', '48084', '48103', '48108', '48302', '48306', '484', '4845', '4855', '48th', '49', '490', '4900', '4902', '493', '494', '4959', '496', '49697', '4980b', '4999', '4b', '4c', '4th', '50', '500', '5000', '5003', '5005', '5008', '503', '5040', '50435', '50436', '50478', '505', '50529', '506', '509', '51', '511', '5112', '512', '513', '5137', '514', '515', '51500', '51532', '517', '5173', '518', '518057', '5187', '52', '520', '5200', '5201', '521', '5215', '523', '525', '527', '5279', '52807', '53', '530', '5300', '5302', '53151', '53201', '534', '538', '53948666', '53956666', '54', '540', '54311', '5445', '546', '548', '54942', '54944', '54952', '54th', '55', '550', '5517', '552', '55356', '55403', '555', '56', '560', '5600', '561', '561808663', '562', '5623', '563', '565', '567', '568', '569', '57', '570', '571', '571485', '575', '576', '577', '57702', '578', '57th', '58', '5803', '5808', '583', '585', '586', '5863', '5889', '59', '5910', '592', '593', '594', '5948', '5966', '597', '5a', '5j1', '5rd', '5th', '5thand', '60', '600', '6000', '601', '60174', '6018', '604', '60448', '605', '6050', '60564', '6060', '60604', '60606', '60614', '608', '609', '60th', '61', '611', '615', '6153', '616', '617', '6175', '619', '61938', '62', '620', '625', '626', '627', '62nd', '63', '630', '6303', '63043', '631', '6311', '63124', '63141', '632', '6325', '633', '635', '6361', '6363', '637', '639', '64', '6404', '6408', '641', '6435', '6446', '6454', '646', '6471', '6499', '65', '650', '6501', '652', '653', '6543', '6550', '656', '657', '66', '660', '6601', '661', '662', '665', '666', '667', '668', '67', '671', '6729', '674', '6745', '675', '676', '68', '682', '686', '687', '689', '69', '690', '6900', '692', '696', '6bc', '6ee', '6th', '70', '700', '701', '702', '703', '704', '70505', '70508', '70510', '706', '707', '708', '70801', '7083', '7099', '71', '710', '7102', '713', '714', '715', '7169', '717', '72', '7200', '725', '7256', '727', '72703', '73', '730', '732', '733', '7340', '737', '74', '740', '7400', '7454', '75', '750', '75028', '75034', '75035', '75039', '75074', '752', '75206', '75219', '75234', '75252', '755', '75686', '759', '76', '760', '7633', '7645', '765', '766', '77', '770', '77002', '77024', '77027', '77032', '77040', '77042', '77046', '77047', '77056', '77057', '77058', '77081', '77092', '772', '7731', '77354', '77478', '775', '777', '778', '78', '781', '78216', '784', '786', '78641', '787', '78701', '7872', '78727', '78746', '78th', '79', '7900', '792', '794', '795', '7th', '80', '800', '8000', '80000716', '8000e104', '8000e105', '8005', '8008', '801', '80112', '80122', '80134', '802', '80204', '8023', '80235', '80301', '80504', '807', '809', '81', '810', '811', '812', '815', '8150', '81679', '817', '818', '82', '8200', '8212', '8229', '8233', '825', '826', '8262', '827', '83', '8300', '831', '833', '8333', '834', '837', '84', '840', '84101', '8412', '8430', '8449', '845', '84601', '85', '850', '85018', '8525', '8540', '86', '860', '8610', '863', '864', '867', '87', '870', '87008', '875', '8776', '878', '87828601', '879', '88', '880', '8800', '881', '8810', '882', '8876', '888', '88th', '89', '89047', '8906', '8909', '89119', '8927', '89703', '89706', '8a', '8e2', '8th', '90', '900', '90025', '90028', '90066', '9020', '90210', '90212', '90245', '90266', '90292', '903', '90405', '905', '906', '908', '909', '90th', '91', '910', '9100', '911', '9130', '91302', '91367', '914', '915', '91602', '917', '919', '92', '920', '92008', '92011', '92014', '92057', '92101', '92108', '92121', '92127', '924', '925', '92612', '92626', '92647', '92660', '92675', '92679', '92692', '927', '92705', '9273', '928', '929', '93', '930', '931', '93109', '9311', '93309', '935', '9350', '936', '94', '94022', '94025', '94070', '94080', '94089', '94104', '941i5', '942', '945', '94587', '946', '948', '949', '95', '950', '95014', '95035', '95050', '95134', '95472', '95616', '95687', '9586', '96', '960', '962', '963', '9663', '968', '97', '97034', '97124', '972', '97201', '97202', '97210', '978', '97th', '98', '98026', '98040', '98103', '98112', '98121', '983', '9865', '988', '99', '9955', '9972', '999', '9th', 'a1', 'a12', 'aaa', 'aavid', 'abandon', 'abassi', 'abbasi', 'abbat', 'abbevill', 'abernathi', 'abhorr', 'abid', 'abil', 'abl', 'aboard', 'about', 'abov', 'above', 'abovement', 'abroad', 'abrog', 'absenc', 'absent', 'abshir', 'absolut', 'abstain', 'abstract', 'abus', 'acacia', 'accel', 'acceler', 'accept', 'access', 'accessori', 'accid', 'accident', 'accommod', 'accompani', 'accomplish', 'accord', 'account', 'accru', 'accrual', 'accumul', 'accur', 'ace', 'achi', 'achiev', 'achievement', 'acknowledg', 'acknowledged', 'acquaint', 'acquir', 'acquired', 'acquisit', 'acquisition', 'acquisitions', 'acquist', 'acquit', 'across', 'act', 'action', 'activ', 'activities', 'activity', 'acts', 'actual', 'actuari', 'ad', 'adam', 'add', 'addenda', 'addendum', 'addesso', 'addi', 'addict', 'addiction', 'addit', 'address', 'addresse', 'adea', 'adequ', 'adequaci', 'adher', 'adjud', 'adjudg', 'adjunct', 'adjust', 'adleman', 'administ', 'administr', 'administrators', 'admiralti', 'admiss', 'admit', 'adopt', 'adr', 'adult', 'advanc', 'advance', 'advantag', 'advantage', 'advbatterytech8000051308ex10', 'advers', 'adversari', 'advertis', 'advest', 'advic', 'advis', 'advisor', 'advisori', 'advocaci', 'aenci', 'aeropostal', 'aerotech', 'aeti', 'aetna', 'affair', 'affairs', 'affect', 'affili', 'affiliates', 'affirm', 'affix', 'afflict', 'affluent', 'afford', 'aforement', 'aforesaid', 'africa', 'after', 'afternoon', 'against', 'age', 'agenc', 'agency', 'agent', 'agents', 'aggreg', 'aggregate', 'aglialoro', 'agoura', 'agre', 'agreeabl', 'agreement', 'agreementon', 'agreements', 'agrrement', 'ahead', 'ahern', 'ahi', 'ahv', 'aid', 'aihua', 'ainsworth', 'aip', 'air', 'aircraft', 'airfar', 'airi', 'airlin', 'airport', 'airtran', 'airway', 'akbar', 'aker', 'akron', 'al', 'alabama', 'alachua', 'alam', 'alamosa', 'alan', 'alaska', 'albani', 'albany', 'albert', 'albrecht', 'albright', 'albrightemployagrmnt20158000', 'alchemyrx', 'alcohol', 'aleri', 'alexand', 'alexi', 'alfonso', 'alfr', 'algemen', 'algorithm', 'algorx', 'ali', 'alia', 'alic', 'alien', 'align', 'alik', 'all', 'allan', 'alleg', 'allegretto', 'allen', 'allenbaugh', 'allet', 'alli', 'allianc', 'alliedsign', 'allison', 'alloc', 'allot', 'allow', 'alon', 'along', 'alphabet', 'alpharetta', 'alreadi', 'alse', 'also', 'alter', 'altern', 'although', 'alto', 'alton', 'alv', 'alvin', 'alway', 'am', 'ambigu', 'ambiti', 'amend', 'amendatori', 'amended', 'amendment', 'amendments', 'amer', 'america', 'american', 'amex', 'amic', 'amir', 'among', 'amongst', 'amongth', 'amort', 'amou', 'amount', 'amp', 'ampl', 'amsdel', 'an', 'ana', 'anadig', 'analog', 'analys', 'analysi', 'analyst', 'analyt', 'analyz', 'ancecoverag', 'ancestri', 'anchorag', 'ancillari', 'and', 'anderson', 'andi', 'andora', 'andov', 'andr', 'andra', 'andrew', 'andrx', 'anduin', 'angel', 'angiodynam', 'anguillia', 'ani', 'ann', 'annandal', 'annex', 'anniversari', 'annot', 'announc', 'annual', 'annuiti', 'annum', 'anoth', 'anslow', 'answer', 'answerthink', 'antagonist', 'anthoni', 'anti', 'anticip', 'antoin', 'antonia', 'antonio', 'anuj', 'anw', 'anyon', 'anyth', 'anytim', 'anyway', 'anywher', 'aohong', 'aol', 'aow', 'apart', 'appar', 'apparatus', 'apparel', 'appeal', 'appear', 'appel', 'append', 'appendic', 'appendix', 'appertain', 'appli', 'applic', 'applicable', 'apply', 'appoint', 'apprais', 'appreci', 'appris', 'approach', 'appropri', 'approv', 'approve', 'approxim', 'appurten', 'apr', 'april', 'aprm', 'apt', 'aptitud', 'aquilex', 'aramark', 'arap', 'arbeidsvoorwaarden', 'arbeitnehmrerfindungen', 'arbit', 'arbitr', 'arbitrag', 'arbitrari', 'arbitrarili', 'arbitration', 'arbnerfg', 'arbor', 'arch', 'archbold', 'architect', 'architectur', 'arden', 'are', 'area', 'areement', 'arena', 'arid', 'aris', 'arisen', 'arizona', 'arkansa', 'arlen', 'arm', 'armi', 'armstrong', 'aromatas', 'aronovitz', 'aros', 'around', 'arra', 'arrang', 'arrangements', 'arrear', 'arri', 'arrison', 'arriv', 'art', 'artal', 'arthrocar', 'arthur', 'articl', 'artifici', 'artwork', 'as', 'asburi', 'ascertain', 'ascii', 'ascrib', 'ash', 'asher', 'ashok', 'ashour', 'asia', 'asid', 'ask', 'askew', 'askin', 'aspect', 'assault', 'assembl', 'assent', 'assert', 'assess', 'asset', 'assets', 'assign', 'assigne', 'assignee', 'assignment', 'assigns', 'assimil', 'assist', 'assistance', 'associ', 'assum', 'assumpt', 'assur', 'ast', 'asterisk', 'aston', 'asymptomat', 'at', 'athenahealth', 'athlet', 'atkin', 'atlanta', 'atmi', 'att', 'attach', 'attached', 'attain', 'attempt', 'attend', 'attent', 'attest', 'attik', 'attn', 'attor', 'attorn', 'attorney', 'attract', 'attribut', 'atv', 'auburn', 'audio', 'audiovisu', 'audit', 'auditor', 'audubon', 'augm', 'augment', 'auguat', 'august', 'augusta', 'aurora', 'auspic', 'austin', 'australia', 'author', 'authority', 'authorship', 'auto', 'autobytel', 'autom', 'automat', 'automobil', 'automot', 'autri', 'avail', 'available', 'ave', 'avenu', 'averag', 'avi', 'avista', 'avoid', 'avon', 'awar', 'award', 'away', 'awbz', 'ayman', 'ayr', 'b220', 'b2b', 'baan', 'babler', 'bachelor', 'back', 'background', 'bad', 'badg', 'badger', 'bagatell', 'bailey', 'baker', 'bakersfield', 'balanc', 'balancetyp', 'ballou', 'balthrop', 'banco', 'bancorp', 'bancshar', 'band', 'bank', 'banker', 'bankrupt', 'bankruptci', 'banucci', 'bao', 'bar', 'barak', 'barbara', 'bareket', 'barfield', 'bargain', 'barker', 'barney', 'barnicl', 'barr', 'barri', 'barter', 'barthlow', 'base', 'bashforth', 'basi', 'basic', 'basis', 'bask', 'bassan', 'bassett', 'bateman', 'bati', 'baton', 'batson', 'batteri', 'baumgart', 'baur', 'bay', 'bci', 'bcl', 'bcm', 'be', 'beach', 'beachwood', 'bear', 'beati', 'beatric', 'beatti', 'beaufort', 'becam', 'becaus', 'becker', 'becom', 'bedford', 'beech', 'been', 'beer', 'befor', 'began', 'begin', 'behalf', 'behavior', 'beij', 'belam', 'belief', 'believ', 'bell', 'bellora', 'belohoubek', 'belong', 'below', 'belrol', 'ben', 'bench', 'benchtop', 'bend', 'benefici', 'beneficiari', 'benefit', 'benefits', 'benjamin', 'bennett', 'benson', 'ber', 'bereav', 'bergamo', 'berger', 'berlin', 'bermuda', 'bernstein', 'berri', 'berstunden', 'berwyn', 'berzeit', 'best', 'bethel', 'bethesda', 'bett', 'better', 'between', 'bever', 'beverag', 'beyond', 'bgc', 'bharatan', 'bi', 'bias', 'bid', 'biennial', 'big', 'bigband', 'biggest', 'bilbao', 'bill', 'billi', 'biloxi', 'bimonth', 'bind', 'binding', 'bingham', 'bingo', 'binomi', 'biodistribut', 'biolog', 'biopharma', 'biopharmx', 'bioscienc', 'biosourc', 'biotech', 'birth', 'birthday', 'bison', 'bitcoin', 'bitcoinshop', 'biweek', 'bj', 'black', 'blackout', 'blair', 'blake', 'blakesle', 'blank', 'blazer', 'bldg', 'block', 'blocker', 'blodgett', 'blood', 'bloomberg', 'bloomfield', 'bloomington', 'blucora', 'blue', 'bluecross', 'bluedevil2', 'blueprint', 'blueshield', 'blum', 'blvd', 'bo', 'board', 'bob', 'boca', 'bod', 'bodi', 'bogomolov', 'bohn', 'bol', 'boland', 'bolduc', 'bolognesi', 'bona', 'bonczek', 'bond', 'bonus', 'book', 'booklet', 'boon', 'booz', 'borel', 'born', 'borrow', 'boston', 'both', 'bottl', 'bottom', 'boudreau', 'boulder', 'boulevard', 'bound', 'bouthilet', 'bowman', 'box', 'boy', 'bradford', 'bragdon', 'branch', 'brand', 'brands', 'brandstrom', 'brascan', 'bre', 'brea', 'breach', 'breadth', 'break', 'breast', 'brennan', 'brett', 'brew', 'brewer', 'bri', 'brian', 'bridg', 'bridgwat', 'brief', 'brigg', 'brill', 'bring', 'british', 'broad', 'broadcast', 'broaden', 'broader', 'broadest', 'broadway', 'brochur', 'brockton', 'broken', 'broker', 'brokerag', 'brook', 'brooker', 'brookfield', 'brother', 'brotman', 'brotzel', 'brought', 'broward', 'brown', 'broyhil', 'bruce', 'brun', 'bryan', 'bryson', 'btw', 'bubb', 'buca', 'buccino', 'buchholtz', 'buck', 'buckingham', 'budget', 'budgetari', 'buho', 'build', 'bulletin', 'buprenorphin', 'burch', 'burden', 'bureau', 'burgess', 'burkett', 'burlington', 'burn', 'bus', 'bush', 'bushnel', 'busi', 'business', 'businesses', 'businesslik', 'businesspark', 'but', 'buy', 'buyer', 'buyout', 'bv', 'bvg', 'bvi', 'by', 'byer', 'bylaw', 'bylaws', 'byrn', 'c200', 'ca', 'caah8000ex10', 'cabl', 'cadillac', 'cafeteria', 'cal', 'calabasa', 'calamo', 'calcium', 'calcul', 'calendar', 'calero', 'calibr', 'california', 'calim', 'call', 'callahan', 'callan', 'calpin', 'calvin', 'cambridg', 'came', 'camel', 'camera', 'cameron', 'caminito', 'camino', 'camp', 'campaign', 'campbel', 'campus', 'can', 'canaan', 'canada', 'canaday', 'canadian', 'canari', 'cancel', 'canceled', 'cancer', 'candi', 'candid', 'candidaci', 'cannot', 'canterburi', 'canton', 'cantor', 'canvass', 'cap', 'capabl', 'capac', 'capacity', 'capistrano', 'capit', 'capri', 'caption', 'car', 'carbon', 'card', 'carden', 'cardi', 'cardiac', 'cardkey', 'care', 'career', 'carey', 'cargo', 'cari', 'carl', 'carlo', 'carlsbad', 'carlucci', 'carn', 'carnegi', 'carniv', 'carol', 'carolina', 'carpent', 'carr', 'carri', 'carrier', 'carrol', 'carryov', 'carson', 'carter', 'caruso', 'case', 'cash', 'cashless', 'casino', 'cast', 'casualti', 'catalog', 'catalogu', 'catastroph', 'categori', 'cater', 'catherin', 'cation', 'cattl', 'caus', 'cause', 'cause1', 'causeway', 'caution', 'cautionari', 'cayman', 'caza', 'cbai', 'cc', 'cca', 'ccg', 'cco', 'ccpu', 'cdi', 'cdn', 'ce', 'ceas', 'ceco', 'cedar', 'ceil', 'cel', 'celano', 'celebr', 'cell', 'cellular', 'censur', 'cent', 'cental', 'centale8000042508ex10', 'center', 'centr', 'central', 'ceo', 'cer', 'certain', 'certif', 'certifi', 'cervant', 'cesario', 'cessat', 'cf', 'cf101', 'cfa', 'cfo', 'cfr', 'cgo', 'chain', 'chair', 'chairman', 'chalk', 'challeng', 'chamba', 'chamber', 'chanc', 'chang', 'change', 'changes', 'changsha', 'channel', 'chapel', 'chapter', 'charact', 'character', 'characterist', 'charg', 'chargeabl', 'charit', 'charl', 'charleston', 'charlestown', 'charli', 'charlott', 'chart', 'charter', 'cheap', 'check', 'checker', 'checklist', 'chemerow', 'chemic', 'chemistri', 'chen', 'cherish', 'cherri', 'cheryl', 'chester', 'cheviot', 'chevrolet', 'chf', 'chi', 'chicago', 'chico', 'chief', 'child', 'childbirth', 'childcar', 'children', 'childtim', 'chin', 'china', 'chinagrn', 'chinagrowth', 'chinav', 'chinayida', 'chines', 'chini', 'chip', 'chipperfield', 'chlo', 'choic', 'chong', 'choos', 'chopra', 'chosen', 'chris', 'christi', 'christma', 'christoph', 'chronic', 'chrysali', 'chuag', 'chubei', 'chuck', 'chunfeng', 'chung', 'churchil', 'cic', 'cigna', 'cii', 'cik', 'cincinnati', 'cinedigm', 'cinema', 'circl', 'circuit', 'circul', 'circumst', 'circumstances', 'cisario', 'cit', 'cite', 'citi', 'citicorp', 'citigroup', 'citizen', 'citizenship', 'citra', 'citywest', 'civ', 'civanto', 'civic', 'civil', 'cki', 'claim', 'claimant', 'claims', 'clamen', 'clancey', 'clara', 'clarewil', 'clarif', 'clarifi', 'clark', 'class', 'classes', 'classif', 'classifi', 'claus', 'clavijo', 'clawback', 'clean', 'clear', 'clearanc', 'cleari', 'clegg', 'clemmer', 'cleric', 'clete', 'cleveland', 'clewerwal', 'cley', 'click', 'client', 'clientel', 'cliff', 'clifton', 'clinic', 'clint', 'clinton', 'close', 'closer', 'closest', 'closser', 'closur', 'cloth', 'club', 'cmo', 'cms', 'co', 'co8', 'coach', 'coal', 'coast', 'coat', 'cobra', 'coburn', 'cocain', 'cochran', 'code', 'coercion', 'coffe', 'cogdil', 'cohen', 'coher', 'cohr', 'coincid', 'cole', 'collabor', 'collater', 'collect', 'collector', 'colleg', 'collin', 'collison', 'cologn', 'color', 'colorado', 'columbia', 'column', 'com', 'combin', 'comcast', 'come', 'comfort', 'comgenrx', 'comm', 'commenc', 'commensur', 'comment', 'commerc', 'commerci', 'commiss', 'commissi', 'commission', 'commit', 'committe', 'committee', 'commod', 'common', 'commonwealth', 'communi', 'communic', 'communications', 'communiti', 'commut', 'comp', 'compani', 'companies', 'company', 'compar', 'comparison', 'compat', 'compel', 'compens', 'compensation', 'compensatori', 'compet', 'compete', 'competes', 'competit', 'competition', 'competitor', 'compil', 'complain', 'complaint', 'complementari', 'complet', 'complex', 'compli', 'complianc', 'compliant', 'compofelic', 'compon', 'compos', 'composit', 'compound', 'comprehens', 'compris', 'compromis', 'compton', 'comptrol', 'compulsori', 'comput', 'compx', 'comstock', 'comvers', 'con', 'conceiv', 'concept', 'concepts', 'concern', 'concert', 'concis', 'conclud', 'conclus', 'concur', 'concurr', 'condit', 'conduct', 'conexus', 'confer', 'confess', 'confid', 'confidenti', 'confidential', 'confidentiality', 'confidentialti', 'configur', 'confirm', 'confirmatori', 'confl', 'conflict', 'conform', 'congratul', 'congress', 'conjectur', 'conjunct', 'conley', 'conn', 'connect', 'connecticut', 'connerti', 'connor', 'conrad', 'conscienti', 'consecut', 'consensus', 'consent', 'consequ', 'consequenti', 'consid', 'consider', 'consideration', 'consist', 'consolid', 'consolidated', 'consolidation', 'conspiraci', 'constanc', 'constant', 'constituencies', 'constitut', 'constrain', 'constraint', 'constru', 'construct', 'consult', 'consultant', 'consum', 'consumm', 'consylman', 'contact', 'contain', 'contempl', 'contemporan', 'contemporari', 'contempt', 'contend', 'contender', 'contendr', 'content', 'contest', 'context', 'contextid', 'contextref', 'conti', 'contigu', 'continent', 'conting', 'continu', 'contract', 'contractor', 'contractors', 'contractu', 'contradict', 'contrari', 'contraven', 'contravent', 'contribut', 'contributor', 'contributori', 'contro', 'control', 'control2', 'controller', 'controversi', 'conven', 'conveni', 'convers', 'convert', 'convey', 'convict', 'convinc', 'conway', 'coo', 'cook', 'cooper', 'coordin', 'cope', 'copi', 'copland', 'copyright', 'coral', 'corcel', 'cord', 'core', 'corey', 'corgentech', 'cornerston', 'coro', 'corollari', 'corp', 'corpor', 'corporateprofil', 'corporation', 'correct', 'correspond', 'cosm', 'cosmos', 'cost', 'costa', 'costello', 'coto', 'cottag', 'could', 'counsel', 'counselor', 'count', 'counter', 'counterclaim', 'counterpart', 'countersign', 'counti', 'counties', 'countri', 'county', 'courier', 'cours', 'court', 'courtsid', 'cove', 'coven', 'covenant', 'cover', 'coverag', 'coverage', 'covern', 'cowart', 'cpa', 'cpi', 'cpm', 'craig', 'crant', 'crawford', 'creasman', 'creat', 'creation', 'creativ', 'credenti', 'credit', 'creditor', 'creed', 'creek', 'crescent', 'crest', 'crew', 'criimi', 'crime', 'crimin', 'crimson', 'crise', 'crisi', 'criteria', 'critic', 'crm', 'cronan', 'cross', 'crowley', 'crown', 'crude', 'crum', 'cryo', 'crystal', 'csaba', 'ct', 'ctd', 'cte', 'cto', 'cts', 'culang', 'cumetrix', 'cumul', 'cumulative', 'cuneo', 'cupertino', 'curabl', 'cure', 'curi', 'curr', 'currenc', 'currencycod', 'currencysymbol', 'current', 'curriculum', 'curtail', 'curti', 'curtin', 'custodi', 'custom', 'customari', 'customarili', 'customers', 'cut', 'cutler', 'cvc', 'cyberon', 'cybex', 'cycl', 'cynthia', 'cypress', 'cytori', 'da', 'daddi', 'dade', 'dagenai', 'dahe', 'daili', 'dakey', 'dale', 'daleen', 'dalla', 'damag', 'dameri', 'dammer', 'dan', 'danburi', 'danger', 'dani', 'dania', 'daniel', 'danni', 'darien', 'dart', 'data', 'databas', 'date', 'dauber', 'dave', 'davi', 'david', 'davidson', 'dawson', 'day', 'daybrook', 'days', 'daytona', 'dc', 'dc8091', 'dcp', 'dct', 'de', 'dea', 'dead', 'deal', 'dealer', 'dealing', 'dealings', 'dealt', 'dean', 'dear', 'dearborn', 'death', 'debentur', 'debra', 'debt', 'debtor', 'deceas', 'deceit', 'decemb', 'decept', 'decid', 'decis', 'declar', 'declaratori', 'declin', 'decor', 'decre', 'decreas', 'dedic', 'dedication', 'deduct', 'deed', 'deem', 'deepak', 'deer', 'deerfield', 'deerwood', 'defalc', 'defam', 'defamation', 'defamatori', 'default', 'defeat', 'defend', 'defens', 'defense', 'defer', 'deferr', 'defianc', 'defici', 'defin', 'definit', 'definition', 'defmit', 'defray', 'degre', 'deitchl', 'del', 'delawar', 'delay', 'delayed', 'deleg', 'delet', 'deliber', 'delight', 'deliv', 'deliveri', 'delo', 'deloitt', 'delray', 'delta', 'demand', 'demattei', 'demonstr', 'demot', 'demurr', 'den', 'deni', 'denial', 'denis', 'denison', 'denni', 'denomin', 'denominatormeasur', 'denot', 'dental', 'dentist', 'denton', 'denuccio', 'denver', 'depart', 'department', 'departur', 'depend', 'deploy', 'deposit', 'depositor', 'depositori', 'depreci', 'depress', 'depriv', 'derbi', 'derelict', 'deriv', 'derma', 'derogatori', 'desaram2010agre', 'descent', 'describ', 'descript', 'desgarenn', 'design', 'designe', 'designee', 'desir', 'desires', 'despit', 'destin', 'destroy', 'destruct', 'detail', 'detect', 'detector', 'detent', 'determin', 'determine', 'detract', 'detriment', 'deutscher', 'dev', 'develop', 'development', 'developments', 'devic', 'devise', 'devlin', 'devot', 'dewitt', 'dg', 'dgse', 'dhb', 'dhs', 'diagram', 'dialcorp', 'dialysi', 'diamondback', 'dian', 'dianta', 'diari', 'diato', 'diaz', 'dick', 'dicki', 'dickinson', 'dickson', 'dictat', 'die', 'diector', 'diego', 'diem', 'dien', 'dieter', 'differ', 'differenti', 'difficult', 'difficulti', 'digagogo', 'digit', 'digitalthink', 'digniti', 'dilig', 'diluigi', 'dilut', 'diminish', 'diminut', 'dine', 'ding', 'dinner', 'direct', 'direction', 'directiors', 'directo', 'director', 'directori', 'directors', 'directorship', 'directorships', 'disability', 'disabl', 'disabled', 'disagr', 'disallow', 'disband', 'disburs', 'disc', 'discharg', 'disciplin', 'disciplinari', 'disclaim', 'disclos', 'disclose', 'disclosed', 'disclosur', 'disclosure', 'discontinu', 'discount', 'discourag', 'discov', 'discoveri', 'discredit', 'discrep', 'discret', 'discretion', 'discretionari', 'discretionarili', 'discrimin', 'discriminatori', 'discuss', 'diseas', 'disfavor', 'disgorg', 'disgrac', 'dishonest', 'dishonesti', 'dishonesty', 'disk', 'diskett', 'disloyalti', 'dismember', 'dismiss', 'disobedi', 'disord', 'disparag', 'dispatch', 'display', 'displaydateinusformat', 'displaylabelcolumn', 'displayzeroasnon', 'dispos', 'disposit', 'disput', 'disputes', 'disqualif', 'disqualifi', 'disregard', 'disreput', 'disrespect', 'disrupt', 'dissatisfi', 'dissemin', 'dissent', 'dissimilar', 'dissing', 'dissolut', 'dissolv', 'distanc', 'distinct', 'distort', 'distract', 'distress', 'distribut', 'distribute', 'distributor', 'distributorship', 'district', 'disturb', 'ditn', 'div', 'divers', 'diversifi', 'divert', 'divest', 'divid', 'divide', 'dividend', 'divis', 'division', 'divita', 'divulg', 'dixi', 'dixon', 'dlj', 'do', 'doc', 'dockser', 'doctor', 'doctrin', 'document', 'documentari', 'documents', 'doe', 'dolan', 'dollar', 'domain', 'domest', 'domicil', 'domin', 'dominion', 'don', 'donald', 'donaldson', 'dondero', 'done', 'dong', 'dongsheng', 'donna', 'donnelley', 'donor', 'doodi', 'doolin', 'door', 'dor', 'dore', 'dori', 'dorian', 'dorni', 'dorr', 'dorset', 'dose', 'doubl', 'doubt', 'doug', 'dougla', 'dougralph', 'dover', 'down', 'downey', 'downsiz', 'downward', 'doylestown', 'dr', 'draft', 'drafter', 'draftsperson', 'drai', 'draw', 'drawn', 'dress', 'drew', 'dri', 'drill', 'drive', 'driven', 'driver', 'drop', 'drug', 'drunken', 'dryden', 'ds', 'dsl', 'dublin', 'dudasik', 'due', 'duffi', 'dugan', 'dui', 'duli', 'dunston', 'duplic', 'durat', 'duration', 'dure', 'duress', 'duri', 'dusthim', 'dutch', 'duti', 'duties', 'duty', 'dvd', 'dw', 'dwight', 'dwma', 'dx', 'dynam', 'dynegi', 'e1171887ex10', 'e14', 'each', 'eagl', 'ear', 'earli', 'earlier', 'earliest', 'earn', 'earned', 'earnest', 'easili', 'east', 'eau', 'eaus', 'eberhard', 'ebidta', 'ebit', 'ebitda', 'ebrahim', 'eckert', 'eco', 'ecolog', 'econom', 'economi', 'ecut', 'ed', 'edcp', 'edd', 'edelson', 'edg', 'edgemoor', 'edgewat', 'edgewater', 'edgewood', 'edman', 'edmond', 'edmonton', 'edon', 'educ', 'edwab', 'edward', 'ee', 'eemc', 'eeoc', 'eesa', 'eesc800020090911ex10', 'effect', 'effectu', 'effici', 'effort', 'efforts', 'efit', 'efj', 'efji', 'efjohnson', 'eglin', 'ehr', 'eicp', 'eight', 'eighteen', 'eighteenth', 'eighth', 'eighti', 'eileen', 'eip', 'eisenach', 'eisenhaur', 'either', 'el', 'elabor', 'elaps', 'eleas', 'elect', 'electr', 'electron', 'element', 'elementdatatyp', 'elementdefenit', 'elementnam', 'elementprefix', 'elementrefer', 'eleven', 'eleventh', 'elicit', 'elig', 'eligibility', 'elimin', 'elizabeth', 'ellen', 'elli', 'elliot', 'elliott', 'elmaleh', 'elmhurst', 'elmira', 'els', 'elsewher', 'email', 'embarrass', 'embezzl', 'embezzlement', 'embodi', 'emcc', 'emea', 'emerg', 'emeri', 'emeritus', 'emin', 'emolu', 'emot', 'emp', 'empagr', 'empagrtalarico', 'empanel', 'empir', 'empl', 'emplo', 'employ', 'employe', 'employed', 'employee', 'employees', 'employer', 'employment', 'employmentagreements8000', 'empow', 'empt', 'emptiv', 'enabl', 'enact', 'encl', 'enclos', 'enclosed', 'enclosur', 'encod', 'encompass', 'encorium', 'encount', 'encourag', 'encumb', 'encumbr', 'end', 'endeavor', 'endeavour', 'endisput', 'endors', 'endovascular', 'energi', 'enforc', 'enforceability', 'engag', 'engaged', 'engagemen', 'engin', 'engl', 'england', 'englewood', 'english', 'enhanc', 'enigma', 'enitl', 'enjoin', 'enjoy', 'enough', 'enrich', 'enrol', 'ensu', 'ensur', 'enter', 'enterlin', 'enterpris', 'entertain', 'enthusiast', 'entic', 'entir', 'entireti', 'entirety', 'entiti', 'entities', 'entitl', 'entity', 'entityschema', 'entityvalu', 'entli', 'entrepreneuri', 'entri', 'entrust', 'enumer', 'enur', 'envelop', 'environ', 'environment', 'eo', 'ep', 'epfl', 'epicept', 'eprescrib', 'equal', 'equat', 'equip', 'equit', 'equiti', 'equity', 'equival', 'equivalents', 'erat', 'eric', 'erickson', 'erisa', 'ernst', 'erron', 'error', 'erwin', 'es', 'esc8000employmntagrmnt0110', 'escrow', 'eshelman', 'esi', 'eskenazi', 'esop', 'esp', 'espe', 'especi', 'espect', 'espionag', 'espoo', 'espp', 'esq', 'esquir', 'esrp', 'essenc', 'essenti', 'essling', 'establish', 'estat', 'estevez', 'estim', 'estoppel', 'estrogen', 'et', 'etc', 'etd', 'ethic', 'ethics', 'ethnic', 'eugen', 'eur', 'euro', 'europ', 'europe', 'euroweb', 'eva', 'evalu', 'evan', 'evansvill', 'evart', 'eve', 'even', 'event', 'evenu', 'ever', 'everest', 'everett', 'evergreen', 'everi', 'evid', 'evidenc', 'evolv', 'evp', 'evri', 'evt', 'ewco', 'ewe', 'ewm', 'ex', 'ex10', 'ex101', 'ex102', 'ex1023', 'ex105', 'ex10z1', 'ex2', 'ex99', 'exact', 'exam', 'examin', 'exampl', 'exc', 'exceed', 'excel', 'except', 'excess', 'exchang', 'exchange', 'exchanged', 'exchangerateroundinglevel', 'excis', 'excit', 'exclud', 'exclus', 'excus', 'exe', 'exec', 'execut', 'executed', 'executive', 'executor', 'executuv', 'exemplari', 'exempt', 'exercis', 'exercisable', 'exercise', 'exert', 'exfil', 'exh', 'exh10', 'exhaust', 'exhibit', 'exhibit10', 'exhibit101employmentagmt', 'exhibits10', 'exhiit', 'exig', 'exist', 'exoner', 'expand', 'expans', 'expatri', 'expect', 'expedit', 'expediti', 'expend', 'expenditur', 'expens', 'expenses', 'experi', 'experienc', 'experiment', 'expert', 'expertis', 'expertise', 'expir', 'expiri', 'explain', 'explan', 'explicit', 'exploit', 'explor', 'explos', 'export', 'expos', 'exposur', 'express', 'expressli', 'expressway', 'exten', 'extend', 'extens', 'extent', 'extern', 'extinguish', 'extra', 'extraordinari', 'extrem', 'exv10w1', 'exv10w1xbi', 'exv10w2', 'exv10w3', 'exv10w4', 'exv10w43', 'exv10w55', 'exv10w72', 'exv10wxbi', 'eye', 'f508', 'f8000010314ex10i', 'f8000010909ex10i', 'f8000020111ex10ix', 'f8000020111ex10x', 'f8000022811ex10v2', 'f8000022811ex10v3', 'f8000022912ex10i', 'f8000040308ex10i', 'f8000040312ex10vii', 'f80000410ex10xii', 'f800004122012', 'f8000041910ex10000', 'f8000041910ex10l', 'f8000041910ex10m', 'f8000051510ex10i', 'f8000060410ex10ii', 'f8000062811ex10i', 'f8000081710ex10i', 'f8000cmaddy121410', 'face', 'facet', 'facil', 'facilit', 'facilities', 'facility', 'facsimil', 'fact', 'factor', 'factors', 'factual', 'fail', 'failur', 'failure', 'fair', 'fairfax', 'faith', 'fall', 'false', 'falsehood', 'falsif', 'famili', 'familiar', 'fan', 'far', 'fare', 'farmer', 'farmington', 'fas', 'fasb', 'fascimil', 'fashion', 'fast', 'fat', 'father', 'fault', 'favor', 'favour', 'fax', 'fayett', 'fayettevill', 'fbcc', 'fda', 'feasibl', 'featur', 'februari', 'feder', 'fedex', 'fee', 'feed', 'feel', 'fees', 'feet', 'feloni', 'felony', 'femal', 'feminin', 'feng', 'ferber', 'ferguson', 'fernando', 'fernwood', 'ferretti', 'ferri', 'ferrous', 'fertil', 'fess', 'fewer', 'ffreiding', 'fiber', 'fica', 'fiction', 'fictiti', 'fide', 'fidel', 'fiduciari', 'field', 'fifteen', 'fifteenth', 'fifth', 'fifti', 'figueredo', 'figur', 'fiji', 'file', 'filing', 'fill', 'film', 'final', 'financ', 'financi', 'find', 'fine', 'fingerprint', 'finish', 'finland', 'finlay', 'finn', 'finra', 'fire', 'firearm', 'firm', 'firmwar', 'first', 'firstenergi', 'fiscal', 'fischer', 'fisheri', 'fishman', 'fit', 'fite', 'fitzgerald', 'fitzrovia', 'fitzsimmon', 'fitzwilliam', 'five', 'fix', 'fl', 'flanagan', 'flat', 'fleetwood', 'flexibl', 'fli', 'flight', 'float', 'floater', 'floor', 'florham', 'florida', 'flow', 'flower', 'floyd', 'fluent', 'flynn', 'fnb', 'focal', 'focus', 'foley', 'folker', 'follow', 'follows', 'fomr8000', 'font', 'fontain', 'food', 'foot', 'footnot', 'footnoteindex', 'for', 'fora', 'forbear', 'forc', 'ford', 'forecast', 'forefront', 'forego', 'foreign', 'forese', 'forest', 'forev', 'forfeit', 'forfeitur', 'forg', 'forgac', 'forgiv', 'forgiven', 'forgo', 'forgon', 'form', 'form8', 'form8000', 'forma', 'formal', 'format', 'former', 'formul', 'formula', 'forrer', 'fort', 'forth', 'forthcom', 'forthwith', 'forti', 'fortuna', 'forum', 'forward', 'fossil', 'foster', 'found', 'foundat', 'founder', 'four', 'fourteen', 'fourth', 'fox', 'foy', 'fpic', 'fr', 'fraction', 'frame', 'franc', 'franchis', 'franchise', 'francisco', 'francoi', 'frank', 'franklin', 'franzoi', 'fraud', 'fraudul', 'frbruari', 'fred', 'fredric', 'free', 'freedom', 'freeli', 'freeman', 'freeway', 'freiding', 'fremont', 'frenkel', 'frequenc', 'frequent', 'friday', 'friedman', 'friel', 'friend', 'fring', 'frisco', 'fritz', 'frivol', 'frm10q', 'from', 'front', 'frontag', 'frontenac', 'fsa', 'fsd', 'ftc', 'fu', 'fuch', 'fuel', 'fufil', 'fujitsu', 'fukunaga', 'fulfil', 'full', 'fullest', 'fulli', 'fulltim', 'fulwood', 'function', 'fund', 'fundament', 'fundrais', 'fung', 'funim', 'funnel', 'furlough', 'furnish', 'furnitur', 'furrow', 'further', 'furthermor', 'futur', 'fy', 'fy06', 'fy07', 'fy08', 'fy09', 'fy10', 'fy18', 'fy2012', 'fye', 'g068765', 'ga', 'gaap', 'gabl', 'gadel', 'gaetz', 'gain', 'galeoto', 'galleria', 'galley', 'gambl', 'game', 'gangwani', 'gap', 'garb', 'garc', 'garcia', 'gard', 'garden', 'gardner', 'gardoqui', 'gari', 'garnish', 'garrett', 'gas', 'gasolin', 'gast', 'gate', 'gateway', 'gatx', 'gave', 'gbolduc', 'ge', 'geert', 'gen', 'genaera', 'gender', 'gene', 'general', 'generally', 'generat', 'generic', 'generous', 'geneva', 'genova', 'geoffrey', 'geograph', 'geographi', 'georg', 'georgia', 'gerald', 'gerber', 'german', 'germani', 'gesetz', 'get', 'getti', 'gibbl', 'gibson', 'gibsonia', 'gift', 'gilman', 'gina', 'girl', 'give', 'given', 'giver', 'glaucoma', 'gleason', 'glen', 'glenco', 'glenmont', 'glenmor', 'glenn', 'glenwood', 'global', 'glossari', 'gloucest', 'glove', 'glycosid', 'gmac', 'gmbh', 'go', 'goal', 'goals', 'goehr', 'goggl', 'gold', 'goldberg', 'golden', 'goldfarb', 'goldstein', 'golf', 'gonz', 'good', 'goodman', 'goodwil', 'goozex', 'gorog', 'gorosh', 'gottlieb', 'gough', 'gov', 'govern', 'government', 'grace', 'grade', 'gradi', 'graduat', 'graham', 'grain', 'grand', 'grandchildren', 'granger', 'grant', 'grantor', 'graphic', 'grate', 'gratuiti', 'grave', 'gray', 'great', 'greater', 'greatest', 'green', 'greenberg', 'greenlaw', 'greensboro', 'greenview', 'greenvill', 'greenway', 'greenwich', 'greg', 'gregori', 'greiner', 'grievanc', 'grigg', 'grigorio', 'gross', 'grossli', 'grossman', 'ground', 'group', 'grove', 'grow', 'growth', 'gryphon', 'gsi', 'gt', 'guangwen', 'guarante', 'guarantor', 'guard', 'guardian', 'guerrino', 'guest', 'guichard', 'guid', 'guidanc', 'guidelin', 'guidelines', 'guild', 'guilder', 'guilford', 'guilt', 'guilti', 'guo', 'gus', 'guthri', 'gym', 'h150', 'h1b', 'haag', 'habit', 'habitu', 'hackett', 'had', 'haddril', 'haft', 'haider', 'haiz', 'hal', 'hala', 'hale', 'half', 'hallstead', 'hamburg', 'hamilton', 'hamlin', 'hamman', 'hammergren', 'hampshir', 'hampson', 'han', 'hancock', 'hand', 'handbook', 'handerhan', 'handheld', 'handicap', 'handl', 'hanley', 'hanlon', 'hannah', 'hanneman', 'hannon', 'hanson', 'happ', 'happen', 'happi', 'happier', 'hara', 'harass', 'harbin', 'harbison', 'harbor', 'hard', 'hardship', 'hardwar', 'harm', 'harmless', 'harn', 'harper', 'harrel', 'harri', 'harrington', 'harrison', 'hartford', 'hartman', 'hartmut', 'hartson', 'harvey', 'has', 'hascustomunit', 'hasembeddedreport', 'hasharon', 'hasscenario', 'hasseg', 'hast', 'have', 'hawaii', 'hawthorn', 'hayn', 'hayward', 'hazard', 'hb', 'he', 'head', 'headlamp', 'headquart', 'headquarters', 'health', 'healthcar', 'healthi', 'hear', 'heard', 'heat', 'hecht', 'hedg', 'heid', 'heidrick', 'height', 'heiloo', 'hein', 'heinemann', 'heir', 'held', 'heller', 'helm', 'helman', 'help', 'hemispherx', 'hemmenway', 'henc', 'henceforth', 'heneghan', 'henri', 'her', 'herbert', 'herbi', 'hercul', 'here', 'hereaft', 'hereafter', 'herebi', 'herefrom', 'herein', 'hereinabov', 'hereinaft', 'hereinbefor', 'hereinbelow', 'hereof', 'hereto', 'heretofor', 'hereund', 'hereunder', 'hereunto', 'herewith', 'hero', 'heroin', 'herself', 'herzlia', 'hesit', 'hess', 'heusinkveld', 'hfs', 'hfsi', 'hi', 'hick', 'hidden', 'hierra', 'higginson', 'high', 'higher', 'highest', 'highland', 'highlight', 'highway', 'hill', 'hilley', 'hillsboro', 'hillsborough', 'hilson', 'him', 'himself', 'hinder', 'hinkley', 'hire', 'his', 'hispano', 'histor', 'histori', 'hk', 'hme8000pettinellaemployagr', 'hmo', 'hmos', 'hoag', 'hoch', 'hod', 'hogan', 'hoi', 'hold', 'holdco', 'holder', 'hole', 'holger', 'holiday', 'holidays', 'holliman', 'hollywood', 'holm', 'holo', 'holt', 'home', 'homeland', 'homemad', 'honest', 'honesti', 'hong', 'honolulu', 'honor', 'honoraria', 'hook', 'hooper', 'hoover', 'hope', 'hopper', 'horgan', 'horizon', 'hors', 'horsham', 'horton', 'hortonvill', 'hospit', 'host', 'hostil', 'hotel', 'hotjob', 'hour', 'hours', 'hous', 'household', 'housing', 'houston', 'how', 'howard', 'howev', 'howstuffwork', 'hpt', 'hr', 'hsien', 'hsinchu', 'hsun', 'htm', 'http', 'hu', 'huan', 'huang', 'hudson', 'huebner', 'huff', 'huge', 'huggin', 'hugh', 'human', 'hunan', 'hundr', 'hundredth', 'hungari', 'hunt', 'huntington', 'huntz', 'huss', 'hutt', 'hwi', 'hydrocarbon', 'hypothec', 'hypothet', 'ial', 'ian', 'iannaron', 'iatan', 'iberdrola', 'ibi', 'icn', 'ict', 'id', 'idaho', 'idea', 'ident', 'identif', 'identifi', 'identified', 'ie', 'ient', 'if', 'ii', 'iii', 'il', 'ilc', 'ill', 'illeg', 'illicit', 'illinoi', 'illness', 'illustr', 'ilona', 'im', 'imag', 'immedi', 'immediately', 'immigr', 'impact', 'impair', 'imparti', 'imped', 'impermiss', 'implant', 'implantsci', 'implement', 'impli', 'implic', 'implicit', 'implied', 'import', 'impos', 'imposit', 'imposs', 'impractic', 'impress', 'imprison', 'improp', 'improprieti', 'improv', 'imput', 'ims', 'imsc', 'imsc8000120323', 'in', 'inability', 'inabl', 'inaccur', 'inaccuraci', 'inact', 'inadequ', 'inadvert', 'inapplic', 'inappropri', 'inasmuch', 'inattent', 'inc', 'incap', 'incapac', 'incapacit', 'incapacity', 'incarcer', 'incent', 'incid', 'incident', 'inclement', 'inclu', 'includ', 'including', 'inclus', 'incom', 'incompat', 'incompet', 'incomplet', 'inconsequenti', 'inconsist', 'inconven', 'inconveni', 'incorpor', 'incorrect', 'increas', 'increases', 'increment', 'incumb', 'incur', 'incurr', 'incurred', 'inde', 'indebted', 'indefinit', 'indemn', 'indemnif', 'indemnifi', 'indemnification', 'independ', 'index', 'indiana', 'indianapoli', 'indic', 'indicia', 'indict', 'indirect', 'individu', 'induc', 'industri', 'industry', 'ineffect', 'inevit', 'infer', 'inferior', 'infinit', 'infirm', 'inflict', 'influenc', 'infocross', 'inform', 'information', 'infospac', 'infrastructur', 'infrequ', 'infring', 'ingato', 'ingenu', 'inher', 'inherit', 'inhibit', 'inhibitor', 'inim', 'initi', 'initial', 'initio', 'injunct', 'injur', 'injuri', 'injuries', 'innov', 'inop', 'inoper', 'input', 'inquir', 'inquiri', 'inquiry', 'insan', 'insepar', 'insert', 'insid', 'insight', 'insignific', 'insist', 'insobrieti', 'insofar', 'insolv', 'inspect', 'instal', 'instanc', 'instance', 'instancereport', 'instead', 'institut', 'instruct', 'instrument', 'insubordin', 'insubordination', 'insubstanti', 'insuffici', 'insulin', 'insur', 'insurance', 'insurrect', 'int', 'intang', 'integr', 'integrity', 'intellect', 'intellectu', 'intellig', 'intelligroup', 'intellisearch', 'intend', 'intens', 'intent', 'inter', 'interact', 'interchang', 'intercontinent', 'interdivision', 'interep', 'interest', 'interests', 'interf', 'interfac', 'interfer', 'interi', 'interim', 'intermedi', 'intermediari', 'intermix', 'intern', 'internet', 'interoffic', 'interperson', 'interpol', 'interpret', 'interpretation', 'interrogatori', 'interrupt', 'interst', 'interv', 'interven', 'interview', 'interwest', 'intim', 'intimaci', 'into', 'intox', 'intoxic', 'intranet', 'intrins', 'introduc', 'introduct', 'introductori', 'inur', 'invalid', 'invalu', 'invent', 'inventions', 'inventor', 'inventori', 'inver', 'invest', 'investig', 'investor', 'investors', 'inviol', 'invit', 'invoic', 'invok', 'involuntari', 'involuntarili', 'involv', 'involved', 'ion', 'ior', 'iowa', 'ipo', 'ir', 'ira', 'irbi', 'irc', 'ireland', 'irradi', 'irrepar', 'irrespect', 'irrevers', 'irrevoc', 'irv', 'irvin', 'is', 'isabstractgrouptitl', 'isbaseel', 'isbeginningbal', 'iscalendartitl', 'isclosur', 'isco', 'ise', 'iselin', 'isendingbal', 'isep', 'isequityadjustmentrow', 'isequityprevioslyreportedasrow', 'isi', 'isindependantcurr', 'isl', 'island', 'isnumer', 'iso', 'iso4217', 'isol', 'isra', 'israel', 'isramco', 'isratio', 'isreporttitl', 'isreversesign', 'issegmenttitl', 'issu', 'issuabl', 'issuanc', 'issubreportend', 'issued', 'issuer', 'istotallabel', 'istupl', 'it', 'italian', 'item', 'ithaca', 'ito', 'itself', 'itt', 'iv', 'ivonna', 'ix', 'jack', 'jackson', 'jaclin', 'jacobson', 'jail', 'jal', 'jam', 'jame', 'jamsadr', 'jan', 'jane', 'janina', 'jankov', 'januari', 'january', 'japan', 'jason', 'javelin', 'javier', 'jay', 'jean', 'jeann', 'jeff', 'jefferi', 'jefferson', 'jeffrey', 'jen', 'jenkin', 'jenrett', 'jepson', 'jermoluk', 'jerneyc', 'jerom', 'jerri', 'jersey', 'jevan', 'jewelri', 'jfk', 'jianghang', 'jiangmen', 'jianp', 'jile', 'jill', 'jim', 'jinsha', 'jla', 'jlb', 'jmb', 'joan', 'job', 'jobberi', 'joe', 'joel', 'joesph', 'john', 'johnson', 'join', 'joinder', 'joint', 'jonathan', 'jone', 'jordan', 'jorg', 'jos', 'jose', 'joseph', 'journal', 'joyc', 'jr', 'jrs', 'juan', 'judd', 'judg', 'judgement', 'judgment', 'judicata', 'judici', 'judith', 'juli', 'jun', 'june', 'junien', 'junior', 'juri', 'jurisdict', 'jurisdiction', 'just', 'justic', 'justif', 'justifi', 'kagan', 'kahn', 'kai', 'kalist', 'kamerick', 'kanod', 'kansa', 'kappa', 'kartchner', 'kast', 'kathi', 'kathleen', 'kathryn', 'katzman', 'kaufman', 'kaufmann', 'kay', 'kb', 'kearney', 'keel', 'keeler', 'keep', 'keith', 'kelley', 'kelli', 'ken', 'kennedi', 'kenneth', 'kensey', 'kensington', 'kent', 'kept', 'ker', 'kerri', 'kerschner', 'kersten', 'kessler', 'ketchum', 'kevin', 'key', 'keycard', 'keynam', 'keyuan', 'keyuanpetro', 'kfx', 'khilnani', 'kick', 'kiepert', 'kilbourn', 'kilomet', 'kim', 'kind', 'kingdom', 'kinsey', 'kinship', 'kirk', 'kiser', 'klaus', 'kleen', 'klein', 'klepac', 'know', 'knowledg', 'known', 'knox', 'koepsel', 'kohlscheen', 'kollin', 'kong', 'konstantino', 'korn', 'korybut', 'kosan', 'kp', 'kpis', 'kpmg', 'kpn', 'kracklauer', 'kraig', 'kramer', 'krantz', 'krishnan', 'kristin', 'kroeker', 'krohn', 'krotin', 'ksa', 'kubi', 'kung', 'kuntz', 'kuo', 'kurtz', 'kuttner', 'kv', 'kwong', 'l4l', 'la', 'lab', 'label', 'labelcolumn', 'labor', 'laboratori', 'labour', 'labrouss', 'lacey', 'lack', 'lademach', 'lafayett', 'lafferti', 'lage', 'lai', 'lake', 'laleman', 'lanc', 'lancast', 'land', 'landen', 'landi', 'landscap', 'lane', 'langbein', 'langeck', 'languag', 'lans', 'lant', 'lante', 'lantern', 'lapolla', 'laps', 'laptop', 'larg', 'larger', 'largest', 'larri', 'larsen', 'las', 'lasala', 'lasall', 'laser', 'lason', 'last', 'latania', 'late', 'later', 'latest', 'latham', 'latter', 'latulip', 'lau', 'lauderdal', 'laughlin', 'launch', 'laura', 'laurel', 'laurenc', 'lausann', 'lausanne', 'law', 'lawrenc', 'laws', 'lawsuit', 'lawyer', 'lay', 'layoff', 'lead', 'leader', 'leadership', 'leander', 'leari', 'learn', 'leas', 'least', 'leav', 'leave', 'led', 'lee', 'lefebvr', 'left', 'legal', 'legate', 'legatees', 'legend', 'legisl', 'legislatur', 'legitim', 'lehman', 'leitz', 'lementdatatyp', 'lemon', 'lemond', 'lend', 'lender', 'length', 'lengthi', 'lentz', 'lenzer', 'leon', 'leonard', 'leonia', 'leroy', 'lesli', 'less', 'lesse', 'lessen', 'lesser', 'lessor', 'lest', 'lester', 'let', 'letizia', 'letter', 'letterhead', 'levangi', 'level', 'leverag', 'levi', 'levin', 'levitz', 'lewi', 'lewin', 'lexcion', 'lexicon', 'lexington', 'lexus', 'lez', 'lgl', 'lhs', 'liabil', 'liability', 'liabl', 'liais', 'liaison', 'libel', 'liber', 'liberti', 'licens', 'license', 'licensor', 'lie', 'lieber', 'lien', 'lieu', 'life', 'lifestyl', 'lifetim', 'light', 'ligouri', 'lijingpu', 'like', 'likewis', 'lim', 'limit', 'limited10', 'lincoln', 'lindeval', 'lindsay', 'line', 'ling', 'link', 'linn', 'linneman', 'linthicum', 'lipp', 'liquid', 'liquidate', 'liquidation', 'lisa', 'list', 'lists', 'lite', 'literate', 'literatur', 'litig', 'littleton', 'live', 'livek', 'livelihood', 'liver', 'liz', 'llc', 'llenbaugh', 'llp', 'lmoodi', 'ln', 'loan', 'lobbi', 'local', 'locat', 'location', 'lock', 'locker', 'lockout', 'lodg', 'loffredo', 'logan', 'logist', 'logitech', 'logo', 'logs', 'logu', 'loli', 'lond', 'london', 'long', 'longer', 'longest', 'longmont', 'longterm', 'lonni', 'lonstein', 'look', 'loomi', 'loon', 'loop', 'loos', 'lorang', 'lorrain', 'los', 'lose', 'loss', 'lost', 'loudonvill', 'loughran', 'loui', 'louisiana', 'loupe', 'low', 'lower', 'lowest', 'loyal', 'loyalti', 'loye', 'lp', 'lp011453', 'ls', 'lsbc', 'lt', 'ltd', 'ltdicp', 'ltecp', 'lti', 'ltip', 'luca', 'lucey', 'luck', 'ludwig', 'lufkin', 'luggag', 'lui', 'luke', 'lukianov', 'luminex', 'lump', 'lunch', 'luncheon', 'lundgren', 'lundin', 'lure', 'lutnick', 'luttrel', 'luxuri', 'lynch', 'lynn', 'm3', 'm4c5p3', 'ma', 'maastricht', 'macarthur', 'macdonald', 'macef', 'macgregor', 'machin', 'macmillan', 'maddi', 'made', 'madison', 'mae', 'maffeo', 'magazin', 'magellan', 'magnet', 'magrini', 'magurno', 'mail', 'main', 'mainaustrass', 'mainboard', 'maintain', 'mainten', 'maip', 'major', 'make', 'maker', 'makeup', 'making', 'male', 'malfeas', 'malfeasance', 'malik', 'malvern', 'man', 'manag', 'manageri', 'manalapan', 'mandat', 'mandatori', 'mandelbaum', 'manhasset', 'manhattan', 'mani', 'manifest', 'mankind', 'manner', 'manor', 'manpow', 'manresa', 'mansour', 'manto', 'manual', 'manuals', 'manufactur', 'manz', 'map', 'mar', 'marc', 'march', 'marchioli', 'marcia', 'mardak', 'margin', 'margoli', 'mari', 'maria', 'marilyn', 'marin', 'marina', 'marit', 'mark', 'market', 'marketplac', 'marketplace', 'marla', 'marmon', 'marri', 'marsh', 'marshal', 'mart', 'martin', 'martinez', 'marv', 'marvin', 'marwick', 'maryland', 'masculin', 'mask', 'massachusett', 'massoud', 'master', 'match', 'materi', 'matern', 'mather', 'matria', 'matric', 'matrix', 'matt', 'mattel', 'matter', 'matthew', 'mattoon', 'matur', 'max', 'maxim', 'maximilian', 'maximum', 'maxwel', 'may', 'mayb', 'mazur', 'mb', 'mba', 'mbos', 'mbta', 'mcadam', 'mcandrew', 'mccadden', 'mcclellan', 'mccollist', 'mccormick', 'mccrea', 'mccutchen', 'mcdermott', 'mcgann', 'mcginni', 'mcglynn', 'mcgrane', 'mcgraw', 'mcgurk', 'mchale', 'mcig', 'mckee', 'mckenna', 'mckeown', 'mckesson', 'mclain', 'mclaughlin', 'mclean', 'mcrae', 'mcsorley', 'mctarnaghan', 'mcu', 'md', 'mduffi', 'me', 'meadowbrook', 'meal', 'mean', 'meaning', 'meant', 'meanwhil', 'measur', 'measurenamespac', 'measureschema', 'measurevalu', 'mechan', 'mecklenburg', 'medcar', 'medco', 'medfield', 'medford', 'media', 'mediat', 'mediation', 'medic', 'medical', 'medicar', 'medicin', 'medigap', 'medium', 'medway', 'meet', 'meetings', 'melli', 'melvill', 'melvin', 'member', 'members', 'membership', 'memo', 'memoranda', 'memorandum', 'memori', 'memphi', 'men', 'menasha', 'mend', 'mengert', 'mengl', 'menlo', 'menswear', 'ment', 'mental', 'mention', 'mentmay', 'mentor', 'merced', 'mercer', 'merchandis', 'merchant', 'mere', 'merg', 'mergans', 'merger', 'merisel', 'meristar', 'merit', 'merkel', 'merril', 'mesa', 'messagemedia', 'messeng', 'messr', 'met', 'metabol', 'metal', 'method', 'methodolog', 'methods', 'metric', 'metro', 'metropolitan', 'metz', 'mexico', 'meyer', 'mezzullo', 'mfc', 'mhc', 'miami', 'micatrotto', 'michael', 'michal', 'michel', 'michigan', 'microtun', 'mid', 'midcarolina', 'middl', 'middleburg', 'middlesex', 'midway', 'midwest', 'might', 'mike', 'miko', 'mikohn', 'mikulinski', 'mile', 'mileag', 'miler', 'miles', 'mileston', 'militari', 'mill', 'miller', 'million', 'millsap', 'millstream', 'milpita', 'milton', 'milwauke', 'min', 'minat', 'mind', 'mine', 'ming', 'mingzhuo', 'minhua', 'minim', 'minimi', 'minimum', 'ministeri', 'minneapoli', 'minnesota', 'minnich', 'mino', 'minor', 'minski', 'minus', 'minut', 'minutes', 'mip', 'mirgon', 'misappropri', 'misbehavior', 'miscalcul', 'miscellan', 'misconduct', 'misdemeanor', 'misfeas', 'mislead', 'misrepresent', 'misrepresentation', 'miss', 'mission', 'mississauga', 'missl', 'missouri', 'mistak', 'misus', 'mitch', 'mitchel', 'mitig', 'mitigate', 'mix', 'mkt', 'mladen', 'mm03', 'mmenc', 'mo', 'mobil', 'model', 'modena', 'moder', 'modif', 'modifi', 'modification', 'modifications', 'modified', 'modul', 'mohl', 'mokena', 'molecular', 'monday', 'monet', 'monetari', 'monetarili', 'monetaryroundinglevel', 'money', 'moni', 'monica', 'monitor', 'monro', 'montclair', 'montebello', 'montesano', 'montgomeri', 'month', 'months', 'montreal', 'moodi', 'moon', 'moor', 'moorefield', 'moorhead', 'moral', 'moran', 'more', 'moreov', 'morg', 'morgan', 'morn', 'morri', 'morristown', 'morrisvill', 'mortgag', 'moscow', 'most', 'motion', 'motiv', 'motocross', 'motor', 'motorsport', 'moulton', 'mound', 'mount', 'move', 'movement', 'moyal', 'moylan', 'mpf', 'mr', 'ms', 'msbp', 'mt', 'much', 'muir', 'multi', 'multimedia', 'multipl', 'multipli', 'munday', 'munich', 'municip', 'munk', 'murphi', 'murray', 'murri', 'music', 'must', 'mutual', 'my', 'myrianthopoulo', 'myself', 'mystic', 'na', 'name', 'nance', 'nanci', 'nand', 'nang', 'nano', 'nanomateri', 'nanoson', 'napervill', 'napl', 'nara', 'narcot', 'narrow', 'narrowli', 'nasd', 'nasdaq', 'nash', 'nashua', 'nashvill', 'nathan', 'nathaniel', 'nation', 'nationwid', 'nativ', 'nato', 'natur', 'navarr', 'navi', 'navig', 'navisit', 'nbsp', 'nc', 'nca', 'ncement', 'nclude', 'ne', 'near', 'nearest', 'necess', 'necessari', 'necessarili', 'necessit', 'ned', 'need', 'neff', 'neft', 'negat', 'neglect', 'neglig', 'negligence', 'negligent', 'negoti', 'negotiations', 'neighborhood', 'neil', 'neill', 'neither', 'nelson', 'neon', 'nestripk', 'net', 'netherland', 'network', 'neubauer', 'neuhausen', 'neuhaussen', 'neurolog', 'neuros', 'neurotrop', 'neuter', 'neutral', 'nevada', 'never', 'nevertheless', 'new', 'newark', 'newborn', 'newburi', 'neweratech', 'newli', 'newport', 'news', 'newspap', 'nexstar', 'next', 'nextel', 'nexxnow', 'ney', 'nez', 'ng', 'nicestar', 'nichola', 'nick', 'nicollet', 'night', 'nike', 'nima', 'nine', 'nineteen', 'nineti', 'ninetieth', 'ningbo', 'ningxiang', 'ninth', 'nis', 'nj', 'nlci', 'nlg', 'nmt', 'no', 'no32', 'nobel', 'nobl', 'noe', 'noi', 'nolan', 'nolen', 'nolo', 'nomin', 'nomine', 'non', 'nonaccount', 'nonappeal', 'nonassign', 'nonassignability', 'noncompet', 'noncompetit', 'noncompetition', 'nondeduct', 'nondisclosur', 'nondisparag', 'none', 'nonetheless', 'nonexclus', 'nonfict', 'nonforfeit', 'noninterfer', 'nonnumberictext', 'nonnumerictexthead', 'nonpay', 'nonperform', 'nonperformance', 'nonprofit', 'nonpubl', 'nonqualif', 'nonqualifi', 'nonrenew', 'nonsolicit', 'nonsolicitaton', 'nontechn', 'nonus', 'nonvest', 'nor', 'norm', 'normal', 'norman', 'normandi', 'norri', 'north', 'northeast', 'northeastern', 'northern', 'northpoint', 'northridg', 'northwest', 'norton', 'norwich', 'not', 'notar', 'notari', 'note', 'notebook', 'noth', 'notic', 'notice', 'notif', 'notifi', 'notification', 'notwithstand', 'noun', 'nov', 'nova', 'novack', 'novastar', 'novemb', 'novotni', 'now', 'npsi', 'nptc', 'nqdc', 'nsb', 'nsd', 'nse', 'nso', 'ntd', 'ntion', 'ntn', 'nts', 'nu', 'nuclear', 'nue', 'null', 'nullifi', 'number', 'numberofcol', 'numberofrow', 'numer', 'numerato', 'numeratormeasur', 'numericamount', 'nurs', 'nursesloung', 'nutri', 'nutrisystem', 'nuvas', 'nv', 'nvidia', 'nw', 'nxst', 'ny', 'nye', 'nyse', 'nyseg', 'oak', 'oakwood', 'oanize', 'oath', 'obey', 'object', 'objectives', 'oblig', 'obligation', 'obligations', 'observ', 'obstruct', 'obtain', 'obviat', 'obvious', 'occas', 'occasion', 'occup', 'occupi', 'occur', 'occurr', 'occurred', 'occurs', 'oceansid', 'oct', 'octob', 'of', 'off', 'offenc', 'offend', 'offens', 'offense', 'offenses', 'offer', 'offerings', 'offic', 'office', 'officer', 'officers', 'offices', 'offici', 'offset', 'offshor', 'often', 'ognesi', 'ohio', 'oil', 'oklahoma', 'old', 'older', 'oleg', 'omega', 'omiss', 'omission', 'omit', 'omnibus', 'on', 'onc', 'one', 'ongo', 'onli', 'onlin', 'onset', 'ontain', 'ontario', 'onto', 'onus', 'ood', 'op', 'open', 'oper', 'operations', 'ophthalix', 'opinion', 'opportun', 'opportunity', 'oppos', 'opposit', 'opt', 'optic', 'optim', 'optimizerx', 'option', 'optione', 'optionhold', 'options', 'or', 'oral', 'orang', 'orchard', 'order', 'ordin', 'ordinari', 'ordinarili', 'ore', 'oregon', 'org', 'organ', 'organis', 'organiz', 'organovo', 'orient', 'origin', 'originalcurrencycod', 'originalinstancereportcolumn', 'orign', 'oriol', 'orlando', 'orono', 'orphan', 'osi', 'osr', 'oswego', 'otc', 'otcbb', 'otcpk', 'otcqb', 'ote', 'otero', 'oth', 'other', 'others', 'otherwis', 'otherwise', 'othewis', 'our', 'out', 'outbound', 'outcom', 'outfitt', 'outlin', 'outlook', 'outplac', 'outsid', 'outsourc', 'outstand', 'over', 'overachiev', 'overal', 'overbroad', 'overdu', 'overhead', 'overlap', 'overnight', 'overpay', 'overrid', 'oversaw', 'overse', 'oversea', 'oversight', 'overtim', 'overview', 'owe', 'own', 'owner', 'owners', 'ownership', 'oxford', 'oxigen', 'oxigene', 'oxley', 'oxnard', 'oxon', 'oxygen', 'oye', 'oyment', 'ozark', 'pa', 'pace', 'pacheco', 'pacif', 'pack', 'packag', 'package', 'packet', 'page', 'pager', 'paid', 'palm', 'palo', 'pamphlet', 'pandey', 'panel', 'panero', 'paper', 'paperwork', 'par', 'para', 'paracetamol', 'parachut', 'parag', 'paragon', 'paragraph', 'paramet', 'paramount', 'parent', 'parenthet', 'pari', 'parish', 'park', 'parker', 'parkland', 'parkway', 'parkwood', 'parol', 'part', 'parti', 'partial', 'particip', 'participants', 'particular', 'parties', 'partner', 'partnership', 'party', 'pascal', 'pass', 'passag', 'passaic', 'passeng', 'passeri', 'passiv', 'passport', 'password', 'past', 'patch', 'patel', 'patent', 'patente', 'patient', 'patrick', 'patronag', 'patten', 'pattern', 'patterson', 'paul', 'pawlowski', 'pay', 'payabl', 'payable', 'payback', 'paycheck', 'payday', 'payment', 'payments', 'payout', 'payrol', 'paz', 'pazgan', 'pdf', 'pdi', 'pe', 'peachtre', 'peacock', 'peak', 'peat', 'peculiar', 'pecuniari', 'pedro', 'peek', 'peel', 'peer', 'pekarski', 'pembrok', 'penal', 'penalti', 'penalty', 'pencil', 'pend', 'pendenc', 'penn', 'pennington', 'pennsauken', 'pennsylvania', 'pensat', 'pension', 'peopl', 'peplowski', 'per', 'percent', 'percentag', 'percept', 'pereksli', 'perfect', 'perform', 'performed', 'perik', 'period', 'perioddisplaynam', 'periodendd', 'periods', 'periodstartd', 'periodtyp', 'peripher', 'perler', 'perman', 'permian', 'permiss', 'permit', 'perpetr', 'perpetu', 'perquisit', 'perquisites', 'perri', 'pershareroundinglevel', 'persist', 'person', 'personally', 'personeel', 'personnel', 'perspect', 'persuad', 'pertain', 'pertin', 'pet', 'petach', 'peter', 'peterson', 'petit', 'petrochem', 'petrol', 'petroleum', 'pettinella', 'ph', 'phaik', 'pharmaceut', 'pharmaci', 'phase', 'phd', 'philadelphia', 'philip', 'phillip', 'philosophi', 'philrapp1', 'phoenix', 'phone', 'photocopi', 'photograph', 'phrase', 'physic', 'physici', 'physician', 'pick', 'picker', 'pictori', 'pictur', 'piec', 'pienzenau', 'pierc', 'piggyback', 'pike', 'pikus', 'pilgrim', 'pilier', 'pill', 'pine', 'ping', 'pink', 'pinnatech', 'pioneer', 'pipe', 'pita', 'pittsburg', 'pittsburgh', 'place', 'placement', 'plain', 'plaintiff', 'plan', 'planner', 'planning', 'plano', 'plans', 'plant', 'plastic', 'platform', 'platzer', 'play', 'plaza', 'plc', 'plea', 'plead', 'pleas', 'pleasur', 'pledg', 'ploeg', 'plumb', 'plural', 'plus', 'pm', 'pmi', 'pnina', 'po', 'pocket', 'point', 'polic', 'polici', 'policies', 'policy', 'polit', 'pomona', 'pool', 'poor', 'pope', 'popp', 'poppi', 'popul', 'port', 'portal', 'portfolio', 'portion', 'portland', 'portnoy', 'pos', 'posit', 'position', 'positions', 'possess', 'possibl', 'post', 'postag', 'postal', 'potenti', 'potrzebowski', 'poultri', 'pound', 'power', 'ppd', 'practic', 'practis', 'practition', 'prc', 'pre', 'preambl', 'precaut', 'preced', 'precis', 'preclud', 'predecessor', 'predetermin', 'predic', 'predict', 'preempt', 'preemptiv', 'preexist', 'prefer', 'preferenti', 'preferredla', 'preferredlabelrol', 'pregnanc', 'prejud', 'prejudg', 'prejudic', 'prejudici', 'preliminari', 'preliminarili', 'prematur', 'premier', 'premis', 'premises', 'premium', 'prepacyt', 'prepaid', 'prepar', 'prerequisit', 'prescrib', 'prescript', 'presenc', 'present', 'presentationref', 'preserv', 'preserved', 'presid', 'president', 'press', 'pressur', 'pressure', 'preston', 'presum', 'presumpt', 'pretax', 'prevail', 'prevent', 'previou', 'previous', 'prg', 'prgs', 'prgx', 'price', 'pricelin', 'pride', 'priest', 'primari', 'primarili', 'prime', 'primestar', 'princeton', 'princip', 'principl', 'print', 'printer', 'printout', 'prior', 'priorit', 'prism', 'prison', 'privaci', 'privacy', 'privat', 'privi', 'privileg', 'privilege', 'privileges', 'pro', 'probabl', 'probat', 'probationari', 'problem', 'procedur', 'procedure', 'procedures', 'proceed', 'proceeding', 'proceedur', 'process', 'processes', 'procur', 'produc', 'product', 'production', 'products', 'profess', 'profession', 'profici', 'profit', 'progenitor', 'program', 'progress', 'prohibit', 'project', 'projects', 'prolong', 'promis', 'promissori', 'promot', 'promotion', 'prompt', 'promptly', 'promulg', 'pronoun', 'pronounc', 'proof', 'proper', 'properti', 'properties', 'property', 'proport', 'proportion', 'propos', 'proposals', 'proposit', 'proprietari', 'proprieti', 'proprietor', 'proprietorship', 'prorat', 'prorata', 'proscrib', 'prosecut', 'prospect', 'prospectus', 'prosper', 'protect', 'protein', 'protocol', 'prototyp', 'prove', 'provid', 'provided', 'providers', 'provinc', 'provinci', 'provis', 'provision', 'proviso', 'provo', 'proxi', 'prudent', 'psp', 'psychiatr', 'psychiatrist', 'psychiatrists', 'psycholog', 'psychologist', 'psychoneuros', 'psychopathi', 'psychos', 'pther', 'pti', 'pto', 'pubco', 'public', 'publish', 'puerper', 'puerto', 'puhala', 'punctual', 'punish', 'punit', 'purchas', 'purdu', 'pure', 'purifi', 'purport', 'purpos', 'purposes', 'purser', 'pursu', 'pursuanc', 'pursuant', 'pursuit', 'put', 'pvh', 'q4fy2001', 'qiliqiao', 'qingshi', 'qiyang', 'qs', 'quaker', 'qualif', 'qualifi', 'qualit', 'qualiti', 'quandt', 'quantifi', 'quantit', 'quantiti', 'quantum', 'quarter', 'quarters', 'quartier', 'quash', 'queen', 'question', 'questionnair', 'quick', 'quicklink', 'quilti', 'quindlen', 'quinlan', 'quinney', 'quit', 'quokka', 'quorum', 'quot', 'quotat', 'rabbi', 'race', 'racin', 'radiat', 'radic', 'radio', 'radioact', 'radiologix', 'radiorx', 'radisi', 'radius', 'raghavan', 'rahu', 'rai8000brotmanemplagrmt', 'railway', 'rais', 'rajesh', 'rakitan', 'raleigh', 'ralph', 'ram', 'ramadan', 'ramat', 'ramif', 'ramo', 'randal', 'randi', 'rang', 'rank', 'raph', 'rapid', 'rapp', 'rare', 'raser', 'rata', 'ratabl', 'rate', 'rates', 'rather', 'ratif', 'ratifi', 'ratio', 'ration', 'raton', 'rauth', 'raven', 'ray', 'raymond', 'rbg', 'rcisabl', 'rcm', 'rd', 're', 'reach', 'read', 'reader', 'readi', 'readili', 'reaffirm', 'reafter', 'real', 'realiz', 'realm', 'realti', 'realtor', 'rearrang', 'reaso', 'reason', 'reassign', 'reassigned', 'reassum', 'rebat', 'rebellion', 'recapit', 'recaptur', 'receipt', 'receiv', 'receive', 'received', 'recent', 'receptor', 'recess', 'recharacter', 'recip', 'recipi', 'recit', 'recitals', 'reckless', 'reckon', 'recogn', 'recognit', 'recom', 'recommend', 'reconcili', 'reconsid', 'record', 'records', 'recoup', 'recours', 'recov', 'recoveri', 'recreat', 'recruit', 'recur', 'recycl', 'red', 'redback', 'redefin', 'redeliv', 'redempt', 'redesign', 'redetermin', 'redress', 'redruth', 'redu', 'reduc', 'reduct', 'reduction', 'redwood', 'reeduc', 'reemploy', 'reevalu', 'refer', 'referenc', 'referr', 'refin', 'refinanc', 'reflect', 'reform', 'refrain', 'refresh', 'refund', 'refus', 'refusal', 'refut', 'reg', 'regard', 'regardless', 'regel', 'region', 'regist', 'registr', 'registrant', 'registri', 'regout', 'regret', 'regul', 'regular', 'regulation', 'regulations', 'regulatori', 'rehabilit', 'reid', 'reimburs', 'reimbursed', 'reimbursemen', 'reiner', 'reinstat', 'reinstein', 'reinsur', 'reinvest', 'reject', 'relat', 'relatedpartytransactionsdisclosuretextblock', 'relationship', 'relationships', 'releas', 'release', 'releasor', 'relev', 'reli', 'reliabl', 'relianc', 'relief', 'reliev', 'religi', 'religion', 'relinquish', 'rella', 'reloc', 'relocated', 'remain', 'remaind', 'remark', 'remarket', 'remarri', 'remedi', 'remedied', 'remedytemp', 'remi', 'remington', 'remis', 'remit', 'remot', 'remov', 'remuner', 'ren', 'renal', 'render', 'rendit', 'rene', 'renegoti', 'renew', 'renewal', 'rent', 'rental', 'rentrak', 'renumb', 'reorgan', 'reorganization', 'repaid', 'repair', 'repatri', 'repay', 'repeat', 'repetit', 'replac', 'repli', 'report', 'reportlongnam', 'reportnam', 'reports', 'repositori', 'repres', 'represen', 'represent', 'representa', 'representations', 'reproduc', 'reproduct', 'republ', 'repurchas', 'reput', 'reputation', 'req', 'request', 'requir', 'require', 'required', 'requisit', 'res', 'resal', 'rescind', 'resciss', 'research', 'reserv', 'resid', 'residence', 'residenti', 'resides', 'residu', 'resign', 'resignation', 'resist', 'resold', 'resolut', 'resolv', 'reson', 'resort', 'resourc', 'respect', 'respectively', 'respects', 'respond', 'respons', 'responsibilities', 'responsibilities3', 'responsibility', 'rest', 'restat', 'restaur', 'restor', 'restored', 'restrain', 'restrained', 'restraint', 'restrict', 'restructur', 'result', 'resum', 'retail', 'retain', 'retali', 'retent', 'retir', 'retire', 'retirement', 'retirementandconsultingagreementabstract', 'retroact', 'return', 'rev', 'reveal', 'revenu', 'revers', 'revert', 'review', 'revis', 'revoc', 'revok', 'revolv', 'reward', 'reynold', 'rf', 'rhein', 'rhode', 'rhonda', 'ribapharm', 'rice', 'rich', 'richard', 'richardson', 'richland', 'richmond', 'rick', 'rico', 'rider', 'ridg', 'ridgefield', 'ridicul', 'riedl', 'right', 'rights', 'riley', 'rinella', 'ring', 'rio', 'riot', 'rise', 'risk', 'river', 'riverdal', 'riverport', 'riversid', 'rmb', 'rmb1', 'rmb10', 'rmit', 'roa', 'road', 'rob', 'robert', 'robertson', 'robinson', 'rochest', 'rock', 'rockefel', 'rockledg', 'rockridg', 'rockvill', 'rod', 'rodin', 'rodney', 'roeland', 'rogala', 'roger', 'rohan', 'roi', 'roland', 'role', 'roll', 'roman', 'ron', 'rona', 'ronald', 'ronavan', 'room', 'rose', 'rosenberg', 'roskind', 'ross', 'roug', 'round', 'roundednumericamount', 'roundi', 'roundingopt', 'rous', 'rout', 'row', 'rowland', 'roxburi', 'roxio', 'roy', 'royal', 'royalti', 'roylanc', 'rrd', 'rrv', 'rsu', 'rsus', 'ruckelshaus', 'rue', 'ruhan', 'rule', 'rules', 'run', 'rush', 'russel', 'russian', 'rx', 'ryan', 'rydin', 's500', 'sa', 'saad', 'sabatino', 'sabbat', 'sablon', 'sabotag', 'saddlebrook', 'saddleridg', 'safavi', 'safe', 'safeguard', 'safeti', 'said', 'saint', 'salant', 'salari', 'salary', 'sale', 'sales', 'salida', 'salient', 'saloom', 'salt', 'sam', 'same', 'sampl', 'samuel', 'san', 'sanction', 'sane', 'santa', 'santand', 'santi', 'sar', 'saram', 'saratoga', 'saratov', 'sarban', 'sarco', 'satellit', 'satisfact', 'satisfactori', 'satisfactorili', 'satisfi', 'saturday', 'sauna', 'save', 'say', 'sc', 'scale', 'scan', 'scansourc', 'scarbrough', 'scarlet', 'scarsdal', 'scenario', 'schaber', 'schaberg', 'schack', 'schaedler', 'schaffhausen', 'schedul', 'scheme', 'scherb', 'schissler', 'schlotzski', 'schn', 'schnitzer', 'schnitzersteel', 'schnltzer', 'schole', 'schoneburg', 'school', 'schroeder', 'schulman', 'schultz', 'schwanz', 'schwarzbach', 'sci', 'scienc', 'scientif', 'scientist', 'scope', 'scott', 'scranton', 'screen', 'script', 'seaboard', 'seal', 'sean', 'seaport', 'sear', 'search', 'seasock', 'season', 'seat', 'seattl', 'sebastian', 'sebastopol', 'sec', 'secaucus', 'second', 'secondari', 'secreci', 'secret', 'secretar', 'secretari', 'secrets', 'secti', 'section', 'secur', 'securelog', 'securit', 'securities', 'sedan', 'sedaredgar', 'sedgwick', 'see', 'seed', 'seegal', 'seek', 'seen', 'segment', 'segreg', 'segundo', 'seho', 'seider', 'select', 'selection', 'self', 'sell', 'seller', 'semi', 'semiannu', 'semiconductor', 'semimonth', 'seminar', 'sen', 'send', 'sender', 'senesh', 'senior', 'sens', 'sensit', 'sensor', 'sent', 'sentenc', 'sep', 'separ', 'separately', 'seper', 'sept', 'septemb', 'seq', 'serg', 'seri', 'serious', 'serp', 'serv', 'servant', 'serve', 'servic', 'service', 'services', 'set', 'seta', 'setauket', 'setoff', 'setola', 'settl', 'settlement', 'seven', 'seventeen', 'seventh', 'seventi', 'sever', 'severability', 'sex', 'sexual', 'seyfarth', 'shad', 'shader', 'shaffer', 'shafran', 'shah', 'shall', 'shandong', 'shane', 'shanghai', 'shannon', 'shao', 'shaoshan', 'sharbutt', 'share', 'sharehold', 'shares', 'sharesroundinglevel', 'sharesshouldberound', 'sharp', 'shaun', 'shaw', 'shawne', 'she', 'shea', 'sheet', 'shekel', 'shelf', 'shell', 'shenzhen', 'shepperd', 'shereda', 'sherwood', 'shiba', 'shield', 'ship', 'shoe', 'shop', 'shopp', 'shore', 'short', 'shortdefinit', 'shorten', 'shorter', 'shortfal', 'should', 'shoup', 'show', 'showcurrencysymbol', 'showelementnam', 'shower', 'shown', 'shuffield', 'shutdown', 'sibl', 'sick', 'side', 'sidi', 'siebenmorgen', 'sieber', 'siegel', 'sifford', 'sign', 'signatori', 'signatur', 'signer', 'signifi', 'signific', 'sildenafil', 'silicon', 'silva', 'silver', 'silverpearl', 'simanca', 'similar', 'simkiss', 'simpl', 'simpledatatyp', 'simpli', 'simpson', 'simsburi', 'simulators', 'simultan', 'sinc', 'sincer', 'sing', 'singer', 'singl', 'singular', 'sinohub', 'sioka', 'sirius', 'siroi', 'sit', 'site', 'situat', 'six', 'sixteen', 'sixteenth', 'sixth', 'sixti', 'sixtieth', 'size', 'sketch', 'skill', 'skillsoft', 'skin', 'sky', 'slander', 'slc', 'sli', 'sloan', 'slovo', 'small', 'smaller', 'smallest', 'smartforc', 'smc', 'smh', 'smith', 'smooth', 'smp', 'sniffer', 'snocon', 'snow', 'snyder', 'so', 'sobol', 'social', 'sociedad', 'societi', 'softwar', 'software', 'sol', 'sold', 'sole', 'solicit', 'solicitation', 'solomon', 'solut', 'solv', 'someon', 'sometim', 'son', 'sonni', 'sonoma', 'sook', 'sook8000', 'sook8000exhibit', 'soon', 'sooner', 'sophino', 'sophist', 'sort', 'sought', 'sound', 'sourc', 'south', 'southeastern', 'southern', 'southwest', 'space', 'spain', 'span', 'spanish', 'spark', 'sparkl', 'spartanburg', 'speak', 'special', 'specialist', 'specialti', 'specif', 'specifi', 'specifications', 'spectral', 'spectrometri', 'spectroscopi', 'specul', 'speech', 'speed', 'spell', 'spend', 'spent', 'sphere', 'spi', 'spin', 'spine', 'spirit', 'split', 'spokan', 'sponsor', 'sport', 'sportswear', 'spous', 'spousal', 'spouse', 'spread', 'spring', 'springdal', 'sprint', 'sproul', 'squar', 'squaw', 'sr', 'srinivasan', 'ss', 'ssar', 'ssi', 'st', 'stabil', 'stabl', 'stack', 'staf', 'staff', 'staffmark', 'stage', 'stamford', 'stand', 'standalon', 'standard', 'standardmeasur', 'standpoint', 'standstil', 'stanislav', 'stankovich', 'stanley', 'stanton', 'stanzion', 'stark', 'start', 'state', 'statement', 'states', 'stationari', 'statist', 'status', 'statut', 'statute', 'statutori', 'stay', 'stead', 'stearn', 'steel', 'steen', 'stefan', 'stefanko', 'stem', 'stenograph', 'step', 'stephen', 'stephenson', 'stepto', 'sterl', 'stern', 'stettler', 'steve', 'steven', 'stewart', 'stice', 'stick', 'still', 'stip', 'stipul', 'stirl', 'stm', 'stoc', 'stock', 'stockhold', 'stockwel', 'stone', 'stoneham', 'stoneheng', 'stood', 'stop', 'stoppag', 'storag', 'store', 'storr', 'stowel', 'strabley', 'straight', 'strass', 'strateg', 'strategi', 'strategies', 'strategy', 'strattan', 'stratton', 'stream', 'street', 'streitberg', 'stretch', 'stricken', 'strict', 'strictest', 'strike', 'string', 'stringitemtype', 'strong', 'stru', 'struck', 'structur', 'struggl', 'stuart', 'studi', 'style', 'sub', 'subchapt', 'subcontract', 'subcontractor', 'subdivis', 'subhead', 'subject', 'subjectto', 'submiss', 'submit', 'submitt', 'subordin', 'subparagraph', 'subpart', 'subpoena', 'subs', 'subscrib', 'subsect', 'subsection', 'subsequ', 'subsequenti', 'subsid', 'subsidi', 'subsidiari', 'subsidiaries', 'subsidiary', 'subsist', 'substanc', 'substant', 'substanti', 'substantial', 'substitut', 'subtract', 'suburban', 'subway', 'succeed', 'success', 'successor', 'successors', 'such', 'sue', 'suffer', 'suffici', 'sugar', 'suggest', 'suicid', 'suit', 'suitabl', 'sum', 'summar', 'summari', 'summarili', 'summer', 'summit', 'summon', 'sunday', 'sunglass', 'sunnyval', 'sunris', 'superced', 'superior', 'supermajor', 'supersed', 'supervis', 'supervisor', 'supervisori', 'supplant', 'supplement', 'supplementari', 'suppli', 'supplier', 'suppliers', 'support', 'suppos', 'suprem', 'surabian', 'sure', 'surfac', 'surgic', 'surpass', 'surplus', 'surrend', 'surround', 'survey', 'surviv', 'survivor', 'survivorship', 'susan', 'suscept', 'suspect', 'suspend', 'suspens', 'sussex', 'sustain', 'suwane', 'suzan', 'svp', 'sw', 'swanson', 'swine', 'swiss', 'switchboard', 'switzerland', 'switzerland9', 'sx', 'sy', 'sydney', 'symptomat', 'syndic', 'syndrom', 'system', 'sze', 'szycher', 'ta', 'tabl', 'tactic', 'tai', 'tainment', 'taip', 'taiwan', 'taiwanes', 'take', 'taken', 'takeov', 'talafus', 'talarico', 'talbot', 'talent', 'talley', 'tamara', 'tampa', 'tan', 'tandem', 'tangibl', 'tanner', 'tao', 'taozhu', 'tape', 'taranto', 'target', 'tarp', 'tarpon', 'tarri', 'task', 'tate', 'tatum', 'tavern', 'tax', 'taxabl', 'taxat', 'taxes', 'taylor', 'tbd', 'tci', 'td', 'teach', 'team', 'tear', 'tech', 'technic', 'technician', 'techniqu', 'techniques', 'technolog', 'technologies', 'ted', 'tel', 'telecom', 'telecommun', 'telecopi', 'telefax', 'telephon', 'teleservic', 'televis', 'telex', 'tellamann', 'tellmann', 'tempor', 'temporari', 'temporarili', 'ten', 'tend', 'tender', 'teng', 'tennesse', 'tenor', 'tentat', 'tenth', 'tenur', 'ter', 'teresa', 'terial', 'term', 'termin', 'terminat', 'terminated', 'terminates', 'termination', 'terminolog', 'terminus', 'terms', 'ternberri', 'terrac', 'terri', 'terrif', 'terril', 'territori', 'terror', 'terselabel', 'test', 'testament', 'testamentari', 'testifi', 'testimoni', 'tex', 'texa', 'texas', 'text', 'textblockitemtype', 'tfriel', 'th', 'thaddeus', 'than', 'thank', 'thanksgiv', 'that', 'the', 'theatr', 'theatric', 'thecompani', 'theeafter', 'theefor', 'theein', 'theft', 'their', 'them', 'themselv', 'then', 'theodor', 'theori', 'therapeut', 'there', 'thereaft', 'thereafter', 'therebi', 'therefor', 'therefrom', 'therein', 'thereof', 'thereon', 'thererfor', 'thereto', 'theretofor', 'thereund', 'thereunder', 'thereunto', 'thereupon', 'therewith', 'thermag', 'thermal', 'thermalloy', 'these', 'they', 'thi', 'thing', 'think', 'third', 'thirteen', 'thirteenth', 'thirti', 'thirtieth', 'this', 'tho', 'thode', 'thoma', 'thompson', 'thornton', 'thorough', 'those', 'though', 'thought', 'thousand', 'thrasher', 'threat', 'threaten', 'three', 'threshold', 'thrift', 'thrill', 'through', 'throughout', 'thru', 'thursday', 'thus', 'thyme', 'ticket', 'tie', 'tier', 'tiffani', 'tifi', 'tigh', 'tikva', 'till', 'tim', 'time', 'timothi', 'tin', 'tion', 'tisman', 'titl', 'title', 'titles', 'titor', 'tittl', 'to', 'today', 'todd', 'togeth', 'toghrai', 'tol', 'toledano', 'toler', 'toll', 'toluca', 'tom', 'toma', 'tomlinson', 'tomoka', 'ton', 'tongji', 'took', 'tool', 'top', 'topographi', 'toro', 'toronto', 'tort', 'tortious', 'tortola', 'total', 'touch', 'toudao', 'tour', 'tow', 'toward', 'tower', 'town', 'township', 'tpr', 'trace', 'tracey', 'traci', 'track', 'tradabl', 'trade', 'trademark', 'tradit', 'trafalgar', 'traffic', 'trail', 'train', 'traina', 'tranch', 'tranche', 'transact', 'transaction', 'transactions', 'transamerican', 'transcript', 'transderm', 'transfer', 'transfere', 'transferor', 'transform', 'transit', 'transitori', 'translat', 'transmiss', 'transmit', 'transmitt', 'transport', 'travel', 'travi', 'trea', 'treasur', 'treasuri', 'treat', 'treati', 'treatment', 'tree', 'trespass', 'tri', 'triabl', 'trial', 'trials', 'tribun', 'trident', 'trig', 'trigger', 'trimeri', 'trip', 'trizec', 'tropic', 'trotter', 'troubl', 'troy', 'true', 'truli', 'truman', 'trust', 'truste', 'trustworthi', 'truth', 'truxtun', 'ts', 'tsa', 'tsat', 'tsi', 'tsr', 'ttc', 'tucci', 'tucker', 'tuesday', 'tuition', 'tulipano', 'tumblewe', 'tumor', 'tuner', 'turmell', 'turn', 'turnersvill', 'turpitud', 'turpitude', 'turtl', 'tutor', 'twelfth', 'twelv', 'twelve', 'twenti', 'twice', 'twin', 'two', 'tx', 'type', 'typic', 'uch', 'udgment', 'uep', 'uest', 'uk', 'ultim', 'umbrella', 'un', 'unabl', 'unaccept', 'unaffect', 'unaffili', 'unanim', 'unanticip', 'unassoci', 'unaudit', 'unauthor', 'unavail', 'unawar', 'uncap', 'uncertainti', 'unchang', 'uncitr', 'uncondit', 'uncorrect', 'uncur', 'undeclar', 'undefin', 'under', 'underachiev', 'undergo', 'undermin', 'underpay', 'undersign', 'understand', 'understood', 'undertak', 'undertaken', 'undertaking', 'undertook', 'underwrit', 'undivid', 'undu', 'unduli', 'unearn', 'unemploy', 'unenforc', 'uneth', 'unexercis', 'unexercisable', 'unexpect', 'unexpir', 'unfair', 'unfavor', 'unfit', 'unforese', 'unforgiven', 'unfund', 'unfurnish', 'ungrant', 'uniform', 'unilater', 'unimpair', 'unincorpor', 'uninterrupt', 'union', 'uniqu', 'unit', 'unit1', 'unit12', 'unit13', 'unitid', 'unitproperti', 'unittyp', 'univers', 'unjust', 'unjustifi', 'unknown', 'unlaw', 'unless', 'unlik', 'unlimit', 'unmarri', 'unmodifi', 'unpack', 'unpaid', 'unpatent', 'unpublish', 'unreason', 'unreimburs', 'unrel', 'unrestrict', 'unreview', 'unsatisfactori', 'unsecur', 'unsettl', 'unsolicit', 'unspecifi', 'unstricken', 'unsuccess', 'unsuspect', 'until', 'untruth', 'unus', 'unusu', 'unvest', 'unwil', 'unwilling', 'unwritten', 'uo', 'up', 'updat', 'upgrad', 'upheld', 'uphold', 'upon', 'upper', 'upr', 'upward', 'ur', 'urban', 'urchin', 'urg', 'us', 'usa', 'usag', 'usd', 'usd16', 'use', 'usec', 'user', 'usual', 'usurp', 'utah', 'utc', 'utek', 'util', 'utilis', 'utmost', 'uvg', 'uwink', 'uwv', 'uzzi', 'v6j', 'vacanc', 'vacant', 'vacat', 'vacated', 'vacation', 'vacavill', 'vaccat', 'vagu', 'vail', 'valenc', 'valentin', 'valeri', 'valicert', 'valid', 'valley', 'valu', 'valuabl', 'valuat', 'valv', 'van', 'vanc', 'vancouv', 'vander', 'vantag', 'vapolut', 'vari', 'variabl', 'varianc', 'variat', 'varieti', 'various', 'varisano', 'vascular', 'vassilopoulo', 'vaud', 'vaughn', 'vega', 'vehicl', 'veloc', 'vendor', 'venianaki', 'vennerberg', 'ventil', 'ventur', 'venturor', 'venu', 'venue', 'vera', 'verbal', 'verdict', 'veri', 'verif', 'verifi', 'verizon', 'vermily', 'vermont', 'vernon', 'versa', 'versant', 'version', 'versus', 'vertex', 'vertic', 'vest', 'veteran', 'vgtel', 'vh', 'vi', 'via', 'vialink', 'vice', 'vicent', 'vicki', 'victor', 'video', 'videotap', 'vidrio', 'viejo', 'vienna', 'view', 'vii', 'viii', 'vilifi', 'villag', 'vincent', 'vinod', 'vinyl', 'violat', 'violenc', 'violent', 'virgin', 'virginia', 'virtu', 'visa', 'visibl', 'vision', 'visit', 'visual', 'vita', 'vital', 'vitalwork', 'vitamin', 'vitran', 'vladimirovitch', 'vocat', 'vogel', 'voic', 'void', 'voidabl', 'volit', 'volunt', 'voluntari', 'voluntarili', 'volusia', 'von', 'vote', 'voucher', 'vp', 'vu1', 'w1t', 'w3', 'w6316', 'w8918', 'wacker', 'wadhaw', 'wadhawan', 'wagar', 'wage', 'wagner', 'wait', 'waiv', 'waivabl', 'waiver', 'waivers', 'wakefield', 'wal', 'walk', 'walker', 'wall', 'wallac', 'wallach', 'waller', 'walnut', 'walsh', 'waltham', 'wang', 'want', 'wanton', 'wao', 'war', 'warfight', 'warn', 'warner', 'warning', 'warrant', 'warranti', 'warren', 'was', 'washington', 'wasiewski', 'watch', 'water', 'waterford', 'watertown', 'watkin', 'wavier', 'way', 'wayn', 'wbereof', 'we', 'wear', 'wearhous', 'weather', 'web', 'webandco1', 'webb', 'weber', 'websit', 'webster', 'webwork', 'wecwewg8', 'week', 'weekday', 'weeks', 'wei', 'weigand', 'weight', 'weijia', 'weil', 'weinert', 'weiss', 'weitzman', 'welch', 'welcom', 'weld', 'welfar', 'well', 'wellesley', 'wellton', 'welsh', 'were', 'wesley', 'wessex', 'west', 'westburi', 'western', 'westledg', 'westminst', 'weston', 'westport', 'wet', 'wharf', 'wharton', 'what', 'whatev', 'whatsoev', 'when', 'whenev', 'whera', 'where', 'wherea', 'whereaft', 'wherebi', 'wherefor', 'wherein', 'whereof', 'whereupon', 'wherev', 'wherof', 'whether', 'which', 'whichev', 'while', 'whilst', 'whistleblow', 'white', 'white8000amendedagr', 'whitehal', 'whitwel', 'who', 'whole', 'wholesal', 'wholli', 'whom', 'whomsoev', 'whose', 'wi', 'wia', 'wide', 'widow', 'wier', 'wif', 'wife', 'wil', 'wilczak', 'will', 'willem', 'willemstraat', 'willi', 'william', 'williamson', 'willing', 'willoughbi', 'willow', 'wilmer', 'wilmington', 'wilshir', 'wilson', 'wilt', 'wilton', 'winblad', 'winchest', 'wind', 'window', 'windsor', 'winkelhaus', 'winnebago', 'winok', 'wipro', 'wire', 'wireless', 'wisconsin', 'wise', 'wiser', 'wish', 'wisniewski', 'wisteria', 'wit', 'with', 'withdraw', 'withdrawn', 'withheld', 'withhold', 'withholding', 'within', 'without', 'withstand', 'witnesseth', 'witter', 'wittmann', 'wm', 'wmi', 'wmmrc', 'wohlberg', 'wolk', 'women', 'woo', 'wood', 'woodbourn', 'woodbridg', 'woodcliff', 'woodhil', 'woodland', 'woodmark', 'woodsid', 'wooten', 'word', 'work', 'workday', 'worker', 'workflow', 'workforc', 'workmanlik', 'workplac', 'workspac', 'workweek', 'world', 'worldwid', 'worth', 'would', 'wouter', 'wrap', 'wright', 'write', 'written', 'wrobel', 'wrong', 'wrongdo', 'wsm', 'wto', 'wu', 'wunderl', 'wung', 'wuxi', 'www', 'wyeth', 'xbrl', 'xbrli', 'xi', 'xiangmei', 'xiangtan', 'xianxia', 'xiaodong', 'xii', 'xiii', 'xintai', 'xiv', 'xizhou', 'xm', 'xml', 'xmlns', 'xmlschema', 'xsd', 'xsi', 'xto', 'xuqui', 'xv', 'xvasiv', 'xvi', 'xvii', 'xxxxxxxxxxxxxxxxxx', 'yabin', 'yahoo', 'yampolski', 'yan', 'yanov', 'yard', 'year', 'years', 'yeci', 'yellow', 'yeon', 'yeshoron', 'yet', 'yida', 'yifeng', 'yip', 'yment', 'york', 'you', 'young', 'your', 'yours', 'yourself', 'youth', 'yu', 'yuan', 'yuantang', 'yunhui', 'zach', 'zanden', 'zanett', 'zapata', 'zayo', 'zealand', 'zero', 'zhang', 'zhejiang', 'zhen', 'zhiguo', 'zhong', 'zhou', 'zhu', 'zimmer', 'zionsvill', 'zip', 'zone', 'zurich', 'zurich4', 'zylstra']\n"
     ]
    }
   ],
   "source": [
    "print(tf_idf.get_feature_names())"
   ]
  },
  {
   "cell_type": "code",
   "execution_count": 70,
   "metadata": {},
   "outputs": [],
   "source": [
    "from sklearn.feature_extraction.text import CountVectorizer"
   ]
  },
  {
   "cell_type": "code",
   "execution_count": 71,
   "metadata": {},
   "outputs": [],
   "source": [
    "cv = CountVectorizer()"
   ]
  },
  {
   "cell_type": "code",
   "execution_count": 77,
   "metadata": {},
   "outputs": [],
   "source": [
    "ls = []\n",
    "ls.append(final_data[0])"
   ]
  },
  {
   "cell_type": "code",
   "execution_count": null,
   "metadata": {},
   "outputs": [],
   "source": []
  },
  {
   "cell_type": "code",
   "execution_count": 79,
   "metadata": {},
   "outputs": [],
   "source": [
    "d = cv.fit_transform(ls)"
   ]
  },
  {
   "cell_type": "code",
   "execution_count": 80,
   "metadata": {},
   "outputs": [
    {
     "data": {
      "text/plain": [
       "{'exv10w1': 85,\n",
       " 'exhibit': 83,\n",
       " '10': 2,\n",
       " 'septemb': 161,\n",
       " '2003': 8,\n",
       " 'ms': 113,\n",
       " 'kathryn': 101,\n",
       " 'winkelhaus': 194,\n",
       " '5040': 14,\n",
       " 'oak': 118,\n",
       " 'tree': 179,\n",
       " 'court': 63,\n",
       " 'ann': 24,\n",
       " 'arbor': 30,\n",
       " '48108': 12,\n",
       " 'dear': 67,\n",
       " 'pleas': 134,\n",
       " 'offer': 121,\n",
       " 'posit': 136,\n",
       " 'vice': 188,\n",
       " 'presid': 138,\n",
       " 'chief': 50,\n",
       " 'oper': 124,\n",
       " 'offic': 122,\n",
       " 'childtim': 51,\n",
       " 'learn': 102,\n",
       " 'center': 46,\n",
       " 'inc': 97,\n",
       " 'confirm': 58,\n",
       " 'follow': 88,\n",
       " 'detail': 69,\n",
       " 'regard': 151,\n",
       " 'compens': 57,\n",
       " 'benefit': 40,\n",
       " 'inform': 98,\n",
       " 'you': 199,\n",
       " 'report': 152,\n",
       " 'direct': 71,\n",
       " 'william': 193,\n",
       " 'davi': 65,\n",
       " 'execut': 81,\n",
       " 'begin': 38,\n",
       " 'employ': 76,\n",
       " 'mutual': 114,\n",
       " 'agre': 21,\n",
       " 'upon': 184,\n",
       " 'start': 169,\n",
       " 'date': 64,\n",
       " 'your': 200,\n",
       " 'base': 34,\n",
       " 'salari': 158,\n",
       " '190': 6,\n",
       " '000': 0,\n",
       " 'per': 131,\n",
       " 'annum': 27,\n",
       " 'payabl': 130,\n",
       " 'in': 96,\n",
       " 'biweek': 41,\n",
       " 'instal': 99,\n",
       " 'opportun': 125,\n",
       " 'earn': 72,\n",
       " 'annual': 26,\n",
       " 'cash': 45,\n",
       " 'bonus': 42,\n",
       " 'the': 175,\n",
       " 'within': 196,\n",
       " 'day': 66,\n",
       " 'end': 77,\n",
       " 'fiscal': 86,\n",
       " 'year': 198,\n",
       " 'amount': 23,\n",
       " 'maximum': 108,\n",
       " '75': 15,\n",
       " 'may': 109,\n",
       " 'compani': 56,\n",
       " 'reach': 148,\n",
       " '95': 16,\n",
       " 'of': 120,\n",
       " 'budget': 43,\n",
       " 'ebitda': 73,\n",
       " '50': 13,\n",
       " 'pro': 140,\n",
       " 'rata': 146,\n",
       " 'basi': 35,\n",
       " 'achiev': 19,\n",
       " '100': 3,\n",
       " '120': 4,\n",
       " 'for': 89,\n",
       " '2004': 9,\n",
       " 'march': 107,\n",
       " 'will': 192,\n",
       " 'be': 36,\n",
       " 'paid': 127,\n",
       " 'minimum': 111,\n",
       " 'conting': 60,\n",
       " 'certain': 48,\n",
       " 'busi': 44,\n",
       " 'object': 119,\n",
       " 'determin': 70,\n",
       " 'hire': 94,\n",
       " 'six': 165,\n",
       " 'month': 112,\n",
       " 'accept': 17,\n",
       " 'request': 153,\n",
       " 'senior': 160,\n",
       " 'manag': 106,\n",
       " 'recommend': 150,\n",
       " 'committe': 54,\n",
       " 'approv': 29,\n",
       " 'grant': 92,\n",
       " 'right': 157,\n",
       " 'to': 178,\n",
       " 'purchas': 143,\n",
       " 'award': 33,\n",
       " 'common': 55,\n",
       " 'stock': 170,\n",
       " 'close': 52,\n",
       " 'price': 139,\n",
       " 'period': 132,\n",
       " 'option': 126,\n",
       " 'four': 91,\n",
       " 'time': 177,\n",
       " 'number': 117,\n",
       " 'share': 163,\n",
       " 'subject': 171,\n",
       " 'exercis': 82,\n",
       " 'equal': 78,\n",
       " 'corpor': 62,\n",
       " 'would': 197,\n",
       " 'non': 115,\n",
       " 'qualifi': 144,\n",
       " 'accord': 18,\n",
       " 'with': 195,\n",
       " 'equiti': 79,\n",
       " 'plan': 133,\n",
       " 'becom': 37,\n",
       " 'vest': 187,\n",
       " 'rate': 147,\n",
       " '20': 7,\n",
       " 'commenc': 53,\n",
       " 'one': 123,\n",
       " 'anniversari': 25,\n",
       " 'five': 87,\n",
       " 'expir': 84,\n",
       " '2009': 10,\n",
       " 'that': 174,\n",
       " 'also': 22,\n",
       " 'term': 173,\n",
       " 'provis': 142,\n",
       " 'applic': 28,\n",
       " 'standard': 168,\n",
       " 'elig': 75,\n",
       " 'particip': 129,\n",
       " 'contributori': 61,\n",
       " 'medic': 110,\n",
       " 'vision': 189,\n",
       " 'dental': 68,\n",
       " 'life': 104,\n",
       " 'insur': 100,\n",
       " 'effect': 74,\n",
       " 'novemb': 116,\n",
       " 'week': 191,\n",
       " 'vacat': 185,\n",
       " '401': 11,\n",
       " 'program': 141,\n",
       " 'at': 32,\n",
       " 'serv': 162,\n",
       " 'pleasur': 135,\n",
       " 'ceo': 47,\n",
       " 'sign': 164,\n",
       " 'acknowledg': 20,\n",
       " 'receipt': 149,\n",
       " 'understand': 183,\n",
       " 'this': 176,\n",
       " 'letter': 103,\n",
       " 'below': 39,\n",
       " 'return': 155,\n",
       " 'soon': 167,\n",
       " 'possibl': 137,\n",
       " 'hesit': 93,\n",
       " 'contact': 59,\n",
       " 'question': 145,\n",
       " 'we': 190,\n",
       " 'tutor': 182,\n",
       " 'look': 105,\n",
       " 'forward': 90,\n",
       " 'as': 31,\n",
       " 'part': 128,\n",
       " 'team': 172,\n",
       " 'excit': 80,\n",
       " 'trust': 181,\n",
       " 'challeng': 49,\n",
       " 'reward': 156,\n",
       " 'veri': 186,\n",
       " 'truli': 180,\n",
       " 'scott': 159,\n",
       " 'smith': 166,\n",
       " 'human': 95,\n",
       " 'resourc': 154,\n",
       " '15': 5,\n",
       " '03': 1}"
      ]
     },
     "execution_count": 80,
     "metadata": {},
     "output_type": "execute_result"
    }
   ],
   "source": [
    "cv.vocabulary_"
   ]
  },
  {
   "cell_type": "code",
   "execution_count": 224,
   "metadata": {},
   "outputs": [],
   "source": [
    "from nltk.stem import WordNetLemmatizer"
   ]
  },
  {
   "cell_type": "code",
   "execution_count": 228,
   "metadata": {},
   "outputs": [],
   "source": [
    "def clean(text):\n",
    "    \n",
    "    ## Remove puncuation\n",
    "#     text = text.translate(string.punctuation)\n",
    "    \n",
    "    ## Convert words to lower case and split them\n",
    "    text = text.lower().split()\n",
    "    \n",
    "    ## Remove stop words\n",
    "    stops = set(stopwords.words(\"english\"))\n",
    "    text = [w for w in text if not w in stops and len(w) >= 3]\n",
    "    \n",
    "    text = \" \".join(text)\n",
    "    ## Clean the text\n",
    "    text = re.sub(r\"[^A-Za-z0-9^!,.\\/'+-=]\", \" \", text)\n",
    "    text = re.sub(r\"what's\", \"what is \", text)\n",
    "    text = re.sub(r\"\\'s\", \" \", text)\n",
    "    text = re.sub(r\"\\'ve\", \" have \", text)\n",
    "    text = re.sub(r\"n't\", \" not \", text)\n",
    "    text = re.sub(r\"i'm\", \"i am \", text)\n",
    "    text = re.sub(r\"\\'re\", \" are \", text)\n",
    "    text = re.sub(r\"\\'d\", \" would \", text)\n",
    "    text = re.sub(r\"\\'ll\", \" will \", text)\n",
    "#     text = re.sub(r\",\", \" \", text)\n",
    "    text = re.sub(r\"\\.\", \" \", text)\n",
    "    text = re.sub(r\"!\", \" ! \", text)\n",
    "    text = re.sub(r\"\\/\", \" \", text)\n",
    "    text = re.sub(r\"\\^\", \" ^ \", text)\n",
    "    text = re.sub(r\"\\+\", \"  \", text)\n",
    "    text = re.sub(r\"\\-\", \"  \", text)\n",
    "    text = re.sub(r\"\\=\", \" = \", text)\n",
    "    text = re.sub(r\"'\", \" \", text)\n",
    "    text = re.sub(r\"(\\d+)(k)\", r\"\\g<1>000\", text)\n",
    "    text = re.sub(r\":\", \" : \", text)\n",
    "    text = re.sub(r\"e - mail\", \"email\", text)\n",
    "    text = re.sub(r\"j k\", \"jk\", text)\n",
    "    text = re.sub(r\"\\s{2,}\", \" \", text)\n",
    "#     ## Stemming\n",
    "#     text = text.split()\n",
    "#     lem = WordNetLemmatizer()\n",
    "#     lem_words = [lem.lemmatize (word) for word in text]\n",
    "#     text = \" \".join(lem_words)\n",
    "    return text "
   ]
  },
  {
   "cell_type": "code",
   "execution_count": 229,
   "metadata": {},
   "outputs": [],
   "source": [
    "text = clean(ds.data[0])"
   ]
  },
  {
   "cell_type": "code",
   "execution_count": 230,
   "metadata": {},
   "outputs": [
    {
     "data": {
      "text/plain": [
       "'exv10w1 exhibit 10 1 september 2003 ms kathryn winkelhaus 5040 oak tree court ann arbor 48108 dear kathryn : pleased offer position vice president chief operating officer childtime learning centers inc confirm following details regarding compensation, benefits information : report directly william davis, president chief executive officer, begin employment mutually agreed upon start date starting base salary 190,000 per annum payable biweekly installments opportunity earn annual cash bonus the annual bonus payable within days end fiscal year amount maximum 75 annual earned base salary may start earning bonus company reaches 95 1 budgeted ebitda may earn bonus a 50 pro rata basis achieving 100 budgeted ebitda b 75 pro rata basis achieving 100 , 120 budgeted ebitda fiscal year 2004 fiscal year ending march 2004 , paid minimum 50,000 annual bonus contingent upon achieving certain business objectives objectives determined within days hire date within six months acceptance offer, upon request, company s senior management recommend compensation committee approve grant a right purchase the purchase award 100,000 common stock company, based closing price common stock date grant, day period date grant, b options purchase four times number shares subject purchase award, option exercise price equal closing price corporation s common stock grant date options would non qualified options granted accordance company s 2003 equity compensation plan options would become exercisable vest rate 20 per year, commencing one year anniversary date grant five years options would expire exercised anniversary grant date year 2009 vesting options would subject purchase shares purchase award, number shares may purchased options equal four times number shares purchased purchase award options would also subject terms provisions applicable company s standard option grants plan eligible participation company s contributory medical, vision, dental life insurance plans effective november 2003 eligible four weeks vacation per anniversary year also eligible participation company s 401 k program employment at will serve pleasure president ceo company please sign acknowledgement receipt understanding letter below, return soon possible please hesitate contact questions childtime tutor time looking forward part team exciting time, trust employment challenging rewarding truly yours, s scott smith scott smith vice president human resources childtime learning centers, inc acknowledged : s kathryn winkelhaus date : 9 15 03 kathryn winkelhaus'"
      ]
     },
     "execution_count": 230,
     "metadata": {},
     "output_type": "execute_result"
    }
   ],
   "source": [
    "text"
   ]
  },
  {
   "cell_type": "code",
   "execution_count": 231,
   "metadata": {},
   "outputs": [],
   "source": [
    "import nltk"
   ]
  },
  {
   "cell_type": "code",
   "execution_count": 325,
   "metadata": {
    "scrolled": true
   },
   "outputs": [],
   "source": [
    "tagged = []\n",
    "text_list = []\n",
    "text_list.append(text)\n",
    "for i in text_list:\n",
    "    w = nltk.word_tokenize(i)\n",
    "    t = nltk.pos_tag(w)\n",
    "#     tagged.append(t)\n",
    "#     chunkGram = r\"\"\"Chunk: {<NN.?>*<CD.?>*}\"\"\"\n",
    "#     chunkParser = nltk.RegexpParser(chunkGram)\n",
    "#     chunked = chunkParser.parse(t)\n",
    "#     namedEnt = nltk.ne_chunk(t, binary=True)\n",
    "    Nouns_List = []\n",
    "    salary = []\n",
    "    for Word in t:\n",
    "        if re.match('[NNP.*]', Word[1]):\n",
    "             Nouns_List.append(Word[0])\n",
    "        if re.match('[CD.*]', Word[1]):\n",
    "             salary.append(Word[0])\n",
    "        \n",
    "\n",
    "    \n",
    "    "
   ]
  },
  {
   "cell_type": "code",
   "execution_count": 326,
   "metadata": {},
   "outputs": [
    {
     "data": {
      "text/plain": [
       "['exhibit',\n",
       " 'september',\n",
       " 'ms',\n",
       " 'kathryn',\n",
       " 'winkelhaus',\n",
       " 'oak',\n",
       " 'court',\n",
       " 'kathryn',\n",
       " 'offer',\n",
       " 'position',\n",
       " 'vice',\n",
       " 'president',\n",
       " 'chief',\n",
       " 'officer',\n",
       " 'childtime',\n",
       " 'centers',\n",
       " 'details',\n",
       " 'compensation',\n",
       " 'benefits',\n",
       " 'information',\n",
       " 'report',\n",
       " 'davis',\n",
       " 'president',\n",
       " 'executive',\n",
       " 'officer',\n",
       " 'employment',\n",
       " 'start',\n",
       " 'date',\n",
       " 'base',\n",
       " 'annum',\n",
       " 'installments',\n",
       " 'opportunity',\n",
       " 'cash',\n",
       " 'bonus',\n",
       " 'days',\n",
       " 'year',\n",
       " 'amount',\n",
       " 'salary',\n",
       " 'company',\n",
       " 'ebitda',\n",
       " 'basis',\n",
       " 'ebitda',\n",
       " 'b',\n",
       " 'basis',\n",
       " 'year',\n",
       " 'year',\n",
       " 'march',\n",
       " 'bonus',\n",
       " 'contingent',\n",
       " 'business',\n",
       " 'objectives',\n",
       " 'objectives',\n",
       " 'days',\n",
       " 'date',\n",
       " 'months',\n",
       " 'acceptance',\n",
       " 'offer',\n",
       " 'request',\n",
       " 'company',\n",
       " 'management',\n",
       " 'recommend',\n",
       " 'compensation',\n",
       " 'committee',\n",
       " 'grant',\n",
       " 'purchase',\n",
       " 'purchase',\n",
       " 'award',\n",
       " 'stock',\n",
       " 'company',\n",
       " 'closing',\n",
       " 'price',\n",
       " 'stock',\n",
       " 'date',\n",
       " 'grant',\n",
       " 'day',\n",
       " 'period',\n",
       " 'date',\n",
       " 'grant',\n",
       " 'b',\n",
       " 'options',\n",
       " 'times',\n",
       " 'number',\n",
       " 'shares',\n",
       " 'purchase',\n",
       " 'award',\n",
       " 'option',\n",
       " 'exercise',\n",
       " 'price',\n",
       " 'closing',\n",
       " 'price',\n",
       " 'corporation',\n",
       " 's',\n",
       " 'stock',\n",
       " 'grant',\n",
       " 'date',\n",
       " 'options',\n",
       " 'options',\n",
       " 'company',\n",
       " 'equity',\n",
       " 'compensation',\n",
       " 'plan',\n",
       " 'options',\n",
       " 'rate',\n",
       " 'year',\n",
       " 'year',\n",
       " 'date',\n",
       " 'grant',\n",
       " 'years',\n",
       " 'options',\n",
       " 'grant',\n",
       " 'date',\n",
       " 'year',\n",
       " 'vesting',\n",
       " 'options',\n",
       " 'purchase',\n",
       " 'shares',\n",
       " 'number',\n",
       " 'shares',\n",
       " 'options',\n",
       " 'times',\n",
       " 'number',\n",
       " 'shares',\n",
       " 'purchase',\n",
       " 'award',\n",
       " 'options',\n",
       " 'terms',\n",
       " 'provisions',\n",
       " 'company',\n",
       " 'option',\n",
       " 'grants',\n",
       " 'participation',\n",
       " 'company',\n",
       " 'vision',\n",
       " 'life',\n",
       " 'insurance',\n",
       " 'plans',\n",
       " 'weeks',\n",
       " 'vacation',\n",
       " 'year',\n",
       " 'participation',\n",
       " 'company',\n",
       " 'k',\n",
       " 'program',\n",
       " 'employment',\n",
       " 'pleasure',\n",
       " 'president',\n",
       " 'ceo',\n",
       " 'company',\n",
       " 'receipt',\n",
       " 'letter',\n",
       " 'please',\n",
       " 'questions',\n",
       " 'tutor',\n",
       " 'time',\n",
       " 'part',\n",
       " 'team',\n",
       " 'exciting',\n",
       " 'time',\n",
       " 'employment',\n",
       " 'yours',\n",
       " 'scott',\n",
       " 'smith',\n",
       " 'scott',\n",
       " 'vice',\n",
       " 'president',\n",
       " 'resources',\n",
       " 'centers',\n",
       " 'inc',\n",
       " 's',\n",
       " 'kathryn',\n",
       " 'winkelhaus',\n",
       " 'date',\n",
       " 'kathryn',\n",
       " 'winkelhaus']"
      ]
     },
     "execution_count": 326,
     "metadata": {},
     "output_type": "execute_result"
    }
   ],
   "source": [
    "Nouns_List"
   ]
  },
  {
   "cell_type": "code",
   "execution_count": 327,
   "metadata": {},
   "outputs": [
    {
     "data": {
      "text/plain": [
       "['10',\n",
       " '1',\n",
       " '2003',\n",
       " '5040',\n",
       " '48108',\n",
       " '190,000',\n",
       " 'the',\n",
       " '75',\n",
       " '95',\n",
       " '1',\n",
       " 'a',\n",
       " '50',\n",
       " '100',\n",
       " '75',\n",
       " '100',\n",
       " '120',\n",
       " '2004',\n",
       " '2004',\n",
       " '50,000',\n",
       " 'six',\n",
       " 'a',\n",
       " 'the',\n",
       " '100,000',\n",
       " 'four',\n",
       " '2003',\n",
       " '20',\n",
       " 'one',\n",
       " 'five',\n",
       " '2009',\n",
       " 'four',\n",
       " '2003',\n",
       " 'four',\n",
       " '401',\n",
       " '9',\n",
       " '15',\n",
       " '03']"
      ]
     },
     "execution_count": 327,
     "metadata": {},
     "output_type": "execute_result"
    }
   ],
   "source": [
    "salary"
   ]
  },
  {
   "cell_type": "code",
   "execution_count": 328,
   "metadata": {},
   "outputs": [],
   "source": [
    "import re\n",
    "import nltk\n",
    "from nltk.corpus import stopwords\n",
    "stop = stopwords.words('english')"
   ]
  },
  {
   "cell_type": "code",
   "execution_count": 303,
   "metadata": {},
   "outputs": [],
   "source": [
    "def ie_preprocess(document):\n",
    "    document = ' '.join([i for i in document.split() if i not in stop])\n",
    "    sentences = nltk.sent_tokenize(document)\n",
    "    sentences = [nltk.word_tokenize(sent) for sent in sentences]\n",
    "    sentences = [nltk.pos_tag(sent) for sent in sentences]\n",
    "    return sentences"
   ]
  },
  {
   "cell_type": "code",
   "execution_count": 304,
   "metadata": {},
   "outputs": [],
   "source": [
    "def extract_names(document):\n",
    "    names = []\n",
    "\n",
    "    sentences = ie_preprocess(document)\n",
    "    for tagged_sentence in sentences:\n",
    "        for chunk in nltk.ne_chunk(tagged_sentence):\n",
    "            if type(chunk) == nltk.tree.Tree:\n",
    "                if chunk.label() == 'PERSON':\n",
    "                    names.append(' '.join([c[0] for c in chunk]))\n",
    "\n",
    "    return names"
   ]
  },
  {
   "cell_type": "code",
   "execution_count": 305,
   "metadata": {},
   "outputs": [],
   "source": [
    "def extract_org(document):\n",
    "    organization = []\n",
    "    sentences = ie_preprocess(document)\n",
    "    for tagged_sentence in sentences:\n",
    "        for chunk in nltk.ne_chunk(tagged_sentence):\n",
    "            if type(chunk) == nltk.tree.Tree:\n",
    "                if chunk.label() == 'ORGANIZATION':\n",
    "                    organization.append(' '.join([c[0] for c in chunk]))\n",
    "    return organization"
   ]
  },
  {
   "cell_type": "code",
   "execution_count": 306,
   "metadata": {},
   "outputs": [],
   "source": [
    "def extract_money(document):\n",
    "    money = []\n",
    "    sentences = ie_preprocess(document)\n",
    "    for tagged_sentence in sentences:\n",
    "        for chunk in nltk.ne_chunk(tagged_sentence):\n",
    "            if type(chunk) == nltk.tree.Tree:\n",
    "                if chunk.label() == 'MONEY':\n",
    "                    money.append(' '.join([c[0] for c in chunk]))\n",
    "    return money"
   ]
  },
  {
   "cell_type": "code",
   "execution_count": 307,
   "metadata": {},
   "outputs": [],
   "source": [
    "def extract_date(document):\n",
    "    date = []\n",
    "    sentences = ie_preprocess(document)\n",
    "    for tagged_sentence in sentences:\n",
    "        for chunk in nltk.ne_chunk(tagged_sentence):\n",
    "            if type(chunk) == nltk.tree.Tree:\n",
    "                if chunk.label() == 'DATE':\n",
    "                    date.append(' '.join([c[0] for c in chunk]))\n",
    "    return date"
   ]
  },
  {
   "cell_type": "code",
   "execution_count": 308,
   "metadata": {},
   "outputs": [],
   "source": [
    "names = extract_names(ds.data[0])"
   ]
  },
  {
   "cell_type": "code",
   "execution_count": 309,
   "metadata": {},
   "outputs": [
    {
     "data": {
      "text/plain": [
       "['Kathryn Winkelhaus',\n",
       " 'Ann Arbor',\n",
       " 'William Davis',\n",
       " 'Annual Bonus',\n",
       " 'Annual Bonus',\n",
       " 'Award',\n",
       " 'Award',\n",
       " 'Options',\n",
       " 'Purchase Award',\n",
       " 'Options',\n",
       " 'Purchase Award',\n",
       " 'Scott W. Smith Scott',\n",
       " 'Smith',\n",
       " 'Human Resources Childtime Learning Centers',\n",
       " 'Inc.',\n",
       " 'Kathryn Winkelhaus',\n",
       " 'Kathryn Winkelhaus']"
      ]
     },
     "execution_count": 309,
     "metadata": {},
     "output_type": "execute_result"
    }
   ],
   "source": [
    "names"
   ]
  },
  {
   "cell_type": "code",
   "execution_count": 310,
   "metadata": {},
   "outputs": [],
   "source": [
    "organization = extract_org(ds.data[0])"
   ]
  },
  {
   "cell_type": "code",
   "execution_count": 311,
   "metadata": {},
   "outputs": [
    {
     "data": {
      "text/plain": [
       "['Centers Inc.',\n",
       " 'Company',\n",
       " 'EBITDA',\n",
       " 'EBITDA',\n",
       " 'EBITDA',\n",
       " 'Company',\n",
       " 'Compensation Committee',\n",
       " 'Company',\n",
       " 'Corporation',\n",
       " 'Options',\n",
       " 'Company',\n",
       " 'Equity Compensation Plan',\n",
       " 'Company',\n",
       " 'Company',\n",
       " 'Company']"
      ]
     },
     "execution_count": 311,
     "metadata": {},
     "output_type": "execute_result"
    }
   ],
   "source": [
    "organization"
   ]
  },
  {
   "cell_type": "code",
   "execution_count": 300,
   "metadata": {},
   "outputs": [],
   "source": [
    "money = extract_money(ds.data[0])"
   ]
  },
  {
   "cell_type": "code",
   "execution_count": 301,
   "metadata": {},
   "outputs": [
    {
     "data": {
      "text/plain": [
       "[]"
      ]
     },
     "execution_count": 301,
     "metadata": {},
     "output_type": "execute_result"
    }
   ],
   "source": [
    "money"
   ]
  },
  {
   "cell_type": "code",
   "execution_count": 302,
   "metadata": {},
   "outputs": [],
   "source": [
    "date = extract_date(ds.data[0])"
   ]
  },
  {
   "cell_type": "code",
   "execution_count": 289,
   "metadata": {},
   "outputs": [
    {
     "data": {
      "text/plain": [
       "[]"
      ]
     },
     "execution_count": 289,
     "metadata": {},
     "output_type": "execute_result"
    }
   ],
   "source": [
    "date"
   ]
  },
  {
   "cell_type": "code",
   "execution_count": null,
   "metadata": {},
   "outputs": [],
   "source": []
  }
 ],
 "metadata": {
  "kernelspec": {
   "display_name": "Python 3",
   "language": "python",
   "name": "python3"
  },
  "language_info": {
   "codemirror_mode": {
    "name": "ipython",
    "version": 3
   },
   "file_extension": ".py",
   "mimetype": "text/x-python",
   "name": "python",
   "nbconvert_exporter": "python",
   "pygments_lexer": "ipython3",
   "version": "3.6.5"
  }
 },
 "nbformat": 4,
 "nbformat_minor": 2
}
