{
 "cells": [
  {
   "cell_type": "code",
   "execution_count": 139,
   "metadata": {},
   "outputs": [],
   "source": [
    "path_0 = \"./dataset/0/1001604_2010-01-11_8K JAN 2010 EMPLOYMENT AGREEMENT R BRANDSTROM.txt\""
   ]
  },
  {
   "cell_type": "code",
   "execution_count": 140,
   "metadata": {},
   "outputs": [],
   "source": [
    "f = open(path_0, 'r', encoding=\"UTF-8\")"
   ]
  },
  {
   "cell_type": "code",
   "execution_count": 141,
   "metadata": {},
   "outputs": [],
   "source": [
    "content = f.read()"
   ]
  },
  {
   "cell_type": "code",
   "execution_count": 142,
   "metadata": {},
   "outputs": [],
   "source": [
    "content = content.lower()"
   ]
  },
  {
   "cell_type": "code",
   "execution_count": 143,
   "metadata": {},
   "outputs": [
    {
     "data": {
      "text/plain": [
       "str"
      ]
     },
     "execution_count": 143,
     "metadata": {},
     "output_type": "execute_result"
    }
   ],
   "source": [
    "type(content)"
   ]
  },
  {
   "cell_type": "code",
   "execution_count": 144,
   "metadata": {},
   "outputs": [],
   "source": [
    "content = content.strip('\\n')"
   ]
  },
  {
   "cell_type": "code",
   "execution_count": 145,
   "metadata": {},
   "outputs": [],
   "source": [
    "content = content.replace('\\n','')\n"
   ]
  },
  {
   "cell_type": "code",
   "execution_count": 146,
   "metadata": {},
   "outputs": [],
   "source": [
    "content = content.replace('\\xa0',' ')"
   ]
  },
  {
   "cell_type": "code",
   "execution_count": 148,
   "metadata": {},
   "outputs": [],
   "source": [
    "content = content.strip('(')\n",
    "content = content.replace('(',\"\")"
   ]
  },
  {
   "cell_type": "code",
   "execution_count": 149,
   "metadata": {},
   "outputs": [],
   "source": [
    "content = content.strip(')')\n",
    "content = content.replace(')',\"\")"
   ]
  },
  {
   "cell_type": "code",
   "execution_count": 150,
   "metadata": {},
   "outputs": [
    {
     "data": {
      "text/plain": [
       "\"esc8kemploymntagrmnt0110.htmu.s.securities and exchange commissionwashington,d.c.  20549____________form8-kcurrentreportpursuantto section 13 or 15d ofthesecurities exchange act of 1934date of report date of earliest eventreported:  january 5,2010emerituscorporationexactname of registrant as specified in charterwashington1-1401291-1605464stateor other jurisdiction of incorporationcommissionfile numberirsemployer identification no.3131elliott avenue, suite 500seattle,washington 98121addressof principal executive offices zip code206298-2909registrant'stelephone number, including area codecheck theappropriate box below if the form 8-k filing is intended to simultaneouslysatisfy the filing obligation of the registrant under any of the followingprovisions:owritten communications pursuant to rule 425 under the securities act 17cfr 230.425osoliciting material pursuant to rule 14a-12 under the exchange act 17 cfr240.14a-12opre-commencement communications pursuant to rule 14d-2b under theexchange act 17 cfr 240.14d-2bo pre-commencement communicationspursuant to rule 13e-4c under the exchange act 17 cfr240.13e-4citem 5.02departureof directors or certain officers; election of directors; appointment ofcertain officers; compensatory arrangements of certainofficers.ondecember 3, 2009, emeritus corporation “emeritus” or the “company” filed acurrent report on form 8-k with the securities and exchange commissionannouncing the appointment of robert bateman, age 47, as the company's executivevice president—finance and chief financial officer effective december 21,2009.  raymond r. brandstrom, the company's previous executive vicepresident—finance and chief financial officer and one of the original foundersof emeritus, resigned his position effective december 21, 2009.  mr.brandstrom will continue his employment with the company in an advisory capacityand will remain as a member of the company's board of directors serving as vicechairman and secretary.inconnection with his continued employment, mr. brandstrom has entered into anemployment contract with the company effective january 1, 2010 and continuingthrough december 31, 2014 the “agreement”.  mr. brandstrom’s basesalary under the agreement will be $295,750 in 2010, $203,931 in 2011, $152,948in 2012 and $100 per year in 2013 and 2014.  mr. brandstrom isentitled to receive incentive compensation for services performed in2009.  in lieu of stock option awards that have been earned but notgranted to mr. brandstrom, he will be paid $139,000 in cash, which amount willbe grossed up for federal income taxes payable.  as long as mr.brandstrom remains a director of emeritus, he will receive options to purchaseemeritus common stock in amounts equal to the annual outside directorgrants.  once mr. brandstrom is no longer an employee of the company,each of mr. brandstrom's outstanding stock options will vest and he will haveuntil the earlier of a two years after termination of employment and b thelast day of the option term to exercise each option.mr.brandstrom and his family will continue to be covered by the company’s executivebenefit plan through december 31, 2013, which includes medical and dentalinsurance, $250,000 of life insurance, participation in the company’snon-qualified deferred compensation plan, long-term disability insurance and anautomobile allowance.  in the event of mr. brandstrom’s death duringthe term of this agreement, his dependents will be entitled to coverage undercobra for 36 months thereafter.if, priorto december 31, 2012, mr. brandstrom is compensated for his services as anemployee, consultant, and/or independent contractor by cpm group, inc., anaffiliate of mr. daniel baty, the company’s chairman and co-chief executiveofficer, mr. brandstrom’s salary under the agreement will be reduced by fiftypercent 50% of the amount of that compensation.theforegoing summary of mr. brandstrom’s employment agreement is qualified in itsentirety by reference to the employment agreement, filed herewith as exhibit10.1.item9.01                      financialstatements andexhibits.d           exhibitsexhibitno.                                description10.1employmentagreement between emeritus corporation and raymond r. brandstrom, jr.effective january 1, 2010.signaturepursuantto the requirements of the securities exchange act of 1934, as amended, theregistrant has duly caused this report to be signed on its behalf by theundersigned, hereunto duly authorized.january11, 2010emerituscorporationby:/s/robert c. batemanrobertc. bateman, executive vice president—financeand chief financial officerindexto exhibitsexhibitno.                                description10.1employmentagreement between emeritus corporation and raymond r. brandstrom, jr.effective january 1, 2010.\""
      ]
     },
     "execution_count": 150,
     "metadata": {},
     "output_type": "execute_result"
    }
   ],
   "source": [
    "content"
   ]
  },
  {
   "cell_type": "code",
   "execution_count": null,
   "metadata": {},
   "outputs": [],
   "source": []
  },
  {
   "cell_type": "code",
   "execution_count": null,
   "metadata": {},
   "outputs": [],
   "source": [
    "## tokenzised into words"
   ]
  },
  {
   "cell_type": "code",
   "execution_count": 151,
   "metadata": {},
   "outputs": [],
   "source": [
    "from nltk.tokenize import sent_tokenize,word_tokenize"
   ]
  },
  {
   "cell_type": "code",
   "execution_count": 152,
   "metadata": {},
   "outputs": [
    {
     "name": "stdout",
     "output_type": "stream",
     "text": [
      "['esc8kemploymntagrmnt0110.htmu.s.securities', 'and', 'exchange', 'commissionwashington', ',', 'd.c', '.', '20549____________form8-kcurrentreportpursuantto', 'section', '13', 'or', '15d', 'ofthesecurities', 'exchange', 'act', 'of', '1934date', 'of', 'report', 'date', 'of', 'earliest', 'eventreported', ':', 'january', '5,2010emerituscorporationexactname', 'of', 'registrant', 'as', 'specified', 'in', 'charterwashington1-1401291-1605464stateor', 'other', 'jurisdiction', 'of', 'incorporationcommissionfile', 'numberirsemployer', 'identification', 'no.3131elliott', 'avenue', ',', 'suite', '500seattle', ',', 'washington', '98121addressof', 'principal', 'executive', 'offices', 'zip', \"code206298-2909registrant'stelephone\", 'number', ',', 'including', 'area', 'codecheck', 'theappropriate', 'box', 'below', 'if', 'the', 'form', '8-k', 'filing', 'is', 'intended', 'to', 'simultaneouslysatisfy', 'the', 'filing', 'obligation', 'of', 'the', 'registrant', 'under', 'any', 'of', 'the', 'followingprovisions', ':', 'owritten', 'communications', 'pursuant', 'to', 'rule', '425', 'under', 'the', 'securities', 'act', '17cfr', '230.425osoliciting', 'material', 'pursuant', 'to', 'rule', '14a-12', 'under', 'the', 'exchange', 'act', '17', 'cfr240.14a-12opre-commencement', 'communications', 'pursuant', 'to', 'rule', '14d-2b', 'under', 'theexchange', 'act', '17', 'cfr', '240.14d-2bo', 'pre-commencement', 'communicationspursuant', 'to', 'rule', '13e-4c', 'under', 'the', 'exchange', 'act', '17', 'cfr240.13e-4citem', '5.02departureof', 'directors', 'or', 'certain', 'officers', ';', 'election', 'of', 'directors', ';', 'appointment', 'ofcertain', 'officers', ';', 'compensatory', 'arrangements', 'of', 'certainofficers.ondecember', '3', ',', '2009', ',', 'emeritus', 'corporation', '“', 'emeritus', '”', 'or', 'the', '“', 'company', '”', 'filed', 'acurrent', 'report', 'on', 'form', '8-k', 'with', 'the', 'securities', 'and', 'exchange', 'commissionannouncing', 'the', 'appointment', 'of', 'robert', 'bateman', ',', 'age', '47', ',', 'as', 'the', 'company', \"'s\", 'executivevice', 'president—finance', 'and', 'chief', 'financial', 'officer', 'effective', 'december', '21,2009.', 'raymond', 'r.', 'brandstrom', ',', 'the', 'company', \"'s\", 'previous', 'executive', 'vicepresident—finance', 'and', 'chief', 'financial', 'officer', 'and', 'one', 'of', 'the', 'original', 'foundersof', 'emeritus', ',', 'resigned', 'his', 'position', 'effective', 'december', '21', ',', '2009.', 'mr.brandstrom', 'will', 'continue', 'his', 'employment', 'with', 'the', 'company', 'in', 'an', 'advisory', 'capacityand', 'will', 'remain', 'as', 'a', 'member', 'of', 'the', 'company', \"'s\", 'board', 'of', 'directors', 'serving', 'as', 'vicechairman', 'and', 'secretary.inconnection', 'with', 'his', 'continued', 'employment', ',', 'mr.', 'brandstrom', 'has', 'entered', 'into', 'anemployment', 'contract', 'with', 'the', 'company', 'effective', 'january', '1', ',', '2010', 'and', 'continuingthrough', 'december', '31', ',', '2014', 'the', '“', 'agreement', '”', '.', 'mr.', 'brandstrom', '’', 's', 'basesalary', 'under', 'the', 'agreement', 'will', 'be', '$', '295,750', 'in', '2010', ',', '$', '203,931', 'in', '2011', ',', '$', '152,948in', '2012', 'and', '$', '100', 'per', 'year', 'in', '2013', 'and', '2014.', 'mr.', 'brandstrom', 'isentitled', 'to', 'receive', 'incentive', 'compensation', 'for', 'services', 'performed', 'in2009', '.', 'in', 'lieu', 'of', 'stock', 'option', 'awards', 'that', 'have', 'been', 'earned', 'but', 'notgranted', 'to', 'mr.', 'brandstrom', ',', 'he', 'will', 'be', 'paid', '$', '139,000', 'in', 'cash', ',', 'which', 'amount', 'willbe', 'grossed', 'up', 'for', 'federal', 'income', 'taxes', 'payable', '.', 'as', 'long', 'as', 'mr.brandstrom', 'remains', 'a', 'director', 'of', 'emeritus', ',', 'he', 'will', 'receive', 'options', 'to', 'purchaseemeritus', 'common', 'stock', 'in', 'amounts', 'equal', 'to', 'the', 'annual', 'outside', 'directorgrants', '.', 'once', 'mr.', 'brandstrom', 'is', 'no', 'longer', 'an', 'employee', 'of', 'the', 'company', ',', 'each', 'of', 'mr.', 'brandstrom', \"'s\", 'outstanding', 'stock', 'options', 'will', 'vest', 'and', 'he', 'will', 'haveuntil', 'the', 'earlier', 'of', 'a', 'two', 'years', 'after', 'termination', 'of', 'employment', 'and', 'b', 'thelast', 'day', 'of', 'the', 'option', 'term', 'to', 'exercise', 'each', 'option.mr.brandstrom', 'and', 'his', 'family', 'will', 'continue', 'to', 'be', 'covered', 'by', 'the', 'company', '’', 's', 'executivebenefit', 'plan', 'through', 'december', '31', ',', '2013', ',', 'which', 'includes', 'medical', 'and', 'dentalinsurance', ',', '$', '250,000', 'of', 'life', 'insurance', ',', 'participation', 'in', 'the', 'company', '’', 'snon-qualified', 'deferred', 'compensation', 'plan', ',', 'long-term', 'disability', 'insurance', 'and', 'anautomobile', 'allowance', '.', 'in', 'the', 'event', 'of', 'mr.', 'brandstrom', '’', 's', 'death', 'duringthe', 'term', 'of', 'this', 'agreement', ',', 'his', 'dependents', 'will', 'be', 'entitled', 'to', 'coverage', 'undercobra', 'for', '36', 'months', 'thereafter.if', ',', 'priorto', 'december', '31', ',', '2012', ',', 'mr.', 'brandstrom', 'is', 'compensated', 'for', 'his', 'services', 'as', 'anemployee', ',', 'consultant', ',', 'and/or', 'independent', 'contractor', 'by', 'cpm', 'group', ',', 'inc.', ',', 'anaffiliate', 'of', 'mr.', 'daniel', 'baty', ',', 'the', 'company', '’', 's', 'chairman', 'and', 'co-chief', 'executiveofficer', ',', 'mr.', 'brandstrom', '’', 's', 'salary', 'under', 'the', 'agreement', 'will', 'be', 'reduced', 'by', 'fiftypercent', '50', '%', 'of', 'the', 'amount', 'of', 'that', 'compensation.theforegoing', 'summary', 'of', 'mr.', 'brandstrom', '’', 's', 'employment', 'agreement', 'is', 'qualified', 'in', 'itsentirety', 'by', 'reference', 'to', 'the', 'employment', 'agreement', ',', 'filed', 'herewith', 'as', 'exhibit10.1.item9.01', 'financialstatements', 'andexhibits.d', 'exhibitsexhibitno', '.', 'description10.1employmentagreement', 'between', 'emeritus', 'corporation', 'and', 'raymond', 'r.', 'brandstrom', ',', 'jr.effective', 'january', '1', ',', '2010.signaturepursuantto', 'the', 'requirements', 'of', 'the', 'securities', 'exchange', 'act', 'of', '1934', ',', 'as', 'amended', ',', 'theregistrant', 'has', 'duly', 'caused', 'this', 'report', 'to', 'be', 'signed', 'on', 'its', 'behalf', 'by', 'theundersigned', ',', 'hereunto', 'duly', 'authorized.january11', ',', '2010emerituscorporationby', ':', '/s/robert', 'c.', 'batemanrobertc', '.', 'bateman', ',', 'executive', 'vice', 'president—financeand', 'chief', 'financial', 'officerindexto', 'exhibitsexhibitno', '.', 'description10.1employmentagreement', 'between', 'emeritus', 'corporation', 'and', 'raymond', 'r.', 'brandstrom', ',', 'jr.effective', 'january', '1', ',', '2010', '.']\n"
     ]
    }
   ],
   "source": [
    "word_list = word_tokenize(content)\n",
    "print(word_list)"
   ]
  },
  {
   "cell_type": "code",
   "execution_count": 194,
   "metadata": {},
   "outputs": [
    {
     "data": {
      "text/plain": [
       "list"
      ]
     },
     "execution_count": 194,
     "metadata": {},
     "output_type": "execute_result"
    }
   ],
   "source": [
    "type(word_list)"
   ]
  },
  {
   "cell_type": "code",
   "execution_count": 153,
   "metadata": {},
   "outputs": [],
   "source": [
    "##removed stopwords\n",
    "from nltk.corpus import stopwords\n",
    "\n",
    "sw  = set(stopwords.words('english'))"
   ]
  },
  {
   "cell_type": "code",
   "execution_count": 154,
   "metadata": {},
   "outputs": [
    {
     "name": "stdout",
     "output_type": "stream",
     "text": [
      "['esc8kemploymntagrmnt0110.htmu.s.securities', 'exchange', 'commissionwashington', ',', 'd.c', '.', '20549____________form8-kcurrentreportpursuantto', 'section', '13', '15d', 'ofthesecurities', 'exchange', 'act', '1934date', 'report', 'date', 'earliest', 'eventreported', ':', 'january', '5,2010emerituscorporationexactname', 'registrant', 'specified', 'charterwashington1-1401291-1605464stateor', 'jurisdiction', 'incorporationcommissionfile', 'numberirsemployer', 'identification', 'no.3131elliott', 'avenue', ',', 'suite', '500seattle', ',', 'washington', '98121addressof', 'principal', 'executive', 'offices', 'zip', \"code206298-2909registrant'stelephone\", 'number', ',', 'including', 'area', 'codecheck', 'theappropriate', 'box', 'form', '8-k', 'filing', 'intended', 'simultaneouslysatisfy', 'filing', 'obligation', 'registrant', 'followingprovisions', ':', 'owritten', 'communications', 'pursuant', 'rule', '425', 'securities', 'act', '17cfr', '230.425osoliciting', 'material', 'pursuant', 'rule', '14a-12', 'exchange', 'act', '17', 'cfr240.14a-12opre-commencement', 'communications', 'pursuant', 'rule', '14d-2b', 'theexchange', 'act', '17', 'cfr', '240.14d-2bo', 'pre-commencement', 'communicationspursuant', 'rule', '13e-4c', 'exchange', 'act', '17', 'cfr240.13e-4citem', '5.02departureof', 'directors', 'certain', 'officers', ';', 'election', 'directors', ';', 'appointment', 'ofcertain', 'officers', ';', 'compensatory', 'arrangements', 'certainofficers.ondecember', '3', ',', '2009', ',', 'emeritus', 'corporation', '“', 'emeritus', '”', '“', 'company', '”', 'filed', 'acurrent', 'report', 'form', '8-k', 'securities', 'exchange', 'commissionannouncing', 'appointment', 'robert', 'bateman', ',', 'age', '47', ',', 'company', \"'s\", 'executivevice', 'president—finance', 'chief', 'financial', 'officer', 'effective', 'december', '21,2009.', 'raymond', 'r.', 'brandstrom', ',', 'company', \"'s\", 'previous', 'executive', 'vicepresident—finance', 'chief', 'financial', 'officer', 'one', 'original', 'foundersof', 'emeritus', ',', 'resigned', 'position', 'effective', 'december', '21', ',', '2009.', 'mr.brandstrom', 'continue', 'employment', 'company', 'advisory', 'capacityand', 'remain', 'member', 'company', \"'s\", 'board', 'directors', 'serving', 'vicechairman', 'secretary.inconnection', 'continued', 'employment', ',', 'mr.', 'brandstrom', 'entered', 'anemployment', 'contract', 'company', 'effective', 'january', '1', ',', '2010', 'continuingthrough', 'december', '31', ',', '2014', '“', 'agreement', '”', '.', 'mr.', 'brandstrom', '’', 'basesalary', 'agreement', '$', '295,750', '2010', ',', '$', '203,931', '2011', ',', '$', '152,948in', '2012', '$', '100', 'per', 'year', '2013', '2014.', 'mr.', 'brandstrom', 'isentitled', 'receive', 'incentive', 'compensation', 'services', 'performed', 'in2009', '.', 'lieu', 'stock', 'option', 'awards', 'earned', 'notgranted', 'mr.', 'brandstrom', ',', 'paid', '$', '139,000', 'cash', ',', 'amount', 'willbe', 'grossed', 'federal', 'income', 'taxes', 'payable', '.', 'long', 'mr.brandstrom', 'remains', 'director', 'emeritus', ',', 'receive', 'options', 'purchaseemeritus', 'common', 'stock', 'amounts', 'equal', 'annual', 'outside', 'directorgrants', '.', 'mr.', 'brandstrom', 'longer', 'employee', 'company', ',', 'mr.', 'brandstrom', \"'s\", 'outstanding', 'stock', 'options', 'vest', 'haveuntil', 'earlier', 'two', 'years', 'termination', 'employment', 'b', 'thelast', 'day', 'option', 'term', 'exercise', 'option.mr.brandstrom', 'family', 'continue', 'covered', 'company', '’', 'executivebenefit', 'plan', 'december', '31', ',', '2013', ',', 'includes', 'medical', 'dentalinsurance', ',', '$', '250,000', 'life', 'insurance', ',', 'participation', 'company', '’', 'snon-qualified', 'deferred', 'compensation', 'plan', ',', 'long-term', 'disability', 'insurance', 'anautomobile', 'allowance', '.', 'event', 'mr.', 'brandstrom', '’', 'death', 'duringthe', 'term', 'agreement', ',', 'dependents', 'entitled', 'coverage', 'undercobra', '36', 'months', 'thereafter.if', ',', 'priorto', 'december', '31', ',', '2012', ',', 'mr.', 'brandstrom', 'compensated', 'services', 'anemployee', ',', 'consultant', ',', 'and/or', 'independent', 'contractor', 'cpm', 'group', ',', 'inc.', ',', 'anaffiliate', 'mr.', 'daniel', 'baty', ',', 'company', '’', 'chairman', 'co-chief', 'executiveofficer', ',', 'mr.', 'brandstrom', '’', 'salary', 'agreement', 'reduced', 'fiftypercent', '50', '%', 'amount', 'compensation.theforegoing', 'summary', 'mr.', 'brandstrom', '’', 'employment', 'agreement', 'qualified', 'itsentirety', 'reference', 'employment', 'agreement', ',', 'filed', 'herewith', 'exhibit10.1.item9.01', 'financialstatements', 'andexhibits.d', 'exhibitsexhibitno', '.', 'description10.1employmentagreement', 'emeritus', 'corporation', 'raymond', 'r.', 'brandstrom', ',', 'jr.effective', 'january', '1', ',', '2010.signaturepursuantto', 'requirements', 'securities', 'exchange', 'act', '1934', ',', 'amended', ',', 'theregistrant', 'duly', 'caused', 'report', 'signed', 'behalf', 'theundersigned', ',', 'hereunto', 'duly', 'authorized.january11', ',', '2010emerituscorporationby', ':', '/s/robert', 'c.', 'batemanrobertc', '.', 'bateman', ',', 'executive', 'vice', 'president—financeand', 'chief', 'financial', 'officerindexto', 'exhibitsexhibitno', '.', 'description10.1employmentagreement', 'emeritus', 'corporation', 'raymond', 'r.', 'brandstrom', ',', 'jr.effective', 'january', '1', ',', '2010', '.']\n"
     ]
    }
   ],
   "source": [
    "def filter_words(word_list):\n",
    "    useful_words = [w for w in word_list if w not in sw]\n",
    "    return useful_words\n",
    "\n",
    "    \n",
    "useful_words= filter_words(word_list)\n"
   ]
  },
  {
   "cell_type": "code",
   "execution_count": 162,
   "metadata": {},
   "outputs": [
    {
     "data": {
      "text/plain": [
       "479"
      ]
     },
     "execution_count": 162,
     "metadata": {},
     "output_type": "execute_result"
    }
   ],
   "source": [
    "len(useful_words)"
   ]
  },
  {
   "cell_type": "code",
   "execution_count": 155,
   "metadata": {},
   "outputs": [],
   "source": [
    "import string"
   ]
  },
  {
   "cell_type": "code",
   "execution_count": 169,
   "metadata": {},
   "outputs": [
    {
     "name": "stdout",
     "output_type": "stream",
     "text": [
      "['esc8kemploymntagrmnt0110htmussecurities', 'exchange', 'commissionwashington', '', 'dc', '', '20549form8kcurrentreportpursuantto', 'section', '13', '15d', 'ofthesecurities', 'exchange', 'act', '1934date', 'report', 'date', 'earliest', 'eventreported', '', 'january', '52010emerituscorporationexactname', 'registrant', 'specified', 'charterwashington114012911605464stateor', 'jurisdiction', 'incorporationcommissionfile', 'numberirsemployer', 'identification', 'no3131elliott', 'avenue', '', 'suite', '500seattle', '', 'washington', '98121addressof', 'principal', 'executive', 'offices', 'zip', 'code2062982909registrantstelephone', 'number', '', 'including', 'area', 'codecheck', 'theappropriate', 'box', 'form', '8k', 'filing', 'intended', 'simultaneouslysatisfy', 'filing', 'obligation', 'registrant', 'followingprovisions', '', 'owritten', 'communications', 'pursuant', 'rule', '425', 'securities', 'act', '17cfr', '230425osoliciting', 'material', 'pursuant', 'rule', '14a12', 'exchange', 'act', '17', 'cfr24014a12oprecommencement', 'communications', 'pursuant', 'rule', '14d2b', 'theexchange', 'act', '17', 'cfr', '24014d2bo', 'precommencement', 'communicationspursuant', 'rule', '13e4c', 'exchange', 'act', '17', 'cfr24013e4citem', '502departureof', 'directors', 'certain', 'officers', '', 'election', 'directors', '']\n"
     ]
    }
   ],
   "source": [
    "#removed punctuation\n",
    "table = str.maketrans('', '', string.punctuation)\n",
    "stripped = [w.translate(table) for w in useful_words]\n",
    "print(stripped[:100])"
   ]
  },
  {
   "cell_type": "code",
   "execution_count": 165,
   "metadata": {},
   "outputs": [
    {
     "data": {
      "text/plain": [
       "479"
      ]
     },
     "execution_count": 165,
     "metadata": {},
     "output_type": "execute_result"
    }
   ],
   "source": [
    "len(stripped)"
   ]
  },
  {
   "cell_type": "code",
   "execution_count": 181,
   "metadata": {},
   "outputs": [],
   "source": [
    "##removed empty strings\n",
    "stripped = list(filter(None, stripped))"
   ]
  },
  {
   "cell_type": "code",
   "execution_count": 183,
   "metadata": {},
   "outputs": [
    {
     "data": {
      "text/plain": [
       "411"
      ]
     },
     "execution_count": 183,
     "metadata": {},
     "output_type": "execute_result"
    }
   ],
   "source": [
    "len(stripped)"
   ]
  },
  {
   "cell_type": "code",
   "execution_count": 193,
   "metadata": {
    "scrolled": true
   },
   "outputs": [
    {
     "data": {
      "text/plain": [
       "['esc8kemploymntagrmnt0110htmussecurities',\n",
       " 'exchange',\n",
       " 'commissionwashington',\n",
       " 'dc',\n",
       " '20549form8kcurrentreportpursuantto',\n",
       " 'section',\n",
       " '13',\n",
       " '15d',\n",
       " 'ofthesecurities',\n",
       " 'exchange']"
      ]
     },
     "execution_count": 193,
     "metadata": {},
     "output_type": "execute_result"
    }
   ],
   "source": [
    "stripped[:10]"
   ]
  },
  {
   "cell_type": "code",
   "execution_count": 189,
   "metadata": {},
   "outputs": [],
   "source": [
    "### Lemmatization\n",
    "from nltk.stem import WordNetLemmatizer\n",
    "\n",
    "l = WordNetLemmatizer()"
   ]
  },
  {
   "cell_type": "code",
   "execution_count": 190,
   "metadata": {},
   "outputs": [],
   "source": [
    "lem_words = []\n",
    "for w in stripped:\n",
    "    lem_words.append(l.lemmatize(w))"
   ]
  },
  {
   "cell_type": "code",
   "execution_count": 191,
   "metadata": {},
   "outputs": [
    {
     "data": {
      "text/plain": [
       "['esc8kemploymntagrmnt0110htmussecurities',\n",
       " 'exchange',\n",
       " 'commissionwashington',\n",
       " 'dc',\n",
       " '20549form8kcurrentreportpursuantto',\n",
       " 'section',\n",
       " '13',\n",
       " '15d',\n",
       " 'ofthesecurities',\n",
       " 'exchange',\n",
       " 'act',\n",
       " '1934date',\n",
       " 'report',\n",
       " 'date',\n",
       " 'earliest',\n",
       " 'eventreported',\n",
       " 'january',\n",
       " '52010emerituscorporationexactname',\n",
       " 'registrant',\n",
       " 'specified']"
      ]
     },
     "execution_count": 191,
     "metadata": {},
     "output_type": "execute_result"
    }
   ],
   "source": [
    "lem_words[:20]"
   ]
  },
  {
   "cell_type": "code",
   "execution_count": 192,
   "metadata": {},
   "outputs": [
    {
     "data": {
      "text/plain": [
       "411"
      ]
     },
     "execution_count": 192,
     "metadata": {},
     "output_type": "execute_result"
    }
   ],
   "source": [
    "len(lem_words)"
   ]
  },
  {
   "cell_type": "code",
   "execution_count": null,
   "metadata": {},
   "outputs": [],
   "source": []
  }
 ],
 "metadata": {
  "kernelspec": {
   "display_name": "Python 3",
   "language": "python",
   "name": "python3"
  },
  "language_info": {
   "codemirror_mode": {
    "name": "ipython",
    "version": 3
   },
   "file_extension": ".py",
   "mimetype": "text/x-python",
   "name": "python",
   "nbconvert_exporter": "python",
   "pygments_lexer": "ipython3",
   "version": "3.6.5"
  }
 },
 "nbformat": 4,
 "nbformat_minor": 2
}
